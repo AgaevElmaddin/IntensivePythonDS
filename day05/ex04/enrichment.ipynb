{
 "cells": [
  {
   "cell_type": "markdown",
   "metadata": {
    "collapsed": true,
    "pycharm": {
     "name": "#%% md\n"
    }
   },
   "source": [
    "## Imports"
   ]
  },
  {
   "cell_type": "code",
   "execution_count": 28,
   "outputs": [],
   "source": [
    "import pandas as pd\n",
    "import numpy as np\n",
    "import requests"
   ],
   "metadata": {
    "collapsed": false,
    "pycharm": {
     "name": "#%%\n"
    }
   }
  },
  {
   "cell_type": "markdown",
   "source": [
    "## read the JSON file that you saved in ex02"
   ],
   "metadata": {
    "collapsed": false,
    "pycharm": {
     "name": "#%% md\n"
    }
   }
  },
  {
   "cell_type": "code",
   "execution_count": 29,
   "outputs": [
    {
     "data": {
      "text/plain": "      CarNumber  Refund   Fines    Make  Model\n0  Y163O8161RUS       2 3200.00    Ford  Focus\n1   E432XX77RUS       1 6500.00  Toyota  Camry\n2   7184TT36RUS       1 2100.00    Ford  Focus\n3  X582HE161RUS       2 2000.00    Ford  Focus\n4  92918M178RUS       1 5700.00    Ford  Focus",
      "text/html": "<div>\n<style scoped>\n    .dataframe tbody tr th:only-of-type {\n        vertical-align: middle;\n    }\n\n    .dataframe tbody tr th {\n        vertical-align: top;\n    }\n\n    .dataframe thead th {\n        text-align: right;\n    }\n</style>\n<table border=\"1\" class=\"dataframe\">\n  <thead>\n    <tr style=\"text-align: right;\">\n      <th></th>\n      <th>CarNumber</th>\n      <th>Refund</th>\n      <th>Fines</th>\n      <th>Make</th>\n      <th>Model</th>\n    </tr>\n  </thead>\n  <tbody>\n    <tr>\n      <th>0</th>\n      <td>Y163O8161RUS</td>\n      <td>2</td>\n      <td>3200.00</td>\n      <td>Ford</td>\n      <td>Focus</td>\n    </tr>\n    <tr>\n      <th>1</th>\n      <td>E432XX77RUS</td>\n      <td>1</td>\n      <td>6500.00</td>\n      <td>Toyota</td>\n      <td>Camry</td>\n    </tr>\n    <tr>\n      <th>2</th>\n      <td>7184TT36RUS</td>\n      <td>1</td>\n      <td>2100.00</td>\n      <td>Ford</td>\n      <td>Focus</td>\n    </tr>\n    <tr>\n      <th>3</th>\n      <td>X582HE161RUS</td>\n      <td>2</td>\n      <td>2000.00</td>\n      <td>Ford</td>\n      <td>Focus</td>\n    </tr>\n    <tr>\n      <th>4</th>\n      <td>92918M178RUS</td>\n      <td>1</td>\n      <td>5700.00</td>\n      <td>Ford</td>\n      <td>Focus</td>\n    </tr>\n  </tbody>\n</table>\n</div>"
     },
     "execution_count": 29,
     "metadata": {},
     "output_type": "execute_result"
    }
   ],
   "source": [
    "df = pd.read_json('../data/auto.json', orient='records')\n",
    "df.head()"
   ],
   "metadata": {
    "collapsed": false,
    "pycharm": {
     "name": "#%%\n"
    }
   }
  },
  {
   "cell_type": "markdown",
   "source": [
    "#### one of the columns has the float type, so let us define the format of it in pandas using\n",
    "#### pd.options.display.float_format: floats should be displayed with two decimals"
   ],
   "metadata": {
    "collapsed": false,
    "pycharm": {
     "name": "#%% md\n"
    }
   }
  },
  {
   "cell_type": "code",
   "execution_count": 30,
   "outputs": [
    {
     "data": {
      "text/plain": "      CarNumber  Refund   Fines    Make  Model\n0  Y163O8161RUS       2 3200.00    Ford  Focus\n1   E432XX77RUS       1 6500.00  Toyota  Camry\n2   7184TT36RUS       1 2100.00    Ford  Focus\n3  X582HE161RUS       2 2000.00    Ford  Focus\n4  92918M178RUS       1 5700.00    Ford  Focus",
      "text/html": "<div>\n<style scoped>\n    .dataframe tbody tr th:only-of-type {\n        vertical-align: middle;\n    }\n\n    .dataframe tbody tr th {\n        vertical-align: top;\n    }\n\n    .dataframe thead th {\n        text-align: right;\n    }\n</style>\n<table border=\"1\" class=\"dataframe\">\n  <thead>\n    <tr style=\"text-align: right;\">\n      <th></th>\n      <th>CarNumber</th>\n      <th>Refund</th>\n      <th>Fines</th>\n      <th>Make</th>\n      <th>Model</th>\n    </tr>\n  </thead>\n  <tbody>\n    <tr>\n      <th>0</th>\n      <td>Y163O8161RUS</td>\n      <td>2</td>\n      <td>3200.00</td>\n      <td>Ford</td>\n      <td>Focus</td>\n    </tr>\n    <tr>\n      <th>1</th>\n      <td>E432XX77RUS</td>\n      <td>1</td>\n      <td>6500.00</td>\n      <td>Toyota</td>\n      <td>Camry</td>\n    </tr>\n    <tr>\n      <th>2</th>\n      <td>7184TT36RUS</td>\n      <td>1</td>\n      <td>2100.00</td>\n      <td>Ford</td>\n      <td>Focus</td>\n    </tr>\n    <tr>\n      <th>3</th>\n      <td>X582HE161RUS</td>\n      <td>2</td>\n      <td>2000.00</td>\n      <td>Ford</td>\n      <td>Focus</td>\n    </tr>\n    <tr>\n      <th>4</th>\n      <td>92918M178RUS</td>\n      <td>1</td>\n      <td>5700.00</td>\n      <td>Ford</td>\n      <td>Focus</td>\n    </tr>\n  </tbody>\n</table>\n</div>"
     },
     "execution_count": 30,
     "metadata": {},
     "output_type": "execute_result"
    }
   ],
   "source": [
    "pd.options.display.float_format = '{:.2f}'.format\n",
    "df.head()"
   ],
   "metadata": {
    "collapsed": false,
    "pycharm": {
     "name": "#%%\n"
    }
   }
  },
  {
   "cell_type": "markdown",
   "source": [
    "#### enrich the DataFrame using a sample from the DataFrame"
   ],
   "metadata": {
    "collapsed": false,
    "pycharm": {
     "name": "#%% md\n"
    }
   }
  },
  {
   "cell_type": "code",
   "execution_count": 31,
   "outputs": [
    {
     "data": {
      "text/plain": "      CarNumber  Refund    Fines  Make  Model\n0  M0299X197RUS       2 19200.00  Ford  Focus\n1  83298C154RUS       2  8594.59  Ford  Focus\n2  H957HY161RUS       1  2000.00  Ford  Focus\n3   T941CC96RUS       1  2000.00  Ford  Focus\n4  H966HY161RUS       1   500.00  Ford  Focus",
      "text/html": "<div>\n<style scoped>\n    .dataframe tbody tr th:only-of-type {\n        vertical-align: middle;\n    }\n\n    .dataframe tbody tr th {\n        vertical-align: top;\n    }\n\n    .dataframe thead th {\n        text-align: right;\n    }\n</style>\n<table border=\"1\" class=\"dataframe\">\n  <thead>\n    <tr style=\"text-align: right;\">\n      <th></th>\n      <th>CarNumber</th>\n      <th>Refund</th>\n      <th>Fines</th>\n      <th>Make</th>\n      <th>Model</th>\n    </tr>\n  </thead>\n  <tbody>\n    <tr>\n      <th>0</th>\n      <td>M0299X197RUS</td>\n      <td>2</td>\n      <td>19200.00</td>\n      <td>Ford</td>\n      <td>Focus</td>\n    </tr>\n    <tr>\n      <th>1</th>\n      <td>83298C154RUS</td>\n      <td>2</td>\n      <td>8594.59</td>\n      <td>Ford</td>\n      <td>Focus</td>\n    </tr>\n    <tr>\n      <th>2</th>\n      <td>H957HY161RUS</td>\n      <td>1</td>\n      <td>2000.00</td>\n      <td>Ford</td>\n      <td>Focus</td>\n    </tr>\n    <tr>\n      <th>3</th>\n      <td>T941CC96RUS</td>\n      <td>1</td>\n      <td>2000.00</td>\n      <td>Ford</td>\n      <td>Focus</td>\n    </tr>\n    <tr>\n      <th>4</th>\n      <td>H966HY161RUS</td>\n      <td>1</td>\n      <td>500.00</td>\n      <td>Ford</td>\n      <td>Focus</td>\n    </tr>\n  </tbody>\n</table>\n</div>"
     },
     "execution_count": 31,
     "metadata": {},
     "output_type": "execute_result"
    }
   ],
   "source": [
    "sample_200 = df.sample(n=200, random_state=21).reset_index(drop=True)\n",
    "sample_200.head()"
   ],
   "metadata": {
    "collapsed": false,
    "pycharm": {
     "name": "#%%\n"
    }
   }
  },
  {
   "cell_type": "markdown",
   "source": [
    "#### concatenate the sample with the initial dataframe to a new dataframe concat_rows"
   ],
   "metadata": {
    "collapsed": false,
    "pycharm": {
     "name": "#%% md\n"
    }
   }
  },
  {
   "cell_type": "code",
   "execution_count": 32,
   "outputs": [
    {
     "data": {
      "text/plain": "        CarNumber  Refund   Fines        Make   Model\n0    Y163O8161RUS       2 3200.00        Ford   Focus\n1     E432XX77RUS       1 6500.00      Toyota   Camry\n2     7184TT36RUS       1 2100.00        Ford   Focus\n3    X582HE161RUS       2 2000.00        Ford   Focus\n4    92918M178RUS       1 5700.00        Ford   Focus\n..            ...     ...     ...         ...     ...\n195  8182XX154RUS       1  200.00        Ford   Focus\n196   X796TH96RUS       1  500.00        Ford   Focus\n197  T011MY163RUS       2 4000.00        Ford   Focus\n198   T341CC96RUS       2 1000.00  Volkswagen  Passat\n199   T119CT96RUS       1 2000.00        Ford   Focus\n\n[925 rows x 5 columns]",
      "text/html": "<div>\n<style scoped>\n    .dataframe tbody tr th:only-of-type {\n        vertical-align: middle;\n    }\n\n    .dataframe tbody tr th {\n        vertical-align: top;\n    }\n\n    .dataframe thead th {\n        text-align: right;\n    }\n</style>\n<table border=\"1\" class=\"dataframe\">\n  <thead>\n    <tr style=\"text-align: right;\">\n      <th></th>\n      <th>CarNumber</th>\n      <th>Refund</th>\n      <th>Fines</th>\n      <th>Make</th>\n      <th>Model</th>\n    </tr>\n  </thead>\n  <tbody>\n    <tr>\n      <th>0</th>\n      <td>Y163O8161RUS</td>\n      <td>2</td>\n      <td>3200.00</td>\n      <td>Ford</td>\n      <td>Focus</td>\n    </tr>\n    <tr>\n      <th>1</th>\n      <td>E432XX77RUS</td>\n      <td>1</td>\n      <td>6500.00</td>\n      <td>Toyota</td>\n      <td>Camry</td>\n    </tr>\n    <tr>\n      <th>2</th>\n      <td>7184TT36RUS</td>\n      <td>1</td>\n      <td>2100.00</td>\n      <td>Ford</td>\n      <td>Focus</td>\n    </tr>\n    <tr>\n      <th>3</th>\n      <td>X582HE161RUS</td>\n      <td>2</td>\n      <td>2000.00</td>\n      <td>Ford</td>\n      <td>Focus</td>\n    </tr>\n    <tr>\n      <th>4</th>\n      <td>92918M178RUS</td>\n      <td>1</td>\n      <td>5700.00</td>\n      <td>Ford</td>\n      <td>Focus</td>\n    </tr>\n    <tr>\n      <th>...</th>\n      <td>...</td>\n      <td>...</td>\n      <td>...</td>\n      <td>...</td>\n      <td>...</td>\n    </tr>\n    <tr>\n      <th>195</th>\n      <td>8182XX154RUS</td>\n      <td>1</td>\n      <td>200.00</td>\n      <td>Ford</td>\n      <td>Focus</td>\n    </tr>\n    <tr>\n      <th>196</th>\n      <td>X796TH96RUS</td>\n      <td>1</td>\n      <td>500.00</td>\n      <td>Ford</td>\n      <td>Focus</td>\n    </tr>\n    <tr>\n      <th>197</th>\n      <td>T011MY163RUS</td>\n      <td>2</td>\n      <td>4000.00</td>\n      <td>Ford</td>\n      <td>Focus</td>\n    </tr>\n    <tr>\n      <th>198</th>\n      <td>T341CC96RUS</td>\n      <td>2</td>\n      <td>1000.00</td>\n      <td>Volkswagen</td>\n      <td>Passat</td>\n    </tr>\n    <tr>\n      <th>199</th>\n      <td>T119CT96RUS</td>\n      <td>1</td>\n      <td>2000.00</td>\n      <td>Ford</td>\n      <td>Focus</td>\n    </tr>\n  </tbody>\n</table>\n<p>925 rows × 5 columns</p>\n</div>"
     },
     "execution_count": 32,
     "metadata": {},
     "output_type": "execute_result"
    }
   ],
   "source": [
    "concat_rows = pd.concat([df, sample_200])\n",
    "concat_rows"
   ],
   "metadata": {
    "collapsed": false,
    "pycharm": {
     "name": "#%%\n"
    }
   }
  },
  {
   "cell_type": "markdown",
   "source": [
    "## enrich the dataframe concat_rows by a new column with the data generated"
   ],
   "metadata": {
    "collapsed": false,
    "pycharm": {
     "name": "#%% md\n"
    }
   }
  },
  {
   "cell_type": "code",
   "execution_count": 33,
   "outputs": [
    {
     "data": {
      "text/plain": "      CarNumber  Refund   Fines    Make  Model  Year\n0  Y163O8161RUS       2 3200.00    Ford  Focus  1989\n1   E432XX77RUS       1 6500.00  Toyota  Camry  1995\n2   7184TT36RUS       1 2100.00    Ford  Focus  1984\n3  X582HE161RUS       2 2000.00    Ford  Focus  2015\n4  92918M178RUS       1 5700.00    Ford  Focus  2014",
      "text/html": "<div>\n<style scoped>\n    .dataframe tbody tr th:only-of-type {\n        vertical-align: middle;\n    }\n\n    .dataframe tbody tr th {\n        vertical-align: top;\n    }\n\n    .dataframe thead th {\n        text-align: right;\n    }\n</style>\n<table border=\"1\" class=\"dataframe\">\n  <thead>\n    <tr style=\"text-align: right;\">\n      <th></th>\n      <th>CarNumber</th>\n      <th>Refund</th>\n      <th>Fines</th>\n      <th>Make</th>\n      <th>Model</th>\n      <th>Year</th>\n    </tr>\n  </thead>\n  <tbody>\n    <tr>\n      <th>0</th>\n      <td>Y163O8161RUS</td>\n      <td>2</td>\n      <td>3200.00</td>\n      <td>Ford</td>\n      <td>Focus</td>\n      <td>1989</td>\n    </tr>\n    <tr>\n      <th>1</th>\n      <td>E432XX77RUS</td>\n      <td>1</td>\n      <td>6500.00</td>\n      <td>Toyota</td>\n      <td>Camry</td>\n      <td>1995</td>\n    </tr>\n    <tr>\n      <th>2</th>\n      <td>7184TT36RUS</td>\n      <td>1</td>\n      <td>2100.00</td>\n      <td>Ford</td>\n      <td>Focus</td>\n      <td>1984</td>\n    </tr>\n    <tr>\n      <th>3</th>\n      <td>X582HE161RUS</td>\n      <td>2</td>\n      <td>2000.00</td>\n      <td>Ford</td>\n      <td>Focus</td>\n      <td>2015</td>\n    </tr>\n    <tr>\n      <th>4</th>\n      <td>92918M178RUS</td>\n      <td>1</td>\n      <td>5700.00</td>\n      <td>Ford</td>\n      <td>Focus</td>\n      <td>2014</td>\n    </tr>\n  </tbody>\n</table>\n</div>"
     },
     "execution_count": 33,
     "metadata": {},
     "output_type": "execute_result"
    }
   ],
   "source": [
    "np.random.seed(21)\n",
    "Year = pd.Series([np.random.randint(1980,2020) for i in range(len(concat_rows))], name='Year')\n",
    "fines = concat_rows\n",
    "fines['Year'] = Year\n",
    "fines.head()"
   ],
   "metadata": {
    "collapsed": false,
    "pycharm": {
     "name": "#%%\n"
    }
   }
  },
  {
   "cell_type": "markdown",
   "source": [
    "##  Enrich the dataframe with the data from another dataframe"
   ],
   "metadata": {
    "collapsed": false,
    "pycharm": {
     "name": "#%% md\n"
    }
   }
  },
  {
   "cell_type": "code",
   "execution_count": 34,
   "outputs": [
    {
     "data": {
      "text/plain": "          0       1     2\n0      NAME   COUNT  RANK\n1     ADAMS  427865    42\n2     ALLEN  482607    33\n3   ALVAREZ  233983    92\n4  ANDERSON  784404    15",
      "text/html": "<div>\n<style scoped>\n    .dataframe tbody tr th:only-of-type {\n        vertical-align: middle;\n    }\n\n    .dataframe tbody tr th {\n        vertical-align: top;\n    }\n\n    .dataframe thead th {\n        text-align: right;\n    }\n</style>\n<table border=\"1\" class=\"dataframe\">\n  <thead>\n    <tr style=\"text-align: right;\">\n      <th></th>\n      <th>0</th>\n      <th>1</th>\n      <th>2</th>\n    </tr>\n  </thead>\n  <tbody>\n    <tr>\n      <th>0</th>\n      <td>NAME</td>\n      <td>COUNT</td>\n      <td>RANK</td>\n    </tr>\n    <tr>\n      <th>1</th>\n      <td>ADAMS</td>\n      <td>427865</td>\n      <td>42</td>\n    </tr>\n    <tr>\n      <th>2</th>\n      <td>ALLEN</td>\n      <td>482607</td>\n      <td>33</td>\n    </tr>\n    <tr>\n      <th>3</th>\n      <td>ALVAREZ</td>\n      <td>233983</td>\n      <td>92</td>\n    </tr>\n    <tr>\n      <th>4</th>\n      <td>ANDERSON</td>\n      <td>784404</td>\n      <td>15</td>\n    </tr>\n  </tbody>\n</table>\n</div>"
     },
     "execution_count": 34,
     "metadata": {},
     "output_type": "execute_result"
    }
   ],
   "source": [
    "owners = pd.read_json('../data/surname.json')\n",
    "owners.head()"
   ],
   "metadata": {
    "collapsed": false,
    "pycharm": {
     "name": "#%%\n"
    }
   }
  },
  {
   "cell_type": "code",
   "execution_count": 35,
   "outputs": [
    {
     "data": {
      "text/plain": "0      NAME   COUNT RANK\n1     ADAMS  427865   42\n2     ALLEN  482607   33\n3   ALVAREZ  233983   92\n4  ANDERSON  784404   15\n5    BAILEY  277845   72",
      "text/html": "<div>\n<style scoped>\n    .dataframe tbody tr th:only-of-type {\n        vertical-align: middle;\n    }\n\n    .dataframe tbody tr th {\n        vertical-align: top;\n    }\n\n    .dataframe thead th {\n        text-align: right;\n    }\n</style>\n<table border=\"1\" class=\"dataframe\">\n  <thead>\n    <tr style=\"text-align: right;\">\n      <th></th>\n      <th>NAME</th>\n      <th>COUNT</th>\n      <th>RANK</th>\n    </tr>\n  </thead>\n  <tbody>\n    <tr>\n      <th>1</th>\n      <td>ADAMS</td>\n      <td>427865</td>\n      <td>42</td>\n    </tr>\n    <tr>\n      <th>2</th>\n      <td>ALLEN</td>\n      <td>482607</td>\n      <td>33</td>\n    </tr>\n    <tr>\n      <th>3</th>\n      <td>ALVAREZ</td>\n      <td>233983</td>\n      <td>92</td>\n    </tr>\n    <tr>\n      <th>4</th>\n      <td>ANDERSON</td>\n      <td>784404</td>\n      <td>15</td>\n    </tr>\n    <tr>\n      <th>5</th>\n      <td>BAILEY</td>\n      <td>277845</td>\n      <td>72</td>\n    </tr>\n  </tbody>\n</table>\n</div>"
     },
     "execution_count": 35,
     "metadata": {},
     "output_type": "execute_result"
    }
   ],
   "source": [
    "owners.columns = owners.iloc[0]\n",
    "owners = owners.drop(0)\n",
    "owners.head()"
   ],
   "metadata": {
    "collapsed": false,
    "pycharm": {
     "name": "#%%\n"
    }
   }
  },
  {
   "cell_type": "code",
   "execution_count": 36,
   "outputs": [
    {
     "data": {
      "text/plain": "        CarNumber SURNAME\n0    Y163O8161RUS   BAKER\n1     E432XX77RUS    CRUZ\n2     7184TT36RUS  MARTIN\n3    X582HE161RUS    REED\n4    92918M178RUS  COOPER\n..            ...     ...\n715  O136HO197RUS  HOWARD\n719  O22097197RUS   EVANS\n721  M0309X197RUS  ROGERS\n722  O673E8197RUS  WILSON\n723  8610T8154RUS    DIAZ\n\n[531 rows x 2 columns]",
      "text/html": "<div>\n<style scoped>\n    .dataframe tbody tr th:only-of-type {\n        vertical-align: middle;\n    }\n\n    .dataframe tbody tr th {\n        vertical-align: top;\n    }\n\n    .dataframe thead th {\n        text-align: right;\n    }\n</style>\n<table border=\"1\" class=\"dataframe\">\n  <thead>\n    <tr style=\"text-align: right;\">\n      <th></th>\n      <th>CarNumber</th>\n      <th>SURNAME</th>\n    </tr>\n  </thead>\n  <tbody>\n    <tr>\n      <th>0</th>\n      <td>Y163O8161RUS</td>\n      <td>BAKER</td>\n    </tr>\n    <tr>\n      <th>1</th>\n      <td>E432XX77RUS</td>\n      <td>CRUZ</td>\n    </tr>\n    <tr>\n      <th>2</th>\n      <td>7184TT36RUS</td>\n      <td>MARTIN</td>\n    </tr>\n    <tr>\n      <th>3</th>\n      <td>X582HE161RUS</td>\n      <td>REED</td>\n    </tr>\n    <tr>\n      <th>4</th>\n      <td>92918M178RUS</td>\n      <td>COOPER</td>\n    </tr>\n    <tr>\n      <th>...</th>\n      <td>...</td>\n      <td>...</td>\n    </tr>\n    <tr>\n      <th>715</th>\n      <td>O136HO197RUS</td>\n      <td>HOWARD</td>\n    </tr>\n    <tr>\n      <th>719</th>\n      <td>O22097197RUS</td>\n      <td>EVANS</td>\n    </tr>\n    <tr>\n      <th>721</th>\n      <td>M0309X197RUS</td>\n      <td>ROGERS</td>\n    </tr>\n    <tr>\n      <th>722</th>\n      <td>O673E8197RUS</td>\n      <td>WILSON</td>\n    </tr>\n    <tr>\n      <th>723</th>\n      <td>8610T8154RUS</td>\n      <td>DIAZ</td>\n    </tr>\n  </tbody>\n</table>\n<p>531 rows × 2 columns</p>\n</div>"
     },
     "execution_count": 36,
     "metadata": {},
     "output_type": "execute_result"
    }
   ],
   "source": [
    "owners = owners[owners['NAME'].str.contains('[a-zA-Z]')]\n",
    "surname = [np.random.choice(owners['NAME']) for x in range(len(fines['CarNumber'].drop_duplicates()))]\n",
    "owners = pd.DataFrame(fines['CarNumber'].drop_duplicates().copy())\n",
    "owners['SURNAME'] = surname\n",
    "owners"
   ],
   "metadata": {
    "collapsed": false,
    "pycharm": {
     "name": "#%%\n"
    }
   }
  },
  {
   "cell_type": "code",
   "execution_count": 37,
   "outputs": [],
   "source": [
    "def random_num_car():\n",
    "    string = np.random.choice(['A', 'B', 'E', 'K', 'M', 'H', 'O', 'P', 'C', 'T', 'Y', 'X'])\\\n",
    "        + str(np.random.randint(100, 999))\\\n",
    "        + np.random.choice(['A', 'B', 'E', 'K', 'M', 'H', 'O', 'P', 'C', 'T', 'Y', 'X'])\\\n",
    "        + np.random.choice(['A', 'B', 'E', 'K', 'M', 'H', 'O', 'P', 'C', 'T', 'Y', 'X'])\\\n",
    "        + '77RUS'\n",
    "    return string"
   ],
   "metadata": {
    "collapsed": false,
    "pycharm": {
     "name": "#%%\n"
    }
   }
  },
  {
   "cell_type": "code",
   "execution_count": 38,
   "outputs": [
    {
     "data": {
      "text/plain": "       CarNumber  Refund    Fines    Make  Model  Year\n397  K106AM77RUS       2 19200.00  Toyota  Camry  1996\n176  Y343TH77RUS       2  6700.00    Ford  Focus  2016\n386  O380BY77RUS       2   600.00    Ford  Focus  1991\n720  X134YY77RUS       1   500.00    Ford  Focus  2018\n325  H980KC77RUS       2  1500.00    Ford  Focus  2011",
      "text/html": "<div>\n<style scoped>\n    .dataframe tbody tr th:only-of-type {\n        vertical-align: middle;\n    }\n\n    .dataframe tbody tr th {\n        vertical-align: top;\n    }\n\n    .dataframe thead th {\n        text-align: right;\n    }\n</style>\n<table border=\"1\" class=\"dataframe\">\n  <thead>\n    <tr style=\"text-align: right;\">\n      <th></th>\n      <th>CarNumber</th>\n      <th>Refund</th>\n      <th>Fines</th>\n      <th>Make</th>\n      <th>Model</th>\n      <th>Year</th>\n    </tr>\n  </thead>\n  <tbody>\n    <tr>\n      <th>397</th>\n      <td>K106AM77RUS</td>\n      <td>2</td>\n      <td>19200.00</td>\n      <td>Toyota</td>\n      <td>Camry</td>\n      <td>1996</td>\n    </tr>\n    <tr>\n      <th>176</th>\n      <td>Y343TH77RUS</td>\n      <td>2</td>\n      <td>6700.00</td>\n      <td>Ford</td>\n      <td>Focus</td>\n      <td>2016</td>\n    </tr>\n    <tr>\n      <th>386</th>\n      <td>O380BY77RUS</td>\n      <td>2</td>\n      <td>600.00</td>\n      <td>Ford</td>\n      <td>Focus</td>\n      <td>1991</td>\n    </tr>\n    <tr>\n      <th>720</th>\n      <td>X134YY77RUS</td>\n      <td>1</td>\n      <td>500.00</td>\n      <td>Ford</td>\n      <td>Focus</td>\n      <td>2018</td>\n    </tr>\n    <tr>\n      <th>325</th>\n      <td>H980KC77RUS</td>\n      <td>2</td>\n      <td>1500.00</td>\n      <td>Ford</td>\n      <td>Focus</td>\n      <td>2011</td>\n    </tr>\n  </tbody>\n</table>\n</div>"
     },
     "execution_count": 38,
     "metadata": {},
     "output_type": "execute_result"
    }
   ],
   "source": [
    "new_fines = pd.DataFrame(\n",
    "    [fines[['Make', 'Model']].iloc[np.random.randint(0, len(fines))] for i in range(5)])\n",
    "new_fines['CarNumber'] = [random_num_car() for i in range(5)]\n",
    "new_fines['Refund'] = [np.random.choice(fines['Refund']) for i in range(5)]\n",
    "new_fines['Fines'] = [np.random.choice(fines['Fines']) for i in range(5)]\n",
    "new_fines['Year'] = [np.random.choice(fines['Year']) for i in range(5)]\n",
    "new_fines = new_fines[['CarNumber', 'Refund',\n",
    "                       'Fines', 'Make', 'Model', 'Year']]\n",
    "new_fines"
   ],
   "metadata": {
    "collapsed": false,
    "pycharm": {
     "name": "#%%\n"
    }
   }
  },
  {
   "cell_type": "code",
   "execution_count": 39,
   "outputs": [
    {
     "data": {
      "text/plain": "        CarNumber  Refund    Fines    Make  Model  Year\n0    Y163O8161RUS       2  3200.00    Ford  Focus  1989\n1     E432XX77RUS       1  6500.00  Toyota  Camry  1995\n2     7184TT36RUS       1  2100.00    Ford  Focus  1984\n3    X582HE161RUS       2  2000.00    Ford  Focus  2015\n4    92918M178RUS       1  5700.00    Ford  Focus  2014\n..            ...     ...      ...     ...    ...   ...\n397   K106AM77RUS       2 19200.00  Toyota  Camry  1996\n176   Y343TH77RUS       2  6700.00    Ford  Focus  2016\n386   O380BY77RUS       2   600.00    Ford  Focus  1991\n720   X134YY77RUS       1   500.00    Ford  Focus  2018\n325   H980KC77RUS       2  1500.00    Ford  Focus  2011\n\n[930 rows x 6 columns]",
      "text/html": "<div>\n<style scoped>\n    .dataframe tbody tr th:only-of-type {\n        vertical-align: middle;\n    }\n\n    .dataframe tbody tr th {\n        vertical-align: top;\n    }\n\n    .dataframe thead th {\n        text-align: right;\n    }\n</style>\n<table border=\"1\" class=\"dataframe\">\n  <thead>\n    <tr style=\"text-align: right;\">\n      <th></th>\n      <th>CarNumber</th>\n      <th>Refund</th>\n      <th>Fines</th>\n      <th>Make</th>\n      <th>Model</th>\n      <th>Year</th>\n    </tr>\n  </thead>\n  <tbody>\n    <tr>\n      <th>0</th>\n      <td>Y163O8161RUS</td>\n      <td>2</td>\n      <td>3200.00</td>\n      <td>Ford</td>\n      <td>Focus</td>\n      <td>1989</td>\n    </tr>\n    <tr>\n      <th>1</th>\n      <td>E432XX77RUS</td>\n      <td>1</td>\n      <td>6500.00</td>\n      <td>Toyota</td>\n      <td>Camry</td>\n      <td>1995</td>\n    </tr>\n    <tr>\n      <th>2</th>\n      <td>7184TT36RUS</td>\n      <td>1</td>\n      <td>2100.00</td>\n      <td>Ford</td>\n      <td>Focus</td>\n      <td>1984</td>\n    </tr>\n    <tr>\n      <th>3</th>\n      <td>X582HE161RUS</td>\n      <td>2</td>\n      <td>2000.00</td>\n      <td>Ford</td>\n      <td>Focus</td>\n      <td>2015</td>\n    </tr>\n    <tr>\n      <th>4</th>\n      <td>92918M178RUS</td>\n      <td>1</td>\n      <td>5700.00</td>\n      <td>Ford</td>\n      <td>Focus</td>\n      <td>2014</td>\n    </tr>\n    <tr>\n      <th>...</th>\n      <td>...</td>\n      <td>...</td>\n      <td>...</td>\n      <td>...</td>\n      <td>...</td>\n      <td>...</td>\n    </tr>\n    <tr>\n      <th>397</th>\n      <td>K106AM77RUS</td>\n      <td>2</td>\n      <td>19200.00</td>\n      <td>Toyota</td>\n      <td>Camry</td>\n      <td>1996</td>\n    </tr>\n    <tr>\n      <th>176</th>\n      <td>Y343TH77RUS</td>\n      <td>2</td>\n      <td>6700.00</td>\n      <td>Ford</td>\n      <td>Focus</td>\n      <td>2016</td>\n    </tr>\n    <tr>\n      <th>386</th>\n      <td>O380BY77RUS</td>\n      <td>2</td>\n      <td>600.00</td>\n      <td>Ford</td>\n      <td>Focus</td>\n      <td>1991</td>\n    </tr>\n    <tr>\n      <th>720</th>\n      <td>X134YY77RUS</td>\n      <td>1</td>\n      <td>500.00</td>\n      <td>Ford</td>\n      <td>Focus</td>\n      <td>2018</td>\n    </tr>\n    <tr>\n      <th>325</th>\n      <td>H980KC77RUS</td>\n      <td>2</td>\n      <td>1500.00</td>\n      <td>Ford</td>\n      <td>Focus</td>\n      <td>2011</td>\n    </tr>\n  </tbody>\n</table>\n<p>930 rows × 6 columns</p>\n</div>"
     },
     "execution_count": 39,
     "metadata": {},
     "output_type": "execute_result"
    }
   ],
   "source": [
    "fines = pd.concat([fines, new_fines])\n",
    "fines"
   ],
   "metadata": {
    "collapsed": false,
    "pycharm": {
     "name": "#%%\n"
    }
   }
  },
  {
   "cell_type": "markdown",
   "source": [
    "#### delete the dataframe last 20 observations from the owners"
   ],
   "metadata": {
    "collapsed": false,
    "pycharm": {
     "name": "#%% md\n"
    }
   }
  },
  {
   "cell_type": "code",
   "execution_count": 44,
   "outputs": [
    {
     "data": {
      "text/plain": "        CarNumber  SURNAME\n0    Y163O8161RUS    BAKER\n1     E432XX77RUS     CRUZ\n2     7184TT36RUS   MARTIN\n3    X582HE161RUS     REED\n4    92918M178RUS   COOPER\n..            ...      ...\n681  T914CT197RUS   BAILEY\n682  E41977152RUS  EDWARDS\n684  9464EX178RUS   RIVERA\n685  O50197197RUS  JACKSON\n686  7608EE777RUS   MILLER\n\n[511 rows x 2 columns]",
      "text/html": "<div>\n<style scoped>\n    .dataframe tbody tr th:only-of-type {\n        vertical-align: middle;\n    }\n\n    .dataframe tbody tr th {\n        vertical-align: top;\n    }\n\n    .dataframe thead th {\n        text-align: right;\n    }\n</style>\n<table border=\"1\" class=\"dataframe\">\n  <thead>\n    <tr style=\"text-align: right;\">\n      <th></th>\n      <th>CarNumber</th>\n      <th>SURNAME</th>\n    </tr>\n  </thead>\n  <tbody>\n    <tr>\n      <th>0</th>\n      <td>Y163O8161RUS</td>\n      <td>BAKER</td>\n    </tr>\n    <tr>\n      <th>1</th>\n      <td>E432XX77RUS</td>\n      <td>CRUZ</td>\n    </tr>\n    <tr>\n      <th>2</th>\n      <td>7184TT36RUS</td>\n      <td>MARTIN</td>\n    </tr>\n    <tr>\n      <th>3</th>\n      <td>X582HE161RUS</td>\n      <td>REED</td>\n    </tr>\n    <tr>\n      <th>4</th>\n      <td>92918M178RUS</td>\n      <td>COOPER</td>\n    </tr>\n    <tr>\n      <th>...</th>\n      <td>...</td>\n      <td>...</td>\n    </tr>\n    <tr>\n      <th>681</th>\n      <td>T914CT197RUS</td>\n      <td>BAILEY</td>\n    </tr>\n    <tr>\n      <th>682</th>\n      <td>E41977152RUS</td>\n      <td>EDWARDS</td>\n    </tr>\n    <tr>\n      <th>684</th>\n      <td>9464EX178RUS</td>\n      <td>RIVERA</td>\n    </tr>\n    <tr>\n      <th>685</th>\n      <td>O50197197RUS</td>\n      <td>JACKSON</td>\n    </tr>\n    <tr>\n      <th>686</th>\n      <td>7608EE777RUS</td>\n      <td>MILLER</td>\n    </tr>\n  </tbody>\n</table>\n<p>511 rows × 2 columns</p>\n</div>"
     },
     "execution_count": 44,
     "metadata": {},
     "output_type": "execute_result"
    }
   ],
   "source": [
    "owners = owners[:-9]\n",
    "owners"
   ],
   "metadata": {
    "collapsed": false,
    "pycharm": {
     "name": "#%%\n"
    }
   }
  },
  {
   "cell_type": "markdown",
   "source": [
    "#### add 3 new observations (they are not the same as those you add to the fines dataframe)"
   ],
   "metadata": {
    "collapsed": false,
    "pycharm": {
     "name": "#%% md\n"
    }
   }
  },
  {
   "cell_type": "code",
   "execution_count": 45,
   "outputs": [
    {
     "data": {
      "text/plain": "        CarNumber    SURNAME\n0    Y163O8161RUS      BAKER\n1     E432XX77RUS       CRUZ\n2     7184TT36RUS     MARTIN\n3    X582HE161RUS       REED\n4    92918M178RUS     COOPER\n..            ...        ...\n685  O50197197RUS    JACKSON\n686  7608EE777RUS     MILLER\n0     E771OX77RUS     MURPHY\n1     P868EH77RUS      GREEN\n2     P518TC77RUS  RODRIGUEZ\n\n[514 rows x 2 columns]",
      "text/html": "<div>\n<style scoped>\n    .dataframe tbody tr th:only-of-type {\n        vertical-align: middle;\n    }\n\n    .dataframe tbody tr th {\n        vertical-align: top;\n    }\n\n    .dataframe thead th {\n        text-align: right;\n    }\n</style>\n<table border=\"1\" class=\"dataframe\">\n  <thead>\n    <tr style=\"text-align: right;\">\n      <th></th>\n      <th>CarNumber</th>\n      <th>SURNAME</th>\n    </tr>\n  </thead>\n  <tbody>\n    <tr>\n      <th>0</th>\n      <td>Y163O8161RUS</td>\n      <td>BAKER</td>\n    </tr>\n    <tr>\n      <th>1</th>\n      <td>E432XX77RUS</td>\n      <td>CRUZ</td>\n    </tr>\n    <tr>\n      <th>2</th>\n      <td>7184TT36RUS</td>\n      <td>MARTIN</td>\n    </tr>\n    <tr>\n      <th>3</th>\n      <td>X582HE161RUS</td>\n      <td>REED</td>\n    </tr>\n    <tr>\n      <th>4</th>\n      <td>92918M178RUS</td>\n      <td>COOPER</td>\n    </tr>\n    <tr>\n      <th>...</th>\n      <td>...</td>\n      <td>...</td>\n    </tr>\n    <tr>\n      <th>685</th>\n      <td>O50197197RUS</td>\n      <td>JACKSON</td>\n    </tr>\n    <tr>\n      <th>686</th>\n      <td>7608EE777RUS</td>\n      <td>MILLER</td>\n    </tr>\n    <tr>\n      <th>0</th>\n      <td>E771OX77RUS</td>\n      <td>MURPHY</td>\n    </tr>\n    <tr>\n      <th>1</th>\n      <td>P868EH77RUS</td>\n      <td>GREEN</td>\n    </tr>\n    <tr>\n      <th>2</th>\n      <td>P518TC77RUS</td>\n      <td>RODRIGUEZ</td>\n    </tr>\n  </tbody>\n</table>\n<p>514 rows × 2 columns</p>\n</div>"
     },
     "execution_count": 45,
     "metadata": {},
     "output_type": "execute_result"
    }
   ],
   "source": [
    "add_owners = pd.DataFrame({'CarNumber': [random_num_car() for i in range(3)],\n",
    "                           'SURNAME': [np.random.choice(owners['SURNAME']) for i in range(3)]})\n",
    "owners = pd.concat([owners, add_owners])\n",
    "owners"
   ],
   "metadata": {
    "collapsed": false,
    "pycharm": {
     "name": "#%%\n"
    }
   }
  },
  {
   "cell_type": "markdown",
   "source": [
    "#### join both dataframes:\n",
    "###### the new dataframe should have only the car numbers that exist in both dataframes"
   ],
   "metadata": {
    "collapsed": false,
    "pycharm": {
     "name": "#%% md\n"
    }
   }
  },
  {
   "cell_type": "code",
   "execution_count": 46,
   "outputs": [
    {
     "data": {
      "text/plain": "        CarNumber  Refund    Fines    Make    Model  Year  SURNAME\n0    Y163O8161RUS       2  3200.00    Ford    Focus  1989    BAKER\n1    Y163O8161RUS       2  1600.00    Ford    Focus  1980    BAKER\n2     E432XX77RUS       1  6500.00  Toyota    Camry  1995     CRUZ\n3     E432XX77RUS       2 13000.00  Toyota    Camry  2018     CRUZ\n4     7184TT36RUS       1  2100.00    Ford    Focus  1984   MARTIN\n..            ...     ...      ...     ...      ...   ...      ...\n894  E41977152RUS       2  2400.00    Ford    Focus  1989  EDWARDS\n895  9464EX178RUS       2  2100.00    Ford    Focus  1988   RIVERA\n896  O50197197RUS       2  7800.00    Ford    Focus  1992  JACKSON\n897  7608EE777RUS       1  4000.00   Skoda  Octavia  2000   MILLER\n898  7608EE777RUS       1  4000.00   Skoda  Octavia  1996   MILLER\n\n[899 rows x 7 columns]",
      "text/html": "<div>\n<style scoped>\n    .dataframe tbody tr th:only-of-type {\n        vertical-align: middle;\n    }\n\n    .dataframe tbody tr th {\n        vertical-align: top;\n    }\n\n    .dataframe thead th {\n        text-align: right;\n    }\n</style>\n<table border=\"1\" class=\"dataframe\">\n  <thead>\n    <tr style=\"text-align: right;\">\n      <th></th>\n      <th>CarNumber</th>\n      <th>Refund</th>\n      <th>Fines</th>\n      <th>Make</th>\n      <th>Model</th>\n      <th>Year</th>\n      <th>SURNAME</th>\n    </tr>\n  </thead>\n  <tbody>\n    <tr>\n      <th>0</th>\n      <td>Y163O8161RUS</td>\n      <td>2</td>\n      <td>3200.00</td>\n      <td>Ford</td>\n      <td>Focus</td>\n      <td>1989</td>\n      <td>BAKER</td>\n    </tr>\n    <tr>\n      <th>1</th>\n      <td>Y163O8161RUS</td>\n      <td>2</td>\n      <td>1600.00</td>\n      <td>Ford</td>\n      <td>Focus</td>\n      <td>1980</td>\n      <td>BAKER</td>\n    </tr>\n    <tr>\n      <th>2</th>\n      <td>E432XX77RUS</td>\n      <td>1</td>\n      <td>6500.00</td>\n      <td>Toyota</td>\n      <td>Camry</td>\n      <td>1995</td>\n      <td>CRUZ</td>\n    </tr>\n    <tr>\n      <th>3</th>\n      <td>E432XX77RUS</td>\n      <td>2</td>\n      <td>13000.00</td>\n      <td>Toyota</td>\n      <td>Camry</td>\n      <td>2018</td>\n      <td>CRUZ</td>\n    </tr>\n    <tr>\n      <th>4</th>\n      <td>7184TT36RUS</td>\n      <td>1</td>\n      <td>2100.00</td>\n      <td>Ford</td>\n      <td>Focus</td>\n      <td>1984</td>\n      <td>MARTIN</td>\n    </tr>\n    <tr>\n      <th>...</th>\n      <td>...</td>\n      <td>...</td>\n      <td>...</td>\n      <td>...</td>\n      <td>...</td>\n      <td>...</td>\n      <td>...</td>\n    </tr>\n    <tr>\n      <th>894</th>\n      <td>E41977152RUS</td>\n      <td>2</td>\n      <td>2400.00</td>\n      <td>Ford</td>\n      <td>Focus</td>\n      <td>1989</td>\n      <td>EDWARDS</td>\n    </tr>\n    <tr>\n      <th>895</th>\n      <td>9464EX178RUS</td>\n      <td>2</td>\n      <td>2100.00</td>\n      <td>Ford</td>\n      <td>Focus</td>\n      <td>1988</td>\n      <td>RIVERA</td>\n    </tr>\n    <tr>\n      <th>896</th>\n      <td>O50197197RUS</td>\n      <td>2</td>\n      <td>7800.00</td>\n      <td>Ford</td>\n      <td>Focus</td>\n      <td>1992</td>\n      <td>JACKSON</td>\n    </tr>\n    <tr>\n      <th>897</th>\n      <td>7608EE777RUS</td>\n      <td>1</td>\n      <td>4000.00</td>\n      <td>Skoda</td>\n      <td>Octavia</td>\n      <td>2000</td>\n      <td>MILLER</td>\n    </tr>\n    <tr>\n      <th>898</th>\n      <td>7608EE777RUS</td>\n      <td>1</td>\n      <td>4000.00</td>\n      <td>Skoda</td>\n      <td>Octavia</td>\n      <td>1996</td>\n      <td>MILLER</td>\n    </tr>\n  </tbody>\n</table>\n<p>899 rows × 7 columns</p>\n</div>"
     },
     "execution_count": 46,
     "metadata": {},
     "output_type": "execute_result"
    }
   ],
   "source": [
    "inner_ = fines.merge(owners, how='inner', on='CarNumber')\n",
    "inner_"
   ],
   "metadata": {
    "collapsed": false,
    "pycharm": {
     "name": "#%%\n"
    }
   }
  },
  {
   "cell_type": "markdown",
   "source": [
    "###### the new dataframe should have all the car numbers that exist in both dataframes"
   ],
   "metadata": {
    "collapsed": false,
    "pycharm": {
     "name": "#%% md\n"
    }
   }
  },
  {
   "cell_type": "code",
   "execution_count": 47,
   "outputs": [
    {
     "data": {
      "text/plain": "        CarNumber  Refund    Fines    Make  Model    Year    SURNAME\n0    Y163O8161RUS    2.00  3200.00    Ford  Focus 1989.00      BAKER\n1    Y163O8161RUS    2.00  1600.00    Ford  Focus 1980.00      BAKER\n2     E432XX77RUS    1.00  6500.00  Toyota  Camry 1995.00       CRUZ\n3     E432XX77RUS    2.00 13000.00  Toyota  Camry 2018.00       CRUZ\n4     7184TT36RUS    1.00  2100.00    Ford  Focus 1984.00     MARTIN\n..            ...     ...      ...     ...    ...     ...        ...\n928   X134YY77RUS    1.00   500.00    Ford  Focus 2018.00        NaN\n929   H980KC77RUS    2.00  1500.00    Ford  Focus 2011.00        NaN\n930   E771OX77RUS     NaN      NaN     NaN    NaN     NaN     MURPHY\n931   P868EH77RUS     NaN      NaN     NaN    NaN     NaN      GREEN\n932   P518TC77RUS     NaN      NaN     NaN    NaN     NaN  RODRIGUEZ\n\n[933 rows x 7 columns]",
      "text/html": "<div>\n<style scoped>\n    .dataframe tbody tr th:only-of-type {\n        vertical-align: middle;\n    }\n\n    .dataframe tbody tr th {\n        vertical-align: top;\n    }\n\n    .dataframe thead th {\n        text-align: right;\n    }\n</style>\n<table border=\"1\" class=\"dataframe\">\n  <thead>\n    <tr style=\"text-align: right;\">\n      <th></th>\n      <th>CarNumber</th>\n      <th>Refund</th>\n      <th>Fines</th>\n      <th>Make</th>\n      <th>Model</th>\n      <th>Year</th>\n      <th>SURNAME</th>\n    </tr>\n  </thead>\n  <tbody>\n    <tr>\n      <th>0</th>\n      <td>Y163O8161RUS</td>\n      <td>2.00</td>\n      <td>3200.00</td>\n      <td>Ford</td>\n      <td>Focus</td>\n      <td>1989.00</td>\n      <td>BAKER</td>\n    </tr>\n    <tr>\n      <th>1</th>\n      <td>Y163O8161RUS</td>\n      <td>2.00</td>\n      <td>1600.00</td>\n      <td>Ford</td>\n      <td>Focus</td>\n      <td>1980.00</td>\n      <td>BAKER</td>\n    </tr>\n    <tr>\n      <th>2</th>\n      <td>E432XX77RUS</td>\n      <td>1.00</td>\n      <td>6500.00</td>\n      <td>Toyota</td>\n      <td>Camry</td>\n      <td>1995.00</td>\n      <td>CRUZ</td>\n    </tr>\n    <tr>\n      <th>3</th>\n      <td>E432XX77RUS</td>\n      <td>2.00</td>\n      <td>13000.00</td>\n      <td>Toyota</td>\n      <td>Camry</td>\n      <td>2018.00</td>\n      <td>CRUZ</td>\n    </tr>\n    <tr>\n      <th>4</th>\n      <td>7184TT36RUS</td>\n      <td>1.00</td>\n      <td>2100.00</td>\n      <td>Ford</td>\n      <td>Focus</td>\n      <td>1984.00</td>\n      <td>MARTIN</td>\n    </tr>\n    <tr>\n      <th>...</th>\n      <td>...</td>\n      <td>...</td>\n      <td>...</td>\n      <td>...</td>\n      <td>...</td>\n      <td>...</td>\n      <td>...</td>\n    </tr>\n    <tr>\n      <th>928</th>\n      <td>X134YY77RUS</td>\n      <td>1.00</td>\n      <td>500.00</td>\n      <td>Ford</td>\n      <td>Focus</td>\n      <td>2018.00</td>\n      <td>NaN</td>\n    </tr>\n    <tr>\n      <th>929</th>\n      <td>H980KC77RUS</td>\n      <td>2.00</td>\n      <td>1500.00</td>\n      <td>Ford</td>\n      <td>Focus</td>\n      <td>2011.00</td>\n      <td>NaN</td>\n    </tr>\n    <tr>\n      <th>930</th>\n      <td>E771OX77RUS</td>\n      <td>NaN</td>\n      <td>NaN</td>\n      <td>NaN</td>\n      <td>NaN</td>\n      <td>NaN</td>\n      <td>MURPHY</td>\n    </tr>\n    <tr>\n      <th>931</th>\n      <td>P868EH77RUS</td>\n      <td>NaN</td>\n      <td>NaN</td>\n      <td>NaN</td>\n      <td>NaN</td>\n      <td>NaN</td>\n      <td>GREEN</td>\n    </tr>\n    <tr>\n      <th>932</th>\n      <td>P518TC77RUS</td>\n      <td>NaN</td>\n      <td>NaN</td>\n      <td>NaN</td>\n      <td>NaN</td>\n      <td>NaN</td>\n      <td>RODRIGUEZ</td>\n    </tr>\n  </tbody>\n</table>\n<p>933 rows × 7 columns</p>\n</div>"
     },
     "execution_count": 47,
     "metadata": {},
     "output_type": "execute_result"
    }
   ],
   "source": [
    "outer_ = fines.merge(owners, how='outer', on='CarNumber')\n",
    "outer_"
   ],
   "metadata": {
    "collapsed": false,
    "pycharm": {
     "name": "#%%\n"
    }
   }
  },
  {
   "cell_type": "markdown",
   "source": [
    "###### the new dataframe should have only the car numbers from the fines dataframe"
   ],
   "metadata": {
    "collapsed": false,
    "pycharm": {
     "name": "#%% md\n"
    }
   }
  },
  {
   "cell_type": "code",
   "execution_count": 48,
   "outputs": [
    {
     "data": {
      "text/plain": "        CarNumber  Refund    Fines    Make  Model  Year SURNAME\n0    Y163O8161RUS       2  3200.00    Ford  Focus  1989   BAKER\n1     E432XX77RUS       1  6500.00  Toyota  Camry  1995    CRUZ\n2     7184TT36RUS       1  2100.00    Ford  Focus  1984  MARTIN\n3    X582HE161RUS       2  2000.00    Ford  Focus  2015    REED\n4    92918M178RUS       1  5700.00    Ford  Focus  2014  COOPER\n..            ...     ...      ...     ...    ...   ...     ...\n925   K106AM77RUS       2 19200.00  Toyota  Camry  1996     NaN\n926   Y343TH77RUS       2  6700.00    Ford  Focus  2016     NaN\n927   O380BY77RUS       2   600.00    Ford  Focus  1991     NaN\n928   X134YY77RUS       1   500.00    Ford  Focus  2018     NaN\n929   H980KC77RUS       2  1500.00    Ford  Focus  2011     NaN\n\n[930 rows x 7 columns]",
      "text/html": "<div>\n<style scoped>\n    .dataframe tbody tr th:only-of-type {\n        vertical-align: middle;\n    }\n\n    .dataframe tbody tr th {\n        vertical-align: top;\n    }\n\n    .dataframe thead th {\n        text-align: right;\n    }\n</style>\n<table border=\"1\" class=\"dataframe\">\n  <thead>\n    <tr style=\"text-align: right;\">\n      <th></th>\n      <th>CarNumber</th>\n      <th>Refund</th>\n      <th>Fines</th>\n      <th>Make</th>\n      <th>Model</th>\n      <th>Year</th>\n      <th>SURNAME</th>\n    </tr>\n  </thead>\n  <tbody>\n    <tr>\n      <th>0</th>\n      <td>Y163O8161RUS</td>\n      <td>2</td>\n      <td>3200.00</td>\n      <td>Ford</td>\n      <td>Focus</td>\n      <td>1989</td>\n      <td>BAKER</td>\n    </tr>\n    <tr>\n      <th>1</th>\n      <td>E432XX77RUS</td>\n      <td>1</td>\n      <td>6500.00</td>\n      <td>Toyota</td>\n      <td>Camry</td>\n      <td>1995</td>\n      <td>CRUZ</td>\n    </tr>\n    <tr>\n      <th>2</th>\n      <td>7184TT36RUS</td>\n      <td>1</td>\n      <td>2100.00</td>\n      <td>Ford</td>\n      <td>Focus</td>\n      <td>1984</td>\n      <td>MARTIN</td>\n    </tr>\n    <tr>\n      <th>3</th>\n      <td>X582HE161RUS</td>\n      <td>2</td>\n      <td>2000.00</td>\n      <td>Ford</td>\n      <td>Focus</td>\n      <td>2015</td>\n      <td>REED</td>\n    </tr>\n    <tr>\n      <th>4</th>\n      <td>92918M178RUS</td>\n      <td>1</td>\n      <td>5700.00</td>\n      <td>Ford</td>\n      <td>Focus</td>\n      <td>2014</td>\n      <td>COOPER</td>\n    </tr>\n    <tr>\n      <th>...</th>\n      <td>...</td>\n      <td>...</td>\n      <td>...</td>\n      <td>...</td>\n      <td>...</td>\n      <td>...</td>\n      <td>...</td>\n    </tr>\n    <tr>\n      <th>925</th>\n      <td>K106AM77RUS</td>\n      <td>2</td>\n      <td>19200.00</td>\n      <td>Toyota</td>\n      <td>Camry</td>\n      <td>1996</td>\n      <td>NaN</td>\n    </tr>\n    <tr>\n      <th>926</th>\n      <td>Y343TH77RUS</td>\n      <td>2</td>\n      <td>6700.00</td>\n      <td>Ford</td>\n      <td>Focus</td>\n      <td>2016</td>\n      <td>NaN</td>\n    </tr>\n    <tr>\n      <th>927</th>\n      <td>O380BY77RUS</td>\n      <td>2</td>\n      <td>600.00</td>\n      <td>Ford</td>\n      <td>Focus</td>\n      <td>1991</td>\n      <td>NaN</td>\n    </tr>\n    <tr>\n      <th>928</th>\n      <td>X134YY77RUS</td>\n      <td>1</td>\n      <td>500.00</td>\n      <td>Ford</td>\n      <td>Focus</td>\n      <td>2018</td>\n      <td>NaN</td>\n    </tr>\n    <tr>\n      <th>929</th>\n      <td>H980KC77RUS</td>\n      <td>2</td>\n      <td>1500.00</td>\n      <td>Ford</td>\n      <td>Focus</td>\n      <td>2011</td>\n      <td>NaN</td>\n    </tr>\n  </tbody>\n</table>\n<p>930 rows × 7 columns</p>\n</div>"
     },
     "execution_count": 48,
     "metadata": {},
     "output_type": "execute_result"
    }
   ],
   "source": [
    "left_ = fines.merge(owners, how='left', on='CarNumber')\n",
    "left_"
   ],
   "metadata": {
    "collapsed": false,
    "pycharm": {
     "name": "#%%\n"
    }
   }
  },
  {
   "cell_type": "markdown",
   "source": [
    "###### the new dataframe should have only the car numbers from the owners dataframe"
   ],
   "metadata": {
    "collapsed": false,
    "pycharm": {
     "name": "#%% md\n"
    }
   }
  },
  {
   "cell_type": "code",
   "execution_count": 49,
   "outputs": [
    {
     "data": {
      "text/plain": "        CarNumber  Refund    Fines    Make    Model    Year    SURNAME\n0    Y163O8161RUS    2.00  3200.00    Ford    Focus 1989.00      BAKER\n1    Y163O8161RUS    2.00  1600.00    Ford    Focus 1980.00      BAKER\n2     E432XX77RUS    1.00  6500.00  Toyota    Camry 1995.00       CRUZ\n3     E432XX77RUS    2.00 13000.00  Toyota    Camry 2018.00       CRUZ\n4     7184TT36RUS    1.00  2100.00    Ford    Focus 1984.00     MARTIN\n..            ...     ...      ...     ...      ...     ...        ...\n897  7608EE777RUS    1.00  4000.00   Skoda  Octavia 2000.00     MILLER\n898  7608EE777RUS    1.00  4000.00   Skoda  Octavia 1996.00     MILLER\n899   E771OX77RUS     NaN      NaN     NaN      NaN     NaN     MURPHY\n900   P868EH77RUS     NaN      NaN     NaN      NaN     NaN      GREEN\n901   P518TC77RUS     NaN      NaN     NaN      NaN     NaN  RODRIGUEZ\n\n[902 rows x 7 columns]",
      "text/html": "<div>\n<style scoped>\n    .dataframe tbody tr th:only-of-type {\n        vertical-align: middle;\n    }\n\n    .dataframe tbody tr th {\n        vertical-align: top;\n    }\n\n    .dataframe thead th {\n        text-align: right;\n    }\n</style>\n<table border=\"1\" class=\"dataframe\">\n  <thead>\n    <tr style=\"text-align: right;\">\n      <th></th>\n      <th>CarNumber</th>\n      <th>Refund</th>\n      <th>Fines</th>\n      <th>Make</th>\n      <th>Model</th>\n      <th>Year</th>\n      <th>SURNAME</th>\n    </tr>\n  </thead>\n  <tbody>\n    <tr>\n      <th>0</th>\n      <td>Y163O8161RUS</td>\n      <td>2.00</td>\n      <td>3200.00</td>\n      <td>Ford</td>\n      <td>Focus</td>\n      <td>1989.00</td>\n      <td>BAKER</td>\n    </tr>\n    <tr>\n      <th>1</th>\n      <td>Y163O8161RUS</td>\n      <td>2.00</td>\n      <td>1600.00</td>\n      <td>Ford</td>\n      <td>Focus</td>\n      <td>1980.00</td>\n      <td>BAKER</td>\n    </tr>\n    <tr>\n      <th>2</th>\n      <td>E432XX77RUS</td>\n      <td>1.00</td>\n      <td>6500.00</td>\n      <td>Toyota</td>\n      <td>Camry</td>\n      <td>1995.00</td>\n      <td>CRUZ</td>\n    </tr>\n    <tr>\n      <th>3</th>\n      <td>E432XX77RUS</td>\n      <td>2.00</td>\n      <td>13000.00</td>\n      <td>Toyota</td>\n      <td>Camry</td>\n      <td>2018.00</td>\n      <td>CRUZ</td>\n    </tr>\n    <tr>\n      <th>4</th>\n      <td>7184TT36RUS</td>\n      <td>1.00</td>\n      <td>2100.00</td>\n      <td>Ford</td>\n      <td>Focus</td>\n      <td>1984.00</td>\n      <td>MARTIN</td>\n    </tr>\n    <tr>\n      <th>...</th>\n      <td>...</td>\n      <td>...</td>\n      <td>...</td>\n      <td>...</td>\n      <td>...</td>\n      <td>...</td>\n      <td>...</td>\n    </tr>\n    <tr>\n      <th>897</th>\n      <td>7608EE777RUS</td>\n      <td>1.00</td>\n      <td>4000.00</td>\n      <td>Skoda</td>\n      <td>Octavia</td>\n      <td>2000.00</td>\n      <td>MILLER</td>\n    </tr>\n    <tr>\n      <th>898</th>\n      <td>7608EE777RUS</td>\n      <td>1.00</td>\n      <td>4000.00</td>\n      <td>Skoda</td>\n      <td>Octavia</td>\n      <td>1996.00</td>\n      <td>MILLER</td>\n    </tr>\n    <tr>\n      <th>899</th>\n      <td>E771OX77RUS</td>\n      <td>NaN</td>\n      <td>NaN</td>\n      <td>NaN</td>\n      <td>NaN</td>\n      <td>NaN</td>\n      <td>MURPHY</td>\n    </tr>\n    <tr>\n      <th>900</th>\n      <td>P868EH77RUS</td>\n      <td>NaN</td>\n      <td>NaN</td>\n      <td>NaN</td>\n      <td>NaN</td>\n      <td>NaN</td>\n      <td>GREEN</td>\n    </tr>\n    <tr>\n      <th>901</th>\n      <td>P518TC77RUS</td>\n      <td>NaN</td>\n      <td>NaN</td>\n      <td>NaN</td>\n      <td>NaN</td>\n      <td>NaN</td>\n      <td>RODRIGUEZ</td>\n    </tr>\n  </tbody>\n</table>\n<p>902 rows × 7 columns</p>\n</div>"
     },
     "execution_count": 49,
     "metadata": {},
     "output_type": "execute_result"
    }
   ],
   "source": [
    "right_ = fines.merge(owners, how='right', on='CarNumber')\n",
    "right_"
   ],
   "metadata": {
    "collapsed": false,
    "pycharm": {
     "name": "#%%\n"
    }
   }
  },
  {
   "cell_type": "markdown",
   "source": [
    "## Create a pivot table from the fines dataframe, it should look like this (the values are the sums of the fines), but with all the years (the values may be different for you):"
   ],
   "metadata": {
    "collapsed": false,
    "pycharm": {
     "name": "#%% md\n"
    }
   }
  },
  {
   "cell_type": "code",
   "execution_count": 50,
   "outputs": [
    {
     "data": {
      "text/plain": "Year                   1980      1981      1982     1983     1984      1985  \\\nMake       Model                                                              \nFord       Focus   74094.59 423283.76 161883.76 97194.59 96589.17 146972.93   \n           Mondeo       NaN       NaN       NaN      NaN      NaN       NaN   \nSkoda      Octavia  1900.00   8594.59   6900.00 21189.17      NaN  10294.59   \nToyota     Camry   12000.00   8594.59       NaN  7200.00      NaN       NaN   \n           Corolla      NaN       NaN   2000.00      NaN      NaN       NaN   \nVolkswagen Golf    31900.00       NaN       NaN  8594.59   300.00  24300.00   \n           Jetta        NaN   4000.00       NaN      NaN      NaN       NaN   \n           Passat       NaN  11100.00       NaN  3200.00 25000.00   5000.00   \n           Touareg      NaN       NaN       NaN      NaN      NaN   5800.00   \n\nYear                   1986     1987     1988     1989  ...      2010  \\\nMake       Model                                        ...             \nFord       Focus   90394.59 80600.00 84194.59 73300.00  ... 125778.35   \n           Mondeo       NaN      NaN      NaN  8600.00  ...       NaN   \nSkoda      Octavia   600.00  5200.00      NaN 91400.00  ...   3600.00   \nToyota     Camry   22400.00      NaN      NaN 22400.00  ...       NaN   \n           Corolla      NaN  8000.00      NaN 11600.00  ...  24000.00   \nVolkswagen Golf         NaN  9300.00      NaN  5800.00  ...       NaN   \n           Jetta        NaN      NaN      NaN      NaN  ...       NaN   \n           Passat  15000.00 12300.00      NaN      NaN  ...   5700.00   \n           Touareg      NaN      NaN      NaN      NaN  ...   6300.00   \n\nYear                   2011      2012      2013      2014      2015     2016  \\\nMake       Model                                                               \nFord       Focus   90789.17 127789.17 148289.17 117394.59 221000.00 96989.17   \n           Mondeo       NaN  34400.00       NaN       NaN       NaN 46200.00   \nSkoda      Octavia   500.00    500.00  15594.59    300.00  46394.59   300.00   \nToyota     Camry        NaN   8594.59       NaN       NaN       NaN      NaN   \n           Corolla  8594.59  30300.00       NaN       NaN       NaN  3400.00   \nVolkswagen Golf      300.00       NaN       NaN       NaN   2300.00      NaN   \n           Jetta        NaN       NaN       NaN       NaN       NaN      NaN   \n           Passat       NaN       NaN       NaN   1600.00   1600.00  2100.00   \n           Touareg      NaN       NaN       NaN   1300.00    500.00      NaN   \n\nYear                    2017      2018     2019  \nMake       Model                                 \nFord       Focus   233594.59 257994.59 84400.00  \n           Mondeo        NaN       NaN      NaN  \nSkoda      Octavia       NaN 156200.00  9500.00  \nToyota     Camry         NaN  14000.00 18100.00  \n           Corolla   9600.00       NaN      NaN  \nVolkswagen Golf          NaN       NaN   300.00  \n           Jetta         NaN       NaN      NaN  \n           Passat        NaN       NaN  9900.00  \n           Touareg       NaN       NaN      NaN  \n\n[9 rows x 40 columns]",
      "text/html": "<div>\n<style scoped>\n    .dataframe tbody tr th:only-of-type {\n        vertical-align: middle;\n    }\n\n    .dataframe tbody tr th {\n        vertical-align: top;\n    }\n\n    .dataframe thead th {\n        text-align: right;\n    }\n</style>\n<table border=\"1\" class=\"dataframe\">\n  <thead>\n    <tr style=\"text-align: right;\">\n      <th></th>\n      <th>Year</th>\n      <th>1980</th>\n      <th>1981</th>\n      <th>1982</th>\n      <th>1983</th>\n      <th>1984</th>\n      <th>1985</th>\n      <th>1986</th>\n      <th>1987</th>\n      <th>1988</th>\n      <th>1989</th>\n      <th>...</th>\n      <th>2010</th>\n      <th>2011</th>\n      <th>2012</th>\n      <th>2013</th>\n      <th>2014</th>\n      <th>2015</th>\n      <th>2016</th>\n      <th>2017</th>\n      <th>2018</th>\n      <th>2019</th>\n    </tr>\n    <tr>\n      <th>Make</th>\n      <th>Model</th>\n      <th></th>\n      <th></th>\n      <th></th>\n      <th></th>\n      <th></th>\n      <th></th>\n      <th></th>\n      <th></th>\n      <th></th>\n      <th></th>\n      <th></th>\n      <th></th>\n      <th></th>\n      <th></th>\n      <th></th>\n      <th></th>\n      <th></th>\n      <th></th>\n      <th></th>\n      <th></th>\n      <th></th>\n    </tr>\n  </thead>\n  <tbody>\n    <tr>\n      <th rowspan=\"2\" valign=\"top\">Ford</th>\n      <th>Focus</th>\n      <td>74094.59</td>\n      <td>423283.76</td>\n      <td>161883.76</td>\n      <td>97194.59</td>\n      <td>96589.17</td>\n      <td>146972.93</td>\n      <td>90394.59</td>\n      <td>80600.00</td>\n      <td>84194.59</td>\n      <td>73300.00</td>\n      <td>...</td>\n      <td>125778.35</td>\n      <td>90789.17</td>\n      <td>127789.17</td>\n      <td>148289.17</td>\n      <td>117394.59</td>\n      <td>221000.00</td>\n      <td>96989.17</td>\n      <td>233594.59</td>\n      <td>257994.59</td>\n      <td>84400.00</td>\n    </tr>\n    <tr>\n      <th>Mondeo</th>\n      <td>NaN</td>\n      <td>NaN</td>\n      <td>NaN</td>\n      <td>NaN</td>\n      <td>NaN</td>\n      <td>NaN</td>\n      <td>NaN</td>\n      <td>NaN</td>\n      <td>NaN</td>\n      <td>8600.00</td>\n      <td>...</td>\n      <td>NaN</td>\n      <td>NaN</td>\n      <td>34400.00</td>\n      <td>NaN</td>\n      <td>NaN</td>\n      <td>NaN</td>\n      <td>46200.00</td>\n      <td>NaN</td>\n      <td>NaN</td>\n      <td>NaN</td>\n    </tr>\n    <tr>\n      <th>Skoda</th>\n      <th>Octavia</th>\n      <td>1900.00</td>\n      <td>8594.59</td>\n      <td>6900.00</td>\n      <td>21189.17</td>\n      <td>NaN</td>\n      <td>10294.59</td>\n      <td>600.00</td>\n      <td>5200.00</td>\n      <td>NaN</td>\n      <td>91400.00</td>\n      <td>...</td>\n      <td>3600.00</td>\n      <td>500.00</td>\n      <td>500.00</td>\n      <td>15594.59</td>\n      <td>300.00</td>\n      <td>46394.59</td>\n      <td>300.00</td>\n      <td>NaN</td>\n      <td>156200.00</td>\n      <td>9500.00</td>\n    </tr>\n    <tr>\n      <th rowspan=\"2\" valign=\"top\">Toyota</th>\n      <th>Camry</th>\n      <td>12000.00</td>\n      <td>8594.59</td>\n      <td>NaN</td>\n      <td>7200.00</td>\n      <td>NaN</td>\n      <td>NaN</td>\n      <td>22400.00</td>\n      <td>NaN</td>\n      <td>NaN</td>\n      <td>22400.00</td>\n      <td>...</td>\n      <td>NaN</td>\n      <td>NaN</td>\n      <td>8594.59</td>\n      <td>NaN</td>\n      <td>NaN</td>\n      <td>NaN</td>\n      <td>NaN</td>\n      <td>NaN</td>\n      <td>14000.00</td>\n      <td>18100.00</td>\n    </tr>\n    <tr>\n      <th>Corolla</th>\n      <td>NaN</td>\n      <td>NaN</td>\n      <td>2000.00</td>\n      <td>NaN</td>\n      <td>NaN</td>\n      <td>NaN</td>\n      <td>NaN</td>\n      <td>8000.00</td>\n      <td>NaN</td>\n      <td>11600.00</td>\n      <td>...</td>\n      <td>24000.00</td>\n      <td>8594.59</td>\n      <td>30300.00</td>\n      <td>NaN</td>\n      <td>NaN</td>\n      <td>NaN</td>\n      <td>3400.00</td>\n      <td>9600.00</td>\n      <td>NaN</td>\n      <td>NaN</td>\n    </tr>\n    <tr>\n      <th rowspan=\"4\" valign=\"top\">Volkswagen</th>\n      <th>Golf</th>\n      <td>31900.00</td>\n      <td>NaN</td>\n      <td>NaN</td>\n      <td>8594.59</td>\n      <td>300.00</td>\n      <td>24300.00</td>\n      <td>NaN</td>\n      <td>9300.00</td>\n      <td>NaN</td>\n      <td>5800.00</td>\n      <td>...</td>\n      <td>NaN</td>\n      <td>300.00</td>\n      <td>NaN</td>\n      <td>NaN</td>\n      <td>NaN</td>\n      <td>2300.00</td>\n      <td>NaN</td>\n      <td>NaN</td>\n      <td>NaN</td>\n      <td>300.00</td>\n    </tr>\n    <tr>\n      <th>Jetta</th>\n      <td>NaN</td>\n      <td>4000.00</td>\n      <td>NaN</td>\n      <td>NaN</td>\n      <td>NaN</td>\n      <td>NaN</td>\n      <td>NaN</td>\n      <td>NaN</td>\n      <td>NaN</td>\n      <td>NaN</td>\n      <td>...</td>\n      <td>NaN</td>\n      <td>NaN</td>\n      <td>NaN</td>\n      <td>NaN</td>\n      <td>NaN</td>\n      <td>NaN</td>\n      <td>NaN</td>\n      <td>NaN</td>\n      <td>NaN</td>\n      <td>NaN</td>\n    </tr>\n    <tr>\n      <th>Passat</th>\n      <td>NaN</td>\n      <td>11100.00</td>\n      <td>NaN</td>\n      <td>3200.00</td>\n      <td>25000.00</td>\n      <td>5000.00</td>\n      <td>15000.00</td>\n      <td>12300.00</td>\n      <td>NaN</td>\n      <td>NaN</td>\n      <td>...</td>\n      <td>5700.00</td>\n      <td>NaN</td>\n      <td>NaN</td>\n      <td>NaN</td>\n      <td>1600.00</td>\n      <td>1600.00</td>\n      <td>2100.00</td>\n      <td>NaN</td>\n      <td>NaN</td>\n      <td>9900.00</td>\n    </tr>\n    <tr>\n      <th>Touareg</th>\n      <td>NaN</td>\n      <td>NaN</td>\n      <td>NaN</td>\n      <td>NaN</td>\n      <td>NaN</td>\n      <td>5800.00</td>\n      <td>NaN</td>\n      <td>NaN</td>\n      <td>NaN</td>\n      <td>NaN</td>\n      <td>...</td>\n      <td>6300.00</td>\n      <td>NaN</td>\n      <td>NaN</td>\n      <td>NaN</td>\n      <td>1300.00</td>\n      <td>500.00</td>\n      <td>NaN</td>\n      <td>NaN</td>\n      <td>NaN</td>\n      <td>NaN</td>\n    </tr>\n  </tbody>\n</table>\n<p>9 rows × 40 columns</p>\n</div>"
     },
     "execution_count": 50,
     "metadata": {},
     "output_type": "execute_result"
    }
   ],
   "source": [
    "pivot_table = pd.pivot_table(inner_,\n",
    "                             values='Fines',\n",
    "                             index=['Make', 'Model'],\n",
    "                             columns=['Year'],\n",
    "                             aggfunc=np.sum)\n",
    "pivot_table"
   ],
   "metadata": {
    "collapsed": false,
    "pycharm": {
     "name": "#%%\n"
    }
   }
  },
  {
   "cell_type": "markdown",
   "source": [
    "## Save both the fines and owners dataframes to CSV files without an index"
   ],
   "metadata": {
    "collapsed": false,
    "pycharm": {
     "name": "#%% md\n"
    }
   }
  },
  {
   "cell_type": "code",
   "execution_count": 51,
   "outputs": [],
   "source": [
    "fines.to_csv('../data/fines.csv', index=False)\n",
    "owners.to_csv('../data/owners.csv', index=False)"
   ],
   "metadata": {
    "collapsed": false,
    "pycharm": {
     "name": "#%%\n"
    }
   }
  },
  {
   "cell_type": "code",
   "execution_count": null,
   "outputs": [],
   "source": [],
   "metadata": {
    "collapsed": false,
    "pycharm": {
     "name": "#%%\n"
    }
   }
  }
 ],
 "metadata": {
  "kernelspec": {
   "display_name": "Python 3",
   "language": "python",
   "name": "python3"
  },
  "language_info": {
   "codemirror_mode": {
    "name": "ipython",
    "version": 2
   },
   "file_extension": ".py",
   "mimetype": "text/x-python",
   "name": "python",
   "nbconvert_exporter": "python",
   "pygments_lexer": "ipython2",
   "version": "2.7.6"
  }
 },
 "nbformat": 4,
 "nbformat_minor": 0
}