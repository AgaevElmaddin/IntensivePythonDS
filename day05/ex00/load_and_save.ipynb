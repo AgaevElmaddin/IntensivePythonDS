{
 "cells": [
  {
   "cell_type": "markdown",
   "metadata": {
    "pycharm": {
     "name": "#%% md\n"
    }
   },
   "source": [
    "## Imports"
   ]
  },
  {
   "cell_type": "code",
   "execution_count": 17,
   "metadata": {},
   "outputs": [],
   "source": [
    "import pandas as pd"
   ]
  },
  {
   "cell_type": "markdown",
   "source": [
    "## read_csv"
   ],
   "metadata": {
    "collapsed": false,
    "pycharm": {
     "name": "#%% md\n"
    }
   }
  },
  {
   "cell_type": "code",
   "execution_count": 18,
   "outputs": [],
   "source": [
    "df = pd.read_csv('../data/feed-views.log',\n",
    "                 sep = '\\t',\n",
    "                 skiprows = [2,3],\n",
    "                 skipfooter = 2,\n",
    "                 engine = 'python',\n",
    "                 header = None,\n",
    "                 names = ['datetime', 'user'],\n",
    "                 index_col = 'datetime')"
   ],
   "metadata": {
    "collapsed": false,
    "pycharm": {
     "name": "#%%\n"
    }
   }
  },
  {
   "cell_type": "markdown",
   "source": [
    "## Let's get first 5 rows in '../data/feed-views.log'"
   ],
   "metadata": {
    "collapsed": false,
    "pycharm": {
     "name": "#%% md\n"
    }
   }
  },
  {
   "cell_type": "code",
   "execution_count": 19,
   "outputs": [
    {
     "data": {
      "text/plain": "                              user\ndatetime                          \n2020-04-17 12:01:08.463179   artem\n2020-04-17 12:01:23.743946   artem\n2020-04-17 12:35:52.735016   artem\n2020-04-17 12:36:21.401412  oksana\n2020-04-17 12:36:22.023355  oksana",
      "text/html": "<div>\n<style scoped>\n    .dataframe tbody tr th:only-of-type {\n        vertical-align: middle;\n    }\n\n    .dataframe tbody tr th {\n        vertical-align: top;\n    }\n\n    .dataframe thead th {\n        text-align: right;\n    }\n</style>\n<table border=\"1\" class=\"dataframe\">\n  <thead>\n    <tr style=\"text-align: right;\">\n      <th></th>\n      <th>user</th>\n    </tr>\n    <tr>\n      <th>datetime</th>\n      <th></th>\n    </tr>\n  </thead>\n  <tbody>\n    <tr>\n      <th>2020-04-17 12:01:08.463179</th>\n      <td>artem</td>\n    </tr>\n    <tr>\n      <th>2020-04-17 12:01:23.743946</th>\n      <td>artem</td>\n    </tr>\n    <tr>\n      <th>2020-04-17 12:35:52.735016</th>\n      <td>artem</td>\n    </tr>\n    <tr>\n      <th>2020-04-17 12:36:21.401412</th>\n      <td>oksana</td>\n    </tr>\n    <tr>\n      <th>2020-04-17 12:36:22.023355</th>\n      <td>oksana</td>\n    </tr>\n  </tbody>\n</table>\n</div>"
     },
     "execution_count": 19,
     "metadata": {},
     "output_type": "execute_result"
    }
   ],
   "source": [
    "df.head()"
   ],
   "metadata": {
    "collapsed": false,
    "pycharm": {
     "name": "#%%\n"
    }
   }
  },
  {
   "cell_type": "markdown",
   "source": [
    "## Rename datetime to date_time according to the subject"
   ],
   "metadata": {
    "collapsed": false,
    "pycharm": {
     "name": "#%% md\n"
    }
   }
  },
  {
   "cell_type": "code",
   "execution_count": 20,
   "outputs": [],
   "source": [
    "df.index.name = 'date_time'"
   ],
   "metadata": {
    "collapsed": false,
    "pycharm": {
     "name": "#%%\n"
    }
   }
  },
  {
   "cell_type": "code",
   "execution_count": 21,
   "outputs": [
    {
     "data": {
      "text/plain": "                              user\ndate_time                         \n2020-04-17 12:01:08.463179   artem\n2020-04-17 12:01:23.743946   artem\n2020-04-17 12:35:52.735016   artem\n2020-04-17 12:36:21.401412  oksana\n2020-04-17 12:36:22.023355  oksana",
      "text/html": "<div>\n<style scoped>\n    .dataframe tbody tr th:only-of-type {\n        vertical-align: middle;\n    }\n\n    .dataframe tbody tr th {\n        vertical-align: top;\n    }\n\n    .dataframe thead th {\n        text-align: right;\n    }\n</style>\n<table border=\"1\" class=\"dataframe\">\n  <thead>\n    <tr style=\"text-align: right;\">\n      <th></th>\n      <th>user</th>\n    </tr>\n    <tr>\n      <th>date_time</th>\n      <th></th>\n    </tr>\n  </thead>\n  <tbody>\n    <tr>\n      <th>2020-04-17 12:01:08.463179</th>\n      <td>artem</td>\n    </tr>\n    <tr>\n      <th>2020-04-17 12:01:23.743946</th>\n      <td>artem</td>\n    </tr>\n    <tr>\n      <th>2020-04-17 12:35:52.735016</th>\n      <td>artem</td>\n    </tr>\n    <tr>\n      <th>2020-04-17 12:36:21.401412</th>\n      <td>oksana</td>\n    </tr>\n    <tr>\n      <th>2020-04-17 12:36:22.023355</th>\n      <td>oksana</td>\n    </tr>\n  </tbody>\n</table>\n</div>"
     },
     "execution_count": 21,
     "metadata": {},
     "output_type": "execute_result"
    }
   ],
   "source": [
    "df.head()"
   ],
   "metadata": {
    "collapsed": false,
    "pycharm": {
     "name": "#%%\n"
    }
   }
  },
  {
   "cell_type": "markdown",
   "source": [
    "## Let's get last 5 rows in '../data/feed-views.log'"
   ],
   "metadata": {
    "collapsed": false,
    "pycharm": {
     "name": "#%% md\n"
    }
   }
  },
  {
   "cell_type": "code",
   "execution_count": 22,
   "outputs": [
    {
     "data": {
      "text/plain": "                                 user\ndate_time                            \n2020-05-21 16:36:40.915488  ekaterina\n2020-05-21 17:49:36.429237      maxim\n2020-05-21 18:45:20.441142  valentina\n2020-05-21 23:03:06.457819      maxim\n2020-05-21 23:23:49.995349      pavel",
      "text/html": "<div>\n<style scoped>\n    .dataframe tbody tr th:only-of-type {\n        vertical-align: middle;\n    }\n\n    .dataframe tbody tr th {\n        vertical-align: top;\n    }\n\n    .dataframe thead th {\n        text-align: right;\n    }\n</style>\n<table border=\"1\" class=\"dataframe\">\n  <thead>\n    <tr style=\"text-align: right;\">\n      <th></th>\n      <th>user</th>\n    </tr>\n    <tr>\n      <th>date_time</th>\n      <th></th>\n    </tr>\n  </thead>\n  <tbody>\n    <tr>\n      <th>2020-05-21 16:36:40.915488</th>\n      <td>ekaterina</td>\n    </tr>\n    <tr>\n      <th>2020-05-21 17:49:36.429237</th>\n      <td>maxim</td>\n    </tr>\n    <tr>\n      <th>2020-05-21 18:45:20.441142</th>\n      <td>valentina</td>\n    </tr>\n    <tr>\n      <th>2020-05-21 23:03:06.457819</th>\n      <td>maxim</td>\n    </tr>\n    <tr>\n      <th>2020-05-21 23:23:49.995349</th>\n      <td>pavel</td>\n    </tr>\n  </tbody>\n</table>\n</div>"
     },
     "execution_count": 22,
     "metadata": {},
     "output_type": "execute_result"
    }
   ],
   "source": [
    "df.tail()"
   ],
   "metadata": {
    "collapsed": false,
    "pycharm": {
     "name": "#%%\n"
    }
   }
  },
  {
   "cell_type": "markdown",
   "source": [
    "## Let's count the number of users in '../data/feed-views.log'"
   ],
   "metadata": {
    "collapsed": false,
    "pycharm": {
     "name": "#%% md\n"
    }
   }
  },
  {
   "cell_type": "code",
   "execution_count": 23,
   "outputs": [
    {
     "data": {
      "text/plain": "user    1072\ndtype: int64"
     },
     "execution_count": 23,
     "metadata": {},
     "output_type": "execute_result"
    }
   ],
   "source": [
    "df.count()"
   ],
   "metadata": {
    "collapsed": false,
    "pycharm": {
     "name": "#%%\n"
    }
   }
  },
  {
   "cell_type": "markdown",
   "source": [
    "## Convert log file to csv"
   ],
   "metadata": {
    "collapsed": false,
    "pycharm": {
     "name": "#%% md\n"
    }
   }
  },
  {
   "cell_type": "code",
   "execution_count": 24,
   "outputs": [],
   "source": [
    "df.to_csv('../data/feed-views-semicolon.log', sep=';')"
   ],
   "metadata": {
    "collapsed": false,
    "pycharm": {
     "name": "#%%\n"
    }
   }
  }
 ],
 "metadata": {
  "interpreter": {
   "hash": "70b38d7a306a849643e446cd70466270a13445e5987dfa1344ef2b127438fa4d"
  },
  "kernelspec": {
   "display_name": "Python 3.7.8 64-bit",
   "language": "python",
   "name": "python3"
  },
  "language_info": {
   "codemirror_mode": {
    "name": "ipython",
    "version": 3
   },
   "file_extension": ".py",
   "mimetype": "text/x-python",
   "name": "python",
   "nbconvert_exporter": "python",
   "pygments_lexer": "ipython3",
   "version": "3.9.7"
  },
  "orig_nbformat": 4
 },
 "nbformat": 4,
 "nbformat_minor": 2
}