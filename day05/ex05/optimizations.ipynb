{
 "cells": [
  {
   "cell_type": "markdown",
   "metadata": {
    "collapsed": true,
    "pycharm": {
     "name": "#%% md\n"
    }
   },
   "source": [
    "## Imports"
   ]
  },
  {
   "cell_type": "code",
   "execution_count": 41,
   "outputs": [],
   "source": [
    "import pandas as pd\n",
    "import gc"
   ],
   "metadata": {
    "collapsed": false,
    "pycharm": {
     "name": "#%%\n"
    }
   }
  },
  {
   "cell_type": "markdown",
   "source": [
    "## read the fines.csv that you saved in the previous exercise"
   ],
   "metadata": {
    "collapsed": false,
    "pycharm": {
     "name": "#%% md\n"
    }
   }
  },
  {
   "cell_type": "code",
   "execution_count": 42,
   "outputs": [
    {
     "data": {
      "text/plain": "      CarNumber  Refund   Fines    Make  Model  Year\n0  Y163O8161RUS       2  3200.0    Ford  Focus  1989\n1   E432XX77RUS       1  6500.0  Toyota  Camry  1995\n2   7184TT36RUS       1  2100.0    Ford  Focus  1984\n3  X582HE161RUS       2  2000.0    Ford  Focus  2015\n4  92918M178RUS       1  5700.0    Ford  Focus  2014",
      "text/html": "<div>\n<style scoped>\n    .dataframe tbody tr th:only-of-type {\n        vertical-align: middle;\n    }\n\n    .dataframe tbody tr th {\n        vertical-align: top;\n    }\n\n    .dataframe thead th {\n        text-align: right;\n    }\n</style>\n<table border=\"1\" class=\"dataframe\">\n  <thead>\n    <tr style=\"text-align: right;\">\n      <th></th>\n      <th>CarNumber</th>\n      <th>Refund</th>\n      <th>Fines</th>\n      <th>Make</th>\n      <th>Model</th>\n      <th>Year</th>\n    </tr>\n  </thead>\n  <tbody>\n    <tr>\n      <th>0</th>\n      <td>Y163O8161RUS</td>\n      <td>2</td>\n      <td>3200.0</td>\n      <td>Ford</td>\n      <td>Focus</td>\n      <td>1989</td>\n    </tr>\n    <tr>\n      <th>1</th>\n      <td>E432XX77RUS</td>\n      <td>1</td>\n      <td>6500.0</td>\n      <td>Toyota</td>\n      <td>Camry</td>\n      <td>1995</td>\n    </tr>\n    <tr>\n      <th>2</th>\n      <td>7184TT36RUS</td>\n      <td>1</td>\n      <td>2100.0</td>\n      <td>Ford</td>\n      <td>Focus</td>\n      <td>1984</td>\n    </tr>\n    <tr>\n      <th>3</th>\n      <td>X582HE161RUS</td>\n      <td>2</td>\n      <td>2000.0</td>\n      <td>Ford</td>\n      <td>Focus</td>\n      <td>2015</td>\n    </tr>\n    <tr>\n      <th>4</th>\n      <td>92918M178RUS</td>\n      <td>1</td>\n      <td>5700.0</td>\n      <td>Ford</td>\n      <td>Focus</td>\n      <td>2014</td>\n    </tr>\n  </tbody>\n</table>\n</div>"
     },
     "execution_count": 42,
     "metadata": {},
     "output_type": "execute_result"
    }
   ],
   "source": [
    "df = pd.read_csv('../data/fines.csv')\n",
    "df.head()"
   ],
   "metadata": {
    "collapsed": false,
    "pycharm": {
     "name": "#%%\n"
    }
   }
  },
  {
   "cell_type": "markdown",
   "source": [
    "## • iterations: in all the following subtasks, you need to calculate fines/refund*year for each row and create a new column with the calculated data and measure the time using the magic command %%timeit in the cell"
   ],
   "metadata": {
    "collapsed": false,
    "pycharm": {
     "name": "#%% md\n"
    }
   }
  },
  {
   "cell_type": "markdown",
   "source": [
    "#### loop: write a function that iterates through the dataframe using for i in range(0, len(df)), iloc and append() to a list, assign the result of the function to a new column in the dataframe"
   ],
   "metadata": {
    "collapsed": false,
    "pycharm": {
     "name": "#%% md\n"
    }
   }
  },
  {
   "cell_type": "code",
   "execution_count": 43,
   "outputs": [
    {
     "name": "stdout",
     "output_type": "stream",
     "text": [
      "CPU times: user 254 ms, sys: 2.04 ms, total: 256 ms\n",
      "Wall time: 259 ms\n"
     ]
    }
   ],
   "source": [
    "%%time\n",
    "new_col = []\n",
    "for i in range(0, len(df)):\n",
    "    new_col.append(df.iloc[i]['Fines'] / (df.iloc[i]\n",
    "                   ['Refund'] * df.iloc[i]['Year']))\n",
    "df['Fines / Refund * Year'] = new_col"
   ],
   "metadata": {
    "collapsed": false,
    "pycharm": {
     "name": "#%%\n"
    }
   }
  },
  {
   "cell_type": "code",
   "execution_count": 44,
   "outputs": [],
   "source": [
    "df = df.drop(['Fines / Refund * Year'], axis=1)"
   ],
   "metadata": {
    "collapsed": false,
    "pycharm": {
     "name": "#%%\n"
    }
   }
  },
  {
   "cell_type": "markdown",
   "source": [
    "#### do it using iterrows()"
   ],
   "metadata": {
    "collapsed": false,
    "pycharm": {
     "name": "#%% md\n"
    }
   }
  },
  {
   "cell_type": "code",
   "execution_count": 45,
   "outputs": [
    {
     "name": "stdout",
     "output_type": "stream",
     "text": [
      "CPU times: user 41.3 ms, sys: 1.13 ms, total: 42.5 ms\n",
      "Wall time: 42.6 ms\n"
     ]
    }
   ],
   "source": [
    "%%time\n",
    "new_col = []\n",
    "for index, row in df.iterrows():\n",
    "    new_col.append(row['Fines'] / (row['Refund'] * row['Year']))\n",
    "df['Fines / Refund * Year'] = new_col"
   ],
   "metadata": {
    "collapsed": false,
    "pycharm": {
     "name": "#%%\n"
    }
   }
  },
  {
   "cell_type": "code",
   "execution_count": 46,
   "outputs": [],
   "source": [
    "df = df.drop(['Fines / Refund * Year'], axis=1)"
   ],
   "metadata": {
    "collapsed": false,
    "pycharm": {
     "name": "#%%\n"
    }
   }
  },
  {
   "cell_type": "markdown",
   "source": [
    "#### do it using apply() and lambda function"
   ],
   "metadata": {
    "collapsed": false,
    "pycharm": {
     "name": "#%% md\n"
    }
   }
  },
  {
   "cell_type": "code",
   "execution_count": 47,
   "outputs": [
    {
     "name": "stdout",
     "output_type": "stream",
     "text": [
      "CPU times: user 14.9 ms, sys: 957 µs, total: 15.8 ms\n",
      "Wall time: 16 ms\n"
     ]
    }
   ],
   "source": [
    "%%time\n",
    "df['Fines / Refund * Year'] = df.apply(\n",
    "    lambda row: row['Fines'] / (row['Refund'] * row['Year']), axis=1)"
   ],
   "metadata": {
    "collapsed": false,
    "pycharm": {
     "name": "#%%\n"
    }
   }
  },
  {
   "cell_type": "code",
   "execution_count": 48,
   "outputs": [],
   "source": [
    "df = df.drop(['Fines / Refund * Year'], axis=1)"
   ],
   "metadata": {
    "collapsed": false,
    "pycharm": {
     "name": "#%%\n"
    }
   }
  },
  {
   "cell_type": "markdown",
   "source": [
    "#### do it using Series objects from the dataframe"
   ],
   "metadata": {
    "collapsed": false,
    "pycharm": {
     "name": "#%% md\n"
    }
   }
  },
  {
   "cell_type": "code",
   "execution_count": 49,
   "outputs": [
    {
     "name": "stdout",
     "output_type": "stream",
     "text": [
      "CPU times: user 1.06 ms, sys: 205 µs, total: 1.27 ms\n",
      "Wall time: 1.22 ms\n"
     ]
    }
   ],
   "source": [
    "%%time\n",
    "df['Fines / Refund * Year'] = df['Fines'] / (df['Refund'] * df['Year'])"
   ],
   "metadata": {
    "collapsed": false,
    "pycharm": {
     "name": "#%%\n"
    }
   }
  },
  {
   "cell_type": "code",
   "execution_count": 50,
   "outputs": [],
   "source": [
    "df = df.drop(['Fines / Refund * Year'], axis=1)"
   ],
   "metadata": {
    "collapsed": false,
    "pycharm": {
     "name": "#%%\n"
    }
   }
  },
  {
   "cell_type": "markdown",
   "source": [
    "#### do it as in the previous subtask but with the method .values"
   ],
   "metadata": {
    "collapsed": false,
    "pycharm": {
     "name": "#%% md\n"
    }
   }
  },
  {
   "cell_type": "code",
   "execution_count": 51,
   "outputs": [
    {
     "name": "stdout",
     "output_type": "stream",
     "text": [
      "CPU times: user 726 µs, sys: 175 µs, total: 901 µs\n",
      "Wall time: 812 µs\n"
     ]
    }
   ],
   "source": [
    "%%time\n",
    "df['Fines / Refund * Year'] = df['Fines'].values / (df['Refund'].values * df['Year'].values)"
   ],
   "metadata": {
    "collapsed": false,
    "pycharm": {
     "name": "#%%\n"
    }
   }
  },
  {
   "cell_type": "code",
   "execution_count": 52,
   "outputs": [],
   "source": [
    "df = df.drop(['Fines / Refund * Year'], axis=1)"
   ],
   "metadata": {
    "collapsed": false,
    "pycharm": {
     "name": "#%%\n"
    }
   }
  },
  {
   "cell_type": "markdown",
   "source": [
    "## indexing: measure the time using the magic command %%timeit in the cell\n",
    "#### get a row for a specific CarNumber, for example, ’O136HO197RUS’"
   ],
   "metadata": {
    "collapsed": false,
    "pycharm": {
     "name": "#%% md\n"
    }
   }
  },
  {
   "cell_type": "code",
   "execution_count": 53,
   "outputs": [
    {
     "name": "stdout",
     "output_type": "stream",
     "text": [
      "CPU times: user 1.15 ms, sys: 410 µs, total: 1.56 ms\n",
      "Wall time: 1.73 ms\n"
     ]
    },
    {
     "data": {
      "text/plain": "        CarNumber  Refund   Fines    Make    Model  Year\n715  O136HO197RUS       2  7800.0  Toyota  Corolla  1999\n902  O136HO197RUS       2  7800.0  Toyota  Corolla  1998",
      "text/html": "<div>\n<style scoped>\n    .dataframe tbody tr th:only-of-type {\n        vertical-align: middle;\n    }\n\n    .dataframe tbody tr th {\n        vertical-align: top;\n    }\n\n    .dataframe thead th {\n        text-align: right;\n    }\n</style>\n<table border=\"1\" class=\"dataframe\">\n  <thead>\n    <tr style=\"text-align: right;\">\n      <th></th>\n      <th>CarNumber</th>\n      <th>Refund</th>\n      <th>Fines</th>\n      <th>Make</th>\n      <th>Model</th>\n      <th>Year</th>\n    </tr>\n  </thead>\n  <tbody>\n    <tr>\n      <th>715</th>\n      <td>O136HO197RUS</td>\n      <td>2</td>\n      <td>7800.0</td>\n      <td>Toyota</td>\n      <td>Corolla</td>\n      <td>1999</td>\n    </tr>\n    <tr>\n      <th>902</th>\n      <td>O136HO197RUS</td>\n      <td>2</td>\n      <td>7800.0</td>\n      <td>Toyota</td>\n      <td>Corolla</td>\n      <td>1998</td>\n    </tr>\n  </tbody>\n</table>\n</div>"
     },
     "execution_count": 53,
     "metadata": {},
     "output_type": "execute_result"
    }
   ],
   "source": [
    "%%time\n",
    "df.loc[df['CarNumber'] == 'O136HO197RUS']"
   ],
   "metadata": {
    "collapsed": false,
    "pycharm": {
     "name": "#%%\n"
    }
   }
  },
  {
   "cell_type": "markdown",
   "source": [
    "#### set the index in your dataframe with CarNumber"
   ],
   "metadata": {
    "collapsed": false,
    "pycharm": {
     "name": "#%% md\n"
    }
   }
  },
  {
   "cell_type": "code",
   "execution_count": 54,
   "outputs": [
    {
     "data": {
      "text/plain": "              Refund   Fines    Make  Model  Year\nCarNumber                                        \nY163O8161RUS       2  3200.0    Ford  Focus  1989\nE432XX77RUS        1  6500.0  Toyota  Camry  1995\n7184TT36RUS        1  2100.0    Ford  Focus  1984\nX582HE161RUS       2  2000.0    Ford  Focus  2015\n92918M178RUS       1  5700.0    Ford  Focus  2014",
      "text/html": "<div>\n<style scoped>\n    .dataframe tbody tr th:only-of-type {\n        vertical-align: middle;\n    }\n\n    .dataframe tbody tr th {\n        vertical-align: top;\n    }\n\n    .dataframe thead th {\n        text-align: right;\n    }\n</style>\n<table border=\"1\" class=\"dataframe\">\n  <thead>\n    <tr style=\"text-align: right;\">\n      <th></th>\n      <th>Refund</th>\n      <th>Fines</th>\n      <th>Make</th>\n      <th>Model</th>\n      <th>Year</th>\n    </tr>\n    <tr>\n      <th>CarNumber</th>\n      <th></th>\n      <th></th>\n      <th></th>\n      <th></th>\n      <th></th>\n    </tr>\n  </thead>\n  <tbody>\n    <tr>\n      <th>Y163O8161RUS</th>\n      <td>2</td>\n      <td>3200.0</td>\n      <td>Ford</td>\n      <td>Focus</td>\n      <td>1989</td>\n    </tr>\n    <tr>\n      <th>E432XX77RUS</th>\n      <td>1</td>\n      <td>6500.0</td>\n      <td>Toyota</td>\n      <td>Camry</td>\n      <td>1995</td>\n    </tr>\n    <tr>\n      <th>7184TT36RUS</th>\n      <td>1</td>\n      <td>2100.0</td>\n      <td>Ford</td>\n      <td>Focus</td>\n      <td>1984</td>\n    </tr>\n    <tr>\n      <th>X582HE161RUS</th>\n      <td>2</td>\n      <td>2000.0</td>\n      <td>Ford</td>\n      <td>Focus</td>\n      <td>2015</td>\n    </tr>\n    <tr>\n      <th>92918M178RUS</th>\n      <td>1</td>\n      <td>5700.0</td>\n      <td>Ford</td>\n      <td>Focus</td>\n      <td>2014</td>\n    </tr>\n  </tbody>\n</table>\n</div>"
     },
     "execution_count": 54,
     "metadata": {},
     "output_type": "execute_result"
    }
   ],
   "source": [
    "df = df.set_index('CarNumber')\n",
    "df.head()"
   ],
   "metadata": {
    "collapsed": false,
    "pycharm": {
     "name": "#%%\n"
    }
   }
  },
  {
   "cell_type": "markdown",
   "source": [
    "#### again, get a row for the same CarNumber"
   ],
   "metadata": {
    "collapsed": false,
    "pycharm": {
     "name": "#%% md\n"
    }
   }
  },
  {
   "cell_type": "code",
   "execution_count": 55,
   "outputs": [
    {
     "name": "stdout",
     "output_type": "stream",
     "text": [
      "CPU times: user 632 µs, sys: 42 µs, total: 674 µs\n",
      "Wall time: 637 µs\n"
     ]
    },
    {
     "data": {
      "text/plain": "              Refund   Fines    Make    Model  Year\nCarNumber                                          \nO136HO197RUS       2  7800.0  Toyota  Corolla  1999\nO136HO197RUS       2  7800.0  Toyota  Corolla  1998",
      "text/html": "<div>\n<style scoped>\n    .dataframe tbody tr th:only-of-type {\n        vertical-align: middle;\n    }\n\n    .dataframe tbody tr th {\n        vertical-align: top;\n    }\n\n    .dataframe thead th {\n        text-align: right;\n    }\n</style>\n<table border=\"1\" class=\"dataframe\">\n  <thead>\n    <tr style=\"text-align: right;\">\n      <th></th>\n      <th>Refund</th>\n      <th>Fines</th>\n      <th>Make</th>\n      <th>Model</th>\n      <th>Year</th>\n    </tr>\n    <tr>\n      <th>CarNumber</th>\n      <th></th>\n      <th></th>\n      <th></th>\n      <th></th>\n      <th></th>\n    </tr>\n  </thead>\n  <tbody>\n    <tr>\n      <th>O136HO197RUS</th>\n      <td>2</td>\n      <td>7800.0</td>\n      <td>Toyota</td>\n      <td>Corolla</td>\n      <td>1999</td>\n    </tr>\n    <tr>\n      <th>O136HO197RUS</th>\n      <td>2</td>\n      <td>7800.0</td>\n      <td>Toyota</td>\n      <td>Corolla</td>\n      <td>1998</td>\n    </tr>\n  </tbody>\n</table>\n</div>"
     },
     "execution_count": 55,
     "metadata": {},
     "output_type": "execute_result"
    }
   ],
   "source": [
    "%%time\n",
    "df.loc['O136HO197RUS']"
   ],
   "metadata": {
    "collapsed": false,
    "pycharm": {
     "name": "#%%\n"
    }
   }
  },
  {
   "cell_type": "markdown",
   "source": [
    "## downcasting:\n",
    "#### run df.info(memory_usage=’deep’), pay attention to the Dtype and the memory usage"
   ],
   "metadata": {
    "collapsed": false,
    "pycharm": {
     "name": "#%% md\n"
    }
   }
  },
  {
   "cell_type": "code",
   "execution_count": 56,
   "outputs": [
    {
     "name": "stdout",
     "output_type": "stream",
     "text": [
      "<class 'pandas.core.frame.DataFrame'>\n",
      "Index: 930 entries, Y163O8161RUS to H980KC77RUS\n",
      "Data columns (total 5 columns):\n",
      " #   Column  Non-Null Count  Dtype  \n",
      "---  ------  --------------  -----  \n",
      " 0   Refund  930 non-null    int64  \n",
      " 1   Fines   930 non-null    float64\n",
      " 2   Make    930 non-null    object \n",
      " 3   Model   919 non-null    object \n",
      " 4   Year    930 non-null    int64  \n",
      "dtypes: float64(1), int64(2), object(2)\n",
      "memory usage: 228.7 KB\n"
     ]
    }
   ],
   "source": [
    "df.info(memory_usage='deep')"
   ],
   "metadata": {
    "collapsed": false,
    "pycharm": {
     "name": "#%%\n"
    }
   }
  },
  {
   "cell_type": "markdown",
   "source": [
    "#### make a copy() of your initial dataframe into another dataframe optimized"
   ],
   "metadata": {
    "collapsed": false,
    "pycharm": {
     "name": "#%% md\n"
    }
   }
  },
  {
   "cell_type": "code",
   "execution_count": 57,
   "outputs": [],
   "source": [
    "optimized = df.copy()"
   ],
   "metadata": {
    "collapsed": false,
    "pycharm": {
     "name": "#%%\n"
    }
   }
  },
  {
   "cell_type": "markdown",
   "source": [
    "#### downcast from float64 to float32 for all the columns"
   ],
   "metadata": {
    "collapsed": false,
    "pycharm": {
     "name": "#%% md\n"
    }
   }
  },
  {
   "cell_type": "code",
   "execution_count": 58,
   "outputs": [],
   "source": [
    "optimized['Fines'] = pd.to_numeric(optimized['Fines'], downcast='float')"
   ],
   "metadata": {
    "collapsed": false,
    "pycharm": {
     "name": "#%%\n"
    }
   }
  },
  {
   "cell_type": "markdown",
   "source": [
    "## downcast from int64 to the smallest numerical dtype possible"
   ],
   "metadata": {
    "collapsed": false,
    "pycharm": {
     "name": "#%% md\n"
    }
   }
  },
  {
   "cell_type": "code",
   "execution_count": 59,
   "outputs": [],
   "source": [
    "optimized['Refund'] = pd.to_numeric(optimized['Refund'], downcast='integer')\n",
    "optimized['Year'] = pd.to_numeric(optimized['Year'], downcast='integer')"
   ],
   "metadata": {
    "collapsed": false,
    "pycharm": {
     "name": "#%%\n"
    }
   }
  },
  {
   "cell_type": "markdown",
   "source": [
    "#### run info(memory_usage=’deep’) for your new dataframe, pay attention to the Dtype and the memory usage"
   ],
   "metadata": {
    "collapsed": false,
    "pycharm": {
     "name": "#%% md\n"
    }
   }
  },
  {
   "cell_type": "code",
   "execution_count": 60,
   "outputs": [
    {
     "name": "stdout",
     "output_type": "stream",
     "text": [
      "<class 'pandas.core.frame.DataFrame'>\n",
      "Index: 930 entries, Y163O8161RUS to H980KC77RUS\n",
      "Data columns (total 5 columns):\n",
      " #   Column  Non-Null Count  Dtype  \n",
      "---  ------  --------------  -----  \n",
      " 0   Refund  930 non-null    int8   \n",
      " 1   Fines   930 non-null    float32\n",
      " 2   Make    930 non-null    object \n",
      " 3   Model   919 non-null    object \n",
      " 4   Year    930 non-null    int16  \n",
      "dtypes: float32(1), int16(1), int8(1), object(2)\n",
      "memory usage: 213.3 KB\n"
     ]
    }
   ],
   "source": [
    "optimized.info(memory_usage='deep')"
   ],
   "metadata": {
    "collapsed": false,
    "pycharm": {
     "name": "#%%\n"
    }
   }
  },
  {
   "cell_type": "markdown",
   "source": [
    "## categories:\n",
    "#### change the object type columns to the type category"
   ],
   "metadata": {
    "collapsed": false,
    "pycharm": {
     "name": "#%% md\n"
    }
   }
  },
  {
   "cell_type": "code",
   "execution_count": 61,
   "outputs": [],
   "source": [
    "optimized = optimized.reset_index()\n",
    "optimized['CarNumber'] = optimized['Make'].astype('category')\n",
    "optimized['Make'] = optimized['Make'].astype('category')\n",
    "optimized['Model'] = optimized['Model'].astype('category')"
   ],
   "metadata": {
    "collapsed": false,
    "pycharm": {
     "name": "#%%\n"
    }
   }
  },
  {
   "cell_type": "markdown",
   "source": [
    "#### This time, check the memory usage, it probably has a decrease of 2-3 times compared to the initial dataframe"
   ],
   "metadata": {
    "collapsed": false,
    "pycharm": {
     "name": "#%% md\n"
    }
   }
  },
  {
   "cell_type": "code",
   "execution_count": 62,
   "outputs": [
    {
     "name": "stdout",
     "output_type": "stream",
     "text": [
      "<class 'pandas.core.frame.DataFrame'>\n",
      "RangeIndex: 930 entries, 0 to 929\n",
      "Data columns (total 6 columns):\n",
      " #   Column     Non-Null Count  Dtype   \n",
      "---  ------     --------------  -----   \n",
      " 0   CarNumber  930 non-null    category\n",
      " 1   Refund     930 non-null    int8    \n",
      " 2   Fines      930 non-null    float32 \n",
      " 3   Make       930 non-null    category\n",
      " 4   Model      919 non-null    category\n",
      " 5   Year       930 non-null    int16   \n",
      "dtypes: category(3), float32(1), int16(1), int8(1)\n",
      "memory usage: 11.5 KB\n"
     ]
    }
   ],
   "source": [
    "optimized.info(memory_usage='deep')"
   ],
   "metadata": {
    "collapsed": false,
    "pycharm": {
     "name": "#%%\n"
    }
   }
  },
  {
   "cell_type": "markdown",
   "source": [
    "## memory clean\n",
    "#### using %reset_selective and the library gc clean the memory of your initial dataframe only"
   ],
   "metadata": {
    "collapsed": false,
    "pycharm": {
     "name": "#%% md\n"
    }
   }
  },
  {
   "cell_type": "code",
   "execution_count": 63,
   "outputs": [],
   "source": [
    "%reset_selective -f df"
   ],
   "metadata": {
    "collapsed": false,
    "pycharm": {
     "name": "#%%\n"
    }
   }
  },
  {
   "cell_type": "code",
   "execution_count": 65,
   "outputs": [
    {
     "ename": "NameError",
     "evalue": "name 'df' is not defined",
     "output_type": "error",
     "traceback": [
      "\u001B[0;31m---------------------------------------------------------------------------\u001B[0m",
      "\u001B[0;31mNameError\u001B[0m                                 Traceback (most recent call last)",
      "Input \u001B[0;32mIn [65]\u001B[0m, in \u001B[0;36m<cell line: 1>\u001B[0;34m()\u001B[0m\n\u001B[0;32m----> 1\u001B[0m \u001B[43mdf\u001B[49m\n",
      "\u001B[0;31mNameError\u001B[0m: name 'df' is not defined"
     ]
    }
   ],
   "source": [
    "df"
   ],
   "metadata": {
    "collapsed": false,
    "pycharm": {
     "name": "#%%\n"
    }
   }
  },
  {
   "cell_type": "code",
   "execution_count": null,
   "outputs": [],
   "source": [],
   "metadata": {
    "collapsed": false,
    "pycharm": {
     "name": "#%%\n"
    }
   }
  }
 ],
 "metadata": {
  "kernelspec": {
   "display_name": "Python 3",
   "language": "python",
   "name": "python3"
  },
  "language_info": {
   "codemirror_mode": {
    "name": "ipython",
    "version": 2
   },
   "file_extension": ".py",
   "mimetype": "text/x-python",
   "name": "python",
   "nbconvert_exporter": "python",
   "pygments_lexer": "ipython2",
   "version": "2.7.6"
  }
 },
 "nbformat": 4,
 "nbformat_minor": 0
}