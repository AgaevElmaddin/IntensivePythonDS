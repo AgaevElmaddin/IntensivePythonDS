{
 "cells": [
  {
   "cell_type": "markdown",
   "metadata": {
    "collapsed": true,
    "pycharm": {
     "name": "#%% md\n"
    }
   },
   "source": [
    "## Imports"
   ]
  },
  {
   "cell_type": "code",
   "execution_count": 1,
   "outputs": [],
   "source": [
    "import pandas as pd\n",
    "import sqlite3"
   ],
   "metadata": {
    "collapsed": false,
    "pycharm": {
     "name": "#%%\n"
    }
   }
  },
  {
   "cell_type": "markdown",
   "source": [
    "## Create a connection to the database using the library sqlite3"
   ],
   "metadata": {
    "collapsed": false,
    "pycharm": {
     "name": "#%% md\n"
    }
   }
  },
  {
   "cell_type": "code",
   "execution_count": 3,
   "outputs": [
    {
     "data": {
      "text/plain": "<sqlite3.Connection at 0x116958840>"
     },
     "execution_count": 3,
     "metadata": {},
     "output_type": "execute_result"
    }
   ],
   "source": [
    "connection = sqlite3.connect('../data/checking-logs.sqlite.sqlite copy')\n",
    "connection"
   ],
   "metadata": {
    "collapsed": false,
    "pycharm": {
     "name": "#%%\n"
    }
   }
  },
  {
   "cell_type": "markdown",
   "source": [
    "## Using only one query for each of the groups, create two dataframes: test_results and control_results with the columns time and avg_diff and only two rows\n",
    "#### time should have the values: after and before\n",
    "#### avg_diff contains the average delta among all the users for the time period before each of them made their first visit to the page and afterward\n",
    "#### only take into account the users that have observations before and after"
   ],
   "metadata": {
    "collapsed": false,
    "pycharm": {
     "name": "#%% md\n"
    }
   }
  },
  {
   "cell_type": "code",
   "execution_count": 8,
   "outputs": [
    {
     "data": {
      "text/plain": "     time  avg_diff\n0   after -104.6000\n1  before  -60.5625",
      "text/html": "<div>\n<style scoped>\n    .dataframe tbody tr th:only-of-type {\n        vertical-align: middle;\n    }\n\n    .dataframe tbody tr th {\n        vertical-align: top;\n    }\n\n    .dataframe thead th {\n        text-align: right;\n    }\n</style>\n<table border=\"1\" class=\"dataframe\">\n  <thead>\n    <tr style=\"text-align: right;\">\n      <th></th>\n      <th>time</th>\n      <th>avg_diff</th>\n    </tr>\n  </thead>\n  <tbody>\n    <tr>\n      <th>0</th>\n      <td>after</td>\n      <td>-104.6000</td>\n    </tr>\n    <tr>\n      <th>1</th>\n      <td>before</td>\n      <td>-60.5625</td>\n    </tr>\n  </tbody>\n</table>\n</div>"
     },
     "execution_count": 8,
     "metadata": {},
     "output_type": "execute_result"
    }
   ],
   "source": [
    "query = '''\n",
    "SELECT time, avg(diff) AS avg_diff\n",
    "FROM (SELECT uid, CAST((JulianDay(test.first_commit_ts) - JulianDay(datetime(deadlines.deadlines, 'unixepoch'))) * 24 AS\n",
    "Integer) as diff, CASE WHEN test.first_commit_ts < test.first_view_ts THEN 'before' ELSE 'after' END AS time\n",
    "        FROM test left join deadlines on test.labname = deadlines.labs\n",
    "        WHERE labname <> 'project1')\n",
    "WHERE uid in (SELECT uid\n",
    "                FROM (SELECT uid, CASE WHEN test.first_commit_ts < test.first_view_ts THEN 'before' ELSE 'after' END AS time\n",
    "                        FROM test LEFT JOIN deadlines ON test.labname=deadlines.labs\n",
    "                        WHERE labname <> 'project1')\n",
    "                        GROUP BY uid\n",
    "                        HAVING COUNT(DISTINCT time) = 2)\n",
    "GROUP BY time\n",
    "'''\n",
    "test_results = pd.io.sql.read_sql(query, connection)\n",
    "test_results"
   ],
   "metadata": {
    "collapsed": false,
    "pycharm": {
     "name": "#%%\n"
    }
   }
  },
  {
   "cell_type": "code",
   "execution_count": 9,
   "outputs": [
    {
     "data": {
      "text/plain": "     time    avg_diff\n0   after -117.636364\n1  before  -99.464286",
      "text/html": "<div>\n<style scoped>\n    .dataframe tbody tr th:only-of-type {\n        vertical-align: middle;\n    }\n\n    .dataframe tbody tr th {\n        vertical-align: top;\n    }\n\n    .dataframe thead th {\n        text-align: right;\n    }\n</style>\n<table border=\"1\" class=\"dataframe\">\n  <thead>\n    <tr style=\"text-align: right;\">\n      <th></th>\n      <th>time</th>\n      <th>avg_diff</th>\n    </tr>\n  </thead>\n  <tbody>\n    <tr>\n      <th>0</th>\n      <td>after</td>\n      <td>-117.636364</td>\n    </tr>\n    <tr>\n      <th>1</th>\n      <td>before</td>\n      <td>-99.464286</td>\n    </tr>\n  </tbody>\n</table>\n</div>"
     },
     "execution_count": 9,
     "metadata": {},
     "output_type": "execute_result"
    }
   ],
   "source": [
    "query = '''\n",
    "SELECT time, avg(diff) AS avg_diff\n",
    "FROM (SELECT uid, CAST((JulianDay(control.first_commit_ts) - JulianDay(datetime(deadlines.deadlines, 'unixepoch'))) * 24 AS\n",
    "Integer) as diff, CASE WHEN control.first_commit_ts < control.first_view_ts THEN 'before' ELSE 'after' END AS time\n",
    "        FROM control left join deadlines on control.labname = deadlines.labs\n",
    "        WHERE labname <> 'project1')\n",
    "WHERE uid in (SELECT uid\n",
    "                FROM (SELECT uid, CASE WHEN control.first_commit_ts < control.first_view_ts THEN 'before' ELSE 'after' END AS time\n",
    "                        FROM control LEFT JOIN deadlines ON control.labname=deadlines.labs\n",
    "                        WHERE labname <> 'project1')\n",
    "                        GROUP BY uid\n",
    "                        HAVING COUNT(DISTINCT time) = 2)\n",
    "GROUP BY time\n",
    "'''\n",
    "control_results = pd.io.sql.read_sql(query, connection)\n",
    "control_results"
   ],
   "metadata": {
    "collapsed": false,
    "pycharm": {
     "name": "#%%\n"
    }
   }
  },
  {
   "cell_type": "markdown",
   "source": [
    "## Close the connection"
   ],
   "metadata": {
    "collapsed": false,
    "pycharm": {
     "name": "#%% md\n"
    }
   }
  },
  {
   "cell_type": "code",
   "execution_count": 10,
   "outputs": [],
   "source": [
    "connection.close()"
   ],
   "metadata": {
    "collapsed": false,
    "pycharm": {
     "name": "#%%\n"
    }
   }
  },
  {
   "cell_type": "markdown",
   "source": [
    "## have the answer: did the hypothesis turn out to be true and the page does affect the students’ behavior?"
   ],
   "metadata": {
    "collapsed": false,
    "pycharm": {
     "name": "#%% md\n"
    }
   }
  },
  {
   "cell_type": "markdown",
   "source": [
    "#### Yes, it did. If the delta before the first Newsfeed visit is significantly different compared to the delta afterward in the test group, and we do not see the same effect in the control group, then creating the page was a great idea. We can roll it out to the whole group."
   ],
   "metadata": {
    "collapsed": false,
    "pycharm": {
     "name": "#%% md\n"
    }
   }
  },
  {
   "cell_type": "code",
   "execution_count": null,
   "outputs": [],
   "source": [],
   "metadata": {
    "collapsed": false,
    "pycharm": {
     "name": "#%%\n"
    }
   }
  }
 ],
 "metadata": {
  "kernelspec": {
   "display_name": "Python 3",
   "language": "python",
   "name": "python3"
  },
  "language_info": {
   "codemirror_mode": {
    "name": "ipython",
    "version": 2
   },
   "file_extension": ".py",
   "mimetype": "text/x-python",
   "name": "python",
   "nbconvert_exporter": "python",
   "pygments_lexer": "ipython2",
   "version": "2.7.6"
  }
 },
 "nbformat": 4,
 "nbformat_minor": 0
}