{
 "cells": [
  {
   "cell_type": "markdown",
   "metadata": {
    "collapsed": true,
    "pycharm": {
     "name": "#%% md\n"
    }
   },
   "source": [
    "## Imports"
   ]
  },
  {
   "cell_type": "code",
   "execution_count": 17,
   "outputs": [],
   "source": [
    "import pandas as pd\n",
    "import sqlite3\n",
    "import matplotlib.pyplot as plt"
   ],
   "metadata": {
    "collapsed": false,
    "pycharm": {
     "name": "#%%\n"
    }
   }
  },
  {
   "cell_type": "code",
   "source": [
    "connection = sqlite3.connect('../data/checking-logs.sqlite.sqlite')\n",
    "connection"
   ],
   "metadata": {
    "collapsed": false,
    "pycharm": {
     "name": "#%%\n"
    }
   },
   "execution_count": 18,
   "outputs": [
    {
     "data": {
      "text/plain": "<sqlite3.Connection at 0x11b23aa40>"
     },
     "execution_count": 18,
     "metadata": {},
     "output_type": "execute_result"
    }
   ]
  },
  {
   "cell_type": "markdown",
   "source": [
    "## analyze only the users and not the admins"
   ],
   "metadata": {
    "collapsed": false,
    "pycharm": {
     "name": "#%% md\n"
    }
   }
  },
  {
   "cell_type": "code",
   "source": [
    "request = '''\n",
    "SELECT timestamp\n",
    "FROM checker\n",
    "WHERE uid LIKE 'user_%'\n",
    "'''\n",
    "commits = pd.io.sql.read_sql(request, connection, parse_dates=['timestamp'])\n",
    "commits"
   ],
   "metadata": {
    "collapsed": false,
    "pycharm": {
     "name": "#%%\n"
    }
   },
   "execution_count": 19,
   "outputs": [
    {
     "data": {
      "text/plain": "                      timestamp\n0    2020-04-17 05:19:02.744528\n1    2020-04-17 05:22:35.249331\n2    2020-04-17 05:22:45.549397\n3    2020-04-17 05:34:14.691200\n4    2020-04-17 05:34:24.422370\n...                         ...\n3202 2020-05-21 20:19:06.872761\n3203 2020-05-21 20:22:41.785725\n3204 2020-05-21 20:22:41.877806\n3205 2020-05-21 20:37:00.129678\n3206 2020-05-21 20:37:00.290491\n\n[3207 rows x 1 columns]",
      "text/html": "<div>\n<style scoped>\n    .dataframe tbody tr th:only-of-type {\n        vertical-align: middle;\n    }\n\n    .dataframe tbody tr th {\n        vertical-align: top;\n    }\n\n    .dataframe thead th {\n        text-align: right;\n    }\n</style>\n<table border=\"1\" class=\"dataframe\">\n  <thead>\n    <tr style=\"text-align: right;\">\n      <th></th>\n      <th>timestamp</th>\n    </tr>\n  </thead>\n  <tbody>\n    <tr>\n      <th>0</th>\n      <td>2020-04-17 05:19:02.744528</td>\n    </tr>\n    <tr>\n      <th>1</th>\n      <td>2020-04-17 05:22:35.249331</td>\n    </tr>\n    <tr>\n      <th>2</th>\n      <td>2020-04-17 05:22:45.549397</td>\n    </tr>\n    <tr>\n      <th>3</th>\n      <td>2020-04-17 05:34:14.691200</td>\n    </tr>\n    <tr>\n      <th>4</th>\n      <td>2020-04-17 05:34:24.422370</td>\n    </tr>\n    <tr>\n      <th>...</th>\n      <td>...</td>\n    </tr>\n    <tr>\n      <th>3202</th>\n      <td>2020-05-21 20:19:06.872761</td>\n    </tr>\n    <tr>\n      <th>3203</th>\n      <td>2020-05-21 20:22:41.785725</td>\n    </tr>\n    <tr>\n      <th>3204</th>\n      <td>2020-05-21 20:22:41.877806</td>\n    </tr>\n    <tr>\n      <th>3205</th>\n      <td>2020-05-21 20:37:00.129678</td>\n    </tr>\n    <tr>\n      <th>3206</th>\n      <td>2020-05-21 20:37:00.290491</td>\n    </tr>\n  </tbody>\n</table>\n<p>3207 rows × 1 columns</p>\n</div>"
     },
     "execution_count": 19,
     "metadata": {},
     "output_type": "execute_result"
    }
   ]
  },
  {
   "cell_type": "markdown",
   "source": [
    "## create two lists of values (for working days and for weekends) for the histogram input"
   ],
   "metadata": {
    "collapsed": false,
    "pycharm": {
     "name": "#%% md\n"
    }
   }
  },
  {
   "cell_type": "code",
   "execution_count": 20,
   "outputs": [],
   "source": [
    "commits['date'] = commits['timestamp'].dt.floor('d')\n",
    "commits['hour'] = commits['timestamp'].dt.hour\n",
    "commits = commits.drop('timestamp', axis=1)"
   ],
   "metadata": {
    "collapsed": false,
    "pycharm": {
     "name": "#%%\n"
    }
   }
  },
  {
   "cell_type": "code",
   "execution_count": 21,
   "outputs": [
    {
     "data": {
      "text/plain": "0        5\n1        5\n2        5\n3        5\n4        5\n        ..\n2032    20\n2033    20\n2034    20\n2035    20\n2036    20\nName: hour, Length: 2037, dtype: int64"
     },
     "execution_count": 21,
     "metadata": {},
     "output_type": "execute_result"
    }
   ],
   "source": [
    "working_day = commits.loc[commits['date'].dt.dayofweek < 5]['hour']\n",
    "weekend = commits.loc[commits['date'].dt.dayofweek >= 5]['hour']\n",
    "working_day = working_day.reset_index(drop=True)\n",
    "weekend = weekend.reset_index(drop=True)\n",
    "working_day"
   ],
   "metadata": {
    "collapsed": false,
    "pycharm": {
     "name": "#%%\n"
    }
   }
  },
  {
   "cell_type": "code",
   "execution_count": 22,
   "outputs": [
    {
     "data": {
      "text/plain": "0        7\n1       13\n2       13\n3       13\n4       13\n        ..\n1165    22\n1166    22\n1167    22\n1168    22\n1169    22\nName: hour, Length: 1170, dtype: int64"
     },
     "execution_count": 22,
     "metadata": {},
     "output_type": "execute_result"
    }
   ],
   "source": [
    "weekend"
   ],
   "metadata": {
    "collapsed": false,
    "pycharm": {
     "name": "#%%\n"
    }
   }
  },
  {
   "cell_type": "markdown",
   "source": [
    "## the figsize is still the same, you can choose the fontsize as well as the color palette\n",
    "## use a level of transparency for the histogram in front equal to 0.7"
   ],
   "metadata": {
    "collapsed": false,
    "pycharm": {
     "name": "#%% md\n"
    }
   }
  },
  {
   "cell_type": "code",
   "execution_count": 34,
   "outputs": [
    {
     "data": {
      "text/plain": "<Figure size 1080x576 with 1 Axes>",
      "image/png": "[encoded data removed]"
     },
     "metadata": {
      "needs_background": "light"
     },
     "output_type": "display_data"
    }
   ],
   "source": [
    "fig, axes = plt.subplots(figsize=(15,8))\n",
    "axes.hist(working_day, bins=24, label='working days', color='red')\n",
    "axes.hist(weekend, bins=24, label='weekend', color='green', alpha=0.7)\n",
    "axes.set_xlim(0, 23)\n",
    "axes.legend(loc='upper left', fontsize=15)\n",
    "plt.show()"
   ],
   "metadata": {
    "collapsed": false,
    "pycharm": {
     "name": "#%%\n"
    }
   }
  },
  {
   "cell_type": "markdown",
   "source": [
    "## “Are there hours when the total number of commits was higher on weekends than on working days?” In your answer, put the top-4 examples."
   ],
   "metadata": {
    "collapsed": false,
    "pycharm": {
     "name": "#%% md\n"
    }
   }
  },
  {
   "cell_type": "code",
   "execution_count": 42,
   "outputs": [
    {
     "data": {
      "text/plain": "    working_day\n0             6\n3             2\n5            15\n6             3\n7            31\n8            37\n9            30\n10          132\n11           88\n12           79\n13           73\n14          122\n15          141\n16          170\n17          192\n18          167\n19          214\n20          183\n21          292\n22           45\n23           15",
      "text/html": "<div>\n<style scoped>\n    .dataframe tbody tr th:only-of-type {\n        vertical-align: middle;\n    }\n\n    .dataframe tbody tr th {\n        vertical-align: top;\n    }\n\n    .dataframe thead th {\n        text-align: right;\n    }\n</style>\n<table border=\"1\" class=\"dataframe\">\n  <thead>\n    <tr style=\"text-align: right;\">\n      <th></th>\n      <th>working_day</th>\n    </tr>\n  </thead>\n  <tbody>\n    <tr>\n      <th>0</th>\n      <td>6</td>\n    </tr>\n    <tr>\n      <th>3</th>\n      <td>2</td>\n    </tr>\n    <tr>\n      <th>5</th>\n      <td>15</td>\n    </tr>\n    <tr>\n      <th>6</th>\n      <td>3</td>\n    </tr>\n    <tr>\n      <th>7</th>\n      <td>31</td>\n    </tr>\n    <tr>\n      <th>8</th>\n      <td>37</td>\n    </tr>\n    <tr>\n      <th>9</th>\n      <td>30</td>\n    </tr>\n    <tr>\n      <th>10</th>\n      <td>132</td>\n    </tr>\n    <tr>\n      <th>11</th>\n      <td>88</td>\n    </tr>\n    <tr>\n      <th>12</th>\n      <td>79</td>\n    </tr>\n    <tr>\n      <th>13</th>\n      <td>73</td>\n    </tr>\n    <tr>\n      <th>14</th>\n      <td>122</td>\n    </tr>\n    <tr>\n      <th>15</th>\n      <td>141</td>\n    </tr>\n    <tr>\n      <th>16</th>\n      <td>170</td>\n    </tr>\n    <tr>\n      <th>17</th>\n      <td>192</td>\n    </tr>\n    <tr>\n      <th>18</th>\n      <td>167</td>\n    </tr>\n    <tr>\n      <th>19</th>\n      <td>214</td>\n    </tr>\n    <tr>\n      <th>20</th>\n      <td>183</td>\n    </tr>\n    <tr>\n      <th>21</th>\n      <td>292</td>\n    </tr>\n    <tr>\n      <th>22</th>\n      <td>45</td>\n    </tr>\n    <tr>\n      <th>23</th>\n      <td>15</td>\n    </tr>\n  </tbody>\n</table>\n</div>"
     },
     "execution_count": 42,
     "metadata": {},
     "output_type": "execute_result"
    }
   ],
   "source": [
    "df1 = working_day.value_counts()\n",
    "df1 = df1.sort_index()\n",
    "df1 = df1.rename('working_day')\n",
    "df1 = df1.to_frame()\n",
    "df1"
   ],
   "metadata": {
    "collapsed": false,
    "pycharm": {
     "name": "#%%\n"
    }
   }
  },
  {
   "cell_type": "code",
   "execution_count": 43,
   "outputs": [
    {
     "data": {
      "text/plain": "    weekend\n0         6\n1         6\n3         1\n5         2\n7        16\n8        28\n9        22\n10       28\n11      118\n12       57\n13      108\n14       87\n15      114\n16       74\n17       50\n18       68\n19      105\n20      117\n21       72\n22       59\n23       32",
      "text/html": "<div>\n<style scoped>\n    .dataframe tbody tr th:only-of-type {\n        vertical-align: middle;\n    }\n\n    .dataframe tbody tr th {\n        vertical-align: top;\n    }\n\n    .dataframe thead th {\n        text-align: right;\n    }\n</style>\n<table border=\"1\" class=\"dataframe\">\n  <thead>\n    <tr style=\"text-align: right;\">\n      <th></th>\n      <th>weekend</th>\n    </tr>\n  </thead>\n  <tbody>\n    <tr>\n      <th>0</th>\n      <td>6</td>\n    </tr>\n    <tr>\n      <th>1</th>\n      <td>6</td>\n    </tr>\n    <tr>\n      <th>3</th>\n      <td>1</td>\n    </tr>\n    <tr>\n      <th>5</th>\n      <td>2</td>\n    </tr>\n    <tr>\n      <th>7</th>\n      <td>16</td>\n    </tr>\n    <tr>\n      <th>8</th>\n      <td>28</td>\n    </tr>\n    <tr>\n      <th>9</th>\n      <td>22</td>\n    </tr>\n    <tr>\n      <th>10</th>\n      <td>28</td>\n    </tr>\n    <tr>\n      <th>11</th>\n      <td>118</td>\n    </tr>\n    <tr>\n      <th>12</th>\n      <td>57</td>\n    </tr>\n    <tr>\n      <th>13</th>\n      <td>108</td>\n    </tr>\n    <tr>\n      <th>14</th>\n      <td>87</td>\n    </tr>\n    <tr>\n      <th>15</th>\n      <td>114</td>\n    </tr>\n    <tr>\n      <th>16</th>\n      <td>74</td>\n    </tr>\n    <tr>\n      <th>17</th>\n      <td>50</td>\n    </tr>\n    <tr>\n      <th>18</th>\n      <td>68</td>\n    </tr>\n    <tr>\n      <th>19</th>\n      <td>105</td>\n    </tr>\n    <tr>\n      <th>20</th>\n      <td>117</td>\n    </tr>\n    <tr>\n      <th>21</th>\n      <td>72</td>\n    </tr>\n    <tr>\n      <th>22</th>\n      <td>59</td>\n    </tr>\n    <tr>\n      <th>23</th>\n      <td>32</td>\n    </tr>\n  </tbody>\n</table>\n</div>"
     },
     "execution_count": 43,
     "metadata": {},
     "output_type": "execute_result"
    }
   ],
   "source": [
    "df2 = weekend.value_counts()\n",
    "df2 = df2.sort_index()\n",
    "df2 = df2.rename('weekend')\n",
    "df2 = df2.to_frame()\n",
    "df2"
   ],
   "metadata": {
    "collapsed": false,
    "pycharm": {
     "name": "#%%\n"
    }
   }
  },
  {
   "cell_type": "code",
   "execution_count": 45,
   "outputs": [
    {
     "data": {
      "text/plain": "      working_day  weekend\nhour                      \n0               6        6\n3               2        1\n5              15        2\n7              31       16\n8              37       28\n9              30       22\n10            132       28\n11             88      118\n12             79       57\n13             73      108\n14            122       87\n15            141      114\n16            170       74\n17            192       50\n18            167       68\n19            214      105\n20            183      117\n21            292       72\n22             45       59\n23             15       32",
      "text/html": "<div>\n<style scoped>\n    .dataframe tbody tr th:only-of-type {\n        vertical-align: middle;\n    }\n\n    .dataframe tbody tr th {\n        vertical-align: top;\n    }\n\n    .dataframe thead th {\n        text-align: right;\n    }\n</style>\n<table border=\"1\" class=\"dataframe\">\n  <thead>\n    <tr style=\"text-align: right;\">\n      <th></th>\n      <th>working_day</th>\n      <th>weekend</th>\n    </tr>\n    <tr>\n      <th>hour</th>\n      <th></th>\n      <th></th>\n    </tr>\n  </thead>\n  <tbody>\n    <tr>\n      <th>0</th>\n      <td>6</td>\n      <td>6</td>\n    </tr>\n    <tr>\n      <th>3</th>\n      <td>2</td>\n      <td>1</td>\n    </tr>\n    <tr>\n      <th>5</th>\n      <td>15</td>\n      <td>2</td>\n    </tr>\n    <tr>\n      <th>7</th>\n      <td>31</td>\n      <td>16</td>\n    </tr>\n    <tr>\n      <th>8</th>\n      <td>37</td>\n      <td>28</td>\n    </tr>\n    <tr>\n      <th>9</th>\n      <td>30</td>\n      <td>22</td>\n    </tr>\n    <tr>\n      <th>10</th>\n      <td>132</td>\n      <td>28</td>\n    </tr>\n    <tr>\n      <th>11</th>\n      <td>88</td>\n      <td>118</td>\n    </tr>\n    <tr>\n      <th>12</th>\n      <td>79</td>\n      <td>57</td>\n    </tr>\n    <tr>\n      <th>13</th>\n      <td>73</td>\n      <td>108</td>\n    </tr>\n    <tr>\n      <th>14</th>\n      <td>122</td>\n      <td>87</td>\n    </tr>\n    <tr>\n      <th>15</th>\n      <td>141</td>\n      <td>114</td>\n    </tr>\n    <tr>\n      <th>16</th>\n      <td>170</td>\n      <td>74</td>\n    </tr>\n    <tr>\n      <th>17</th>\n      <td>192</td>\n      <td>50</td>\n    </tr>\n    <tr>\n      <th>18</th>\n      <td>167</td>\n      <td>68</td>\n    </tr>\n    <tr>\n      <th>19</th>\n      <td>214</td>\n      <td>105</td>\n    </tr>\n    <tr>\n      <th>20</th>\n      <td>183</td>\n      <td>117</td>\n    </tr>\n    <tr>\n      <th>21</th>\n      <td>292</td>\n      <td>72</td>\n    </tr>\n    <tr>\n      <th>22</th>\n      <td>45</td>\n      <td>59</td>\n    </tr>\n    <tr>\n      <th>23</th>\n      <td>15</td>\n      <td>32</td>\n    </tr>\n  </tbody>\n</table>\n</div>"
     },
     "execution_count": 45,
     "metadata": {},
     "output_type": "execute_result"
    }
   ],
   "source": [
    "df = df1.join(df2, how='inner')\n",
    "df = df.rename_axis('hour')\n",
    "df"
   ],
   "metadata": {
    "collapsed": false,
    "pycharm": {
     "name": "#%%\n"
    }
   }
  },
  {
   "cell_type": "code",
   "execution_count": 46,
   "outputs": [
    {
     "data": {
      "text/plain": "      working_day  weekend\nhour                      \n11             88      118\n13             73      108\n22             45       59\n23             15       32",
      "text/html": "<div>\n<style scoped>\n    .dataframe tbody tr th:only-of-type {\n        vertical-align: middle;\n    }\n\n    .dataframe tbody tr th {\n        vertical-align: top;\n    }\n\n    .dataframe thead th {\n        text-align: right;\n    }\n</style>\n<table border=\"1\" class=\"dataframe\">\n  <thead>\n    <tr style=\"text-align: right;\">\n      <th></th>\n      <th>working_day</th>\n      <th>weekend</th>\n    </tr>\n    <tr>\n      <th>hour</th>\n      <th></th>\n      <th></th>\n    </tr>\n  </thead>\n  <tbody>\n    <tr>\n      <th>11</th>\n      <td>88</td>\n      <td>118</td>\n    </tr>\n    <tr>\n      <th>13</th>\n      <td>73</td>\n      <td>108</td>\n    </tr>\n    <tr>\n      <th>22</th>\n      <td>45</td>\n      <td>59</td>\n    </tr>\n    <tr>\n      <th>23</th>\n      <td>15</td>\n      <td>32</td>\n    </tr>\n  </tbody>\n</table>\n</div>"
     },
     "execution_count": 46,
     "metadata": {},
     "output_type": "execute_result"
    }
   ],
   "source": [
    "df.loc[df['working_day'] < df['weekend']]"
   ],
   "metadata": {
    "collapsed": false,
    "pycharm": {
     "name": "#%%\n"
    }
   }
  },
  {
   "cell_type": "markdown",
   "source": [
    "#### 11, 13, 22, 23 - hours when the total number of commits was higher on weekends than on working days"
   ],
   "metadata": {
    "collapsed": false,
    "pycharm": {
     "name": "#%% md\n"
    }
   }
  },
  {
   "cell_type": "code",
   "execution_count": 47,
   "outputs": [],
   "source": [
    "connection.close()"
   ],
   "metadata": {
    "collapsed": false,
    "pycharm": {
     "name": "#%%\n"
    }
   }
  },
  {
   "cell_type": "code",
   "execution_count": null,
   "outputs": [],
   "source": [],
   "metadata": {
    "collapsed": false,
    "pycharm": {
     "name": "#%%\n"
    }
   }
  }
 ],
 "metadata": {
  "kernelspec": {
   "display_name": "Python 3",
   "language": "python",
   "name": "python3"
  },
  "language_info": {
   "codemirror_mode": {
    "name": "ipython",
    "version": 2
   },
   "file_extension": ".py",
   "mimetype": "text/x-python",
   "name": "python",
   "nbconvert_exporter": "python",
   "pygments_lexer": "ipython2",
   "version": "2.7.6"
  }
 },
 "nbformat": 4,
 "nbformat_minor": 0
}