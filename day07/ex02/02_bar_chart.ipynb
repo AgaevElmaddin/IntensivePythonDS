{
 "cells": [
  {
   "cell_type": "markdown",
   "metadata": {
    "collapsed": true,
    "pycharm": {
     "name": "#%% md\n"
    }
   },
   "source": [
    "## Imports"
   ]
  },
  {
   "cell_type": "code",
   "execution_count": 72,
   "outputs": [],
   "source": [
    "import pandas as pd\n",
    "import sqlite3"
   ],
   "metadata": {
    "collapsed": false,
    "pycharm": {
     "name": "#%%\n"
    }
   }
  },
  {
   "cell_type": "code",
   "source": [
    "connection = sqlite3.connect('../data/checking-logs.sqlite.sqlite')\n",
    "connection"
   ],
   "metadata": {
    "collapsed": false,
    "pycharm": {
     "name": "#%%\n"
    }
   },
   "execution_count": 73,
   "outputs": [
    {
     "data": {
      "text/plain": "<sqlite3.Connection at 0x12b897540>"
     },
     "execution_count": 73,
     "metadata": {},
     "output_type": "execute_result"
    }
   ]
  },
  {
   "cell_type": "markdown",
   "source": [
    "## analyze only the users and not the admins"
   ],
   "metadata": {
    "collapsed": false,
    "pycharm": {
     "name": "#%% md\n"
    }
   }
  },
  {
   "cell_type": "code",
   "execution_count": 74,
   "outputs": [
    {
     "data": {
      "text/plain": "         uid                  timestamp\n0     user_4 2020-04-17 05:19:02.744528\n1     user_4 2020-04-17 05:22:35.249331\n2     user_4 2020-04-17 05:22:45.549397\n3     user_4 2020-04-17 05:34:14.691200\n4     user_4 2020-04-17 05:34:24.422370\n...      ...                        ...\n3202  user_1 2020-05-21 20:19:06.872761\n3203  user_1 2020-05-21 20:22:41.785725\n3204  user_1 2020-05-21 20:22:41.877806\n3205  user_1 2020-05-21 20:37:00.129678\n3206  user_1 2020-05-21 20:37:00.290491\n\n[3207 rows x 2 columns]",
      "text/html": "<div>\n<style scoped>\n    .dataframe tbody tr th:only-of-type {\n        vertical-align: middle;\n    }\n\n    .dataframe tbody tr th {\n        vertical-align: top;\n    }\n\n    .dataframe thead th {\n        text-align: right;\n    }\n</style>\n<table border=\"1\" class=\"dataframe\">\n  <thead>\n    <tr style=\"text-align: right;\">\n      <th></th>\n      <th>uid</th>\n      <th>timestamp</th>\n    </tr>\n  </thead>\n  <tbody>\n    <tr>\n      <th>0</th>\n      <td>user_4</td>\n      <td>2020-04-17 05:19:02.744528</td>\n    </tr>\n    <tr>\n      <th>1</th>\n      <td>user_4</td>\n      <td>2020-04-17 05:22:35.249331</td>\n    </tr>\n    <tr>\n      <th>2</th>\n      <td>user_4</td>\n      <td>2020-04-17 05:22:45.549397</td>\n    </tr>\n    <tr>\n      <th>3</th>\n      <td>user_4</td>\n      <td>2020-04-17 05:34:14.691200</td>\n    </tr>\n    <tr>\n      <th>4</th>\n      <td>user_4</td>\n      <td>2020-04-17 05:34:24.422370</td>\n    </tr>\n    <tr>\n      <th>...</th>\n      <td>...</td>\n      <td>...</td>\n    </tr>\n    <tr>\n      <th>3202</th>\n      <td>user_1</td>\n      <td>2020-05-21 20:19:06.872761</td>\n    </tr>\n    <tr>\n      <th>3203</th>\n      <td>user_1</td>\n      <td>2020-05-21 20:22:41.785725</td>\n    </tr>\n    <tr>\n      <th>3204</th>\n      <td>user_1</td>\n      <td>2020-05-21 20:22:41.877806</td>\n    </tr>\n    <tr>\n      <th>3205</th>\n      <td>user_1</td>\n      <td>2020-05-21 20:37:00.129678</td>\n    </tr>\n    <tr>\n      <th>3206</th>\n      <td>user_1</td>\n      <td>2020-05-21 20:37:00.290491</td>\n    </tr>\n  </tbody>\n</table>\n<p>3207 rows × 2 columns</p>\n</div>"
     },
     "execution_count": 74,
     "metadata": {},
     "output_type": "execute_result"
    }
   ],
   "source": [
    "query = '''\n",
    "SELECT uid, timestamp\n",
    "FROM checker\n",
    "WHERE uid LIKE 'user_%'\n",
    "'''\n",
    "commits = pd.io.sql.read_sql(query, connection, parse_dates=['timestamp'])\n",
    "commits"
   ],
   "metadata": {
    "collapsed": false,
    "pycharm": {
     "name": "#%%\n"
    }
   }
  },
  {
   "cell_type": "markdown",
   "source": [
    "## the fontsize and the figsize are still the same\n",
    "## night is from 0:00:00 to 03:59:59, morning is from 04:00:00 to 09:59:59, afternoon is from 10:00:00 to 16:59:59, evening is from 17:00:00 to 23:59:59"
   ],
   "metadata": {
    "collapsed": false,
    "pycharm": {
     "name": "#%% md\n"
    }
   }
  },
  {
   "cell_type": "code",
   "execution_count": 75,
   "outputs": [
    {
     "data": {
      "text/plain": "         uid                  timestamp        date  hour\n0     user_4 2020-04-17 05:19:02.744528  2020-04-17     5\n1     user_4 2020-04-17 05:22:35.249331  2020-04-17     5\n2     user_4 2020-04-17 05:22:45.549397  2020-04-17     5\n3     user_4 2020-04-17 05:34:14.691200  2020-04-17     5\n4     user_4 2020-04-17 05:34:24.422370  2020-04-17     5\n...      ...                        ...         ...   ...\n3202  user_1 2020-05-21 20:19:06.872761  2020-05-21    20\n3203  user_1 2020-05-21 20:22:41.785725  2020-05-21    20\n3204  user_1 2020-05-21 20:22:41.877806  2020-05-21    20\n3205  user_1 2020-05-21 20:37:00.129678  2020-05-21    20\n3206  user_1 2020-05-21 20:37:00.290491  2020-05-21    20\n\n[3207 rows x 4 columns]",
      "text/html": "<div>\n<style scoped>\n    .dataframe tbody tr th:only-of-type {\n        vertical-align: middle;\n    }\n\n    .dataframe tbody tr th {\n        vertical-align: top;\n    }\n\n    .dataframe thead th {\n        text-align: right;\n    }\n</style>\n<table border=\"1\" class=\"dataframe\">\n  <thead>\n    <tr style=\"text-align: right;\">\n      <th></th>\n      <th>uid</th>\n      <th>timestamp</th>\n      <th>date</th>\n      <th>hour</th>\n    </tr>\n  </thead>\n  <tbody>\n    <tr>\n      <th>0</th>\n      <td>user_4</td>\n      <td>2020-04-17 05:19:02.744528</td>\n      <td>2020-04-17</td>\n      <td>5</td>\n    </tr>\n    <tr>\n      <th>1</th>\n      <td>user_4</td>\n      <td>2020-04-17 05:22:35.249331</td>\n      <td>2020-04-17</td>\n      <td>5</td>\n    </tr>\n    <tr>\n      <th>2</th>\n      <td>user_4</td>\n      <td>2020-04-17 05:22:45.549397</td>\n      <td>2020-04-17</td>\n      <td>5</td>\n    </tr>\n    <tr>\n      <th>3</th>\n      <td>user_4</td>\n      <td>2020-04-17 05:34:14.691200</td>\n      <td>2020-04-17</td>\n      <td>5</td>\n    </tr>\n    <tr>\n      <th>4</th>\n      <td>user_4</td>\n      <td>2020-04-17 05:34:24.422370</td>\n      <td>2020-04-17</td>\n      <td>5</td>\n    </tr>\n    <tr>\n      <th>...</th>\n      <td>...</td>\n      <td>...</td>\n      <td>...</td>\n      <td>...</td>\n    </tr>\n    <tr>\n      <th>3202</th>\n      <td>user_1</td>\n      <td>2020-05-21 20:19:06.872761</td>\n      <td>2020-05-21</td>\n      <td>20</td>\n    </tr>\n    <tr>\n      <th>3203</th>\n      <td>user_1</td>\n      <td>2020-05-21 20:22:41.785725</td>\n      <td>2020-05-21</td>\n      <td>20</td>\n    </tr>\n    <tr>\n      <th>3204</th>\n      <td>user_1</td>\n      <td>2020-05-21 20:22:41.877806</td>\n      <td>2020-05-21</td>\n      <td>20</td>\n    </tr>\n    <tr>\n      <th>3205</th>\n      <td>user_1</td>\n      <td>2020-05-21 20:37:00.129678</td>\n      <td>2020-05-21</td>\n      <td>20</td>\n    </tr>\n    <tr>\n      <th>3206</th>\n      <td>user_1</td>\n      <td>2020-05-21 20:37:00.290491</td>\n      <td>2020-05-21</td>\n      <td>20</td>\n    </tr>\n  </tbody>\n</table>\n<p>3207 rows × 4 columns</p>\n</div>"
     },
     "execution_count": 75,
     "metadata": {},
     "output_type": "execute_result"
    }
   ],
   "source": [
    "commits['date'] = commits.timestamp.dt.date\n",
    "commits['hour'] = commits.timestamp.dt.hour\n",
    "commits"
   ],
   "metadata": {
    "collapsed": false,
    "pycharm": {
     "name": "#%%\n"
    }
   }
  },
  {
   "cell_type": "code",
   "execution_count": 76,
   "outputs": [
    {
     "data": {
      "text/plain": "         uid                  timestamp        date  hour  daytime\n0     user_4 2020-04-17 05:19:02.744528  2020-04-17     5  morning\n1     user_4 2020-04-17 05:22:35.249331  2020-04-17     5  morning\n2     user_4 2020-04-17 05:22:45.549397  2020-04-17     5  morning\n3     user_4 2020-04-17 05:34:14.691200  2020-04-17     5  morning\n4     user_4 2020-04-17 05:34:24.422370  2020-04-17     5  morning\n...      ...                        ...         ...   ...      ...\n3202  user_1 2020-05-21 20:19:06.872761  2020-05-21    20  evening\n3203  user_1 2020-05-21 20:22:41.785725  2020-05-21    20  evening\n3204  user_1 2020-05-21 20:22:41.877806  2020-05-21    20  evening\n3205  user_1 2020-05-21 20:37:00.129678  2020-05-21    20  evening\n3206  user_1 2020-05-21 20:37:00.290491  2020-05-21    20  evening\n\n[3207 rows x 5 columns]",
      "text/html": "<div>\n<style scoped>\n    .dataframe tbody tr th:only-of-type {\n        vertical-align: middle;\n    }\n\n    .dataframe tbody tr th {\n        vertical-align: top;\n    }\n\n    .dataframe thead th {\n        text-align: right;\n    }\n</style>\n<table border=\"1\" class=\"dataframe\">\n  <thead>\n    <tr style=\"text-align: right;\">\n      <th></th>\n      <th>uid</th>\n      <th>timestamp</th>\n      <th>date</th>\n      <th>hour</th>\n      <th>daytime</th>\n    </tr>\n  </thead>\n  <tbody>\n    <tr>\n      <th>0</th>\n      <td>user_4</td>\n      <td>2020-04-17 05:19:02.744528</td>\n      <td>2020-04-17</td>\n      <td>5</td>\n      <td>morning</td>\n    </tr>\n    <tr>\n      <th>1</th>\n      <td>user_4</td>\n      <td>2020-04-17 05:22:35.249331</td>\n      <td>2020-04-17</td>\n      <td>5</td>\n      <td>morning</td>\n    </tr>\n    <tr>\n      <th>2</th>\n      <td>user_4</td>\n      <td>2020-04-17 05:22:45.549397</td>\n      <td>2020-04-17</td>\n      <td>5</td>\n      <td>morning</td>\n    </tr>\n    <tr>\n      <th>3</th>\n      <td>user_4</td>\n      <td>2020-04-17 05:34:14.691200</td>\n      <td>2020-04-17</td>\n      <td>5</td>\n      <td>morning</td>\n    </tr>\n    <tr>\n      <th>4</th>\n      <td>user_4</td>\n      <td>2020-04-17 05:34:24.422370</td>\n      <td>2020-04-17</td>\n      <td>5</td>\n      <td>morning</td>\n    </tr>\n    <tr>\n      <th>...</th>\n      <td>...</td>\n      <td>...</td>\n      <td>...</td>\n      <td>...</td>\n      <td>...</td>\n    </tr>\n    <tr>\n      <th>3202</th>\n      <td>user_1</td>\n      <td>2020-05-21 20:19:06.872761</td>\n      <td>2020-05-21</td>\n      <td>20</td>\n      <td>evening</td>\n    </tr>\n    <tr>\n      <th>3203</th>\n      <td>user_1</td>\n      <td>2020-05-21 20:22:41.785725</td>\n      <td>2020-05-21</td>\n      <td>20</td>\n      <td>evening</td>\n    </tr>\n    <tr>\n      <th>3204</th>\n      <td>user_1</td>\n      <td>2020-05-21 20:22:41.877806</td>\n      <td>2020-05-21</td>\n      <td>20</td>\n      <td>evening</td>\n    </tr>\n    <tr>\n      <th>3205</th>\n      <td>user_1</td>\n      <td>2020-05-21 20:37:00.129678</td>\n      <td>2020-05-21</td>\n      <td>20</td>\n      <td>evening</td>\n    </tr>\n    <tr>\n      <th>3206</th>\n      <td>user_1</td>\n      <td>2020-05-21 20:37:00.290491</td>\n      <td>2020-05-21</td>\n      <td>20</td>\n      <td>evening</td>\n    </tr>\n  </tbody>\n</table>\n<p>3207 rows × 5 columns</p>\n</div>"
     },
     "execution_count": 76,
     "metadata": {},
     "output_type": "execute_result"
    }
   ],
   "source": [
    "commits['daytime'] = pd.cut(commits.hour, bins=[0, 4, 10, 17, 24],\n",
    "                            labels=['night', 'morning', 'afternoon', 'evening'],\n",
    "                            right=False, include_lowest=True)\n",
    "commits"
   ],
   "metadata": {
    "collapsed": false,
    "pycharm": {
     "name": "#%%\n"
    }
   }
  },
  {
   "cell_type": "code",
   "execution_count": 77,
   "outputs": [
    {
     "data": {
      "text/plain": "           date    daytime  hour\n0    2020-04-17      night     0\n1    2020-04-17    morning    13\n2    2020-04-17  afternoon    10\n3    2020-04-17    evening     0\n4    2020-04-18      night     0\n..          ...        ...   ...\n135  2020-05-20    evening    10\n136  2020-05-21      night     0\n137  2020-05-21    morning     1\n138  2020-05-21  afternoon    27\n139  2020-05-21    evening    21\n\n[140 rows x 3 columns]",
      "text/html": "<div>\n<style scoped>\n    .dataframe tbody tr th:only-of-type {\n        vertical-align: middle;\n    }\n\n    .dataframe tbody tr th {\n        vertical-align: top;\n    }\n\n    .dataframe thead th {\n        text-align: right;\n    }\n</style>\n<table border=\"1\" class=\"dataframe\">\n  <thead>\n    <tr style=\"text-align: right;\">\n      <th></th>\n      <th>date</th>\n      <th>daytime</th>\n      <th>hour</th>\n    </tr>\n  </thead>\n  <tbody>\n    <tr>\n      <th>0</th>\n      <td>2020-04-17</td>\n      <td>night</td>\n      <td>0</td>\n    </tr>\n    <tr>\n      <th>1</th>\n      <td>2020-04-17</td>\n      <td>morning</td>\n      <td>13</td>\n    </tr>\n    <tr>\n      <th>2</th>\n      <td>2020-04-17</td>\n      <td>afternoon</td>\n      <td>10</td>\n    </tr>\n    <tr>\n      <th>3</th>\n      <td>2020-04-17</td>\n      <td>evening</td>\n      <td>0</td>\n    </tr>\n    <tr>\n      <th>4</th>\n      <td>2020-04-18</td>\n      <td>night</td>\n      <td>0</td>\n    </tr>\n    <tr>\n      <th>...</th>\n      <td>...</td>\n      <td>...</td>\n      <td>...</td>\n    </tr>\n    <tr>\n      <th>135</th>\n      <td>2020-05-20</td>\n      <td>evening</td>\n      <td>10</td>\n    </tr>\n    <tr>\n      <th>136</th>\n      <td>2020-05-21</td>\n      <td>night</td>\n      <td>0</td>\n    </tr>\n    <tr>\n      <th>137</th>\n      <td>2020-05-21</td>\n      <td>morning</td>\n      <td>1</td>\n    </tr>\n    <tr>\n      <th>138</th>\n      <td>2020-05-21</td>\n      <td>afternoon</td>\n      <td>27</td>\n    </tr>\n    <tr>\n      <th>139</th>\n      <td>2020-05-21</td>\n      <td>evening</td>\n      <td>21</td>\n    </tr>\n  </tbody>\n</table>\n<p>140 rows × 3 columns</p>\n</div>"
     },
     "execution_count": 77,
     "metadata": {},
     "output_type": "execute_result"
    }
   ],
   "source": [
    "commits_groupby = commits.groupby(by=['date', 'daytime']).count()['hour'].reset_index()\n",
    "commits_groupby"
   ],
   "metadata": {
    "collapsed": false,
    "pycharm": {
     "name": "#%%\n"
    }
   }
  },
  {
   "cell_type": "code",
   "execution_count": 78,
   "outputs": [
    {
     "name": "stdout",
     "output_type": "stream",
     "text": [
      "<class 'pandas.core.frame.DataFrame'>\n",
      "Index: 35 entries, 2020-04-17 to 2020-05-21\n",
      "Data columns (total 4 columns):\n",
      " #   Column     Non-Null Count  Dtype\n",
      "---  ------     --------------  -----\n",
      " 0   night      35 non-null     int64\n",
      " 1   morning    35 non-null     int64\n",
      " 2   afternoon  35 non-null     int64\n",
      " 3   evening    35 non-null     int64\n",
      "dtypes: int64(4)\n",
      "memory usage: 1.4+ KB\n"
     ]
    }
   ],
   "source": [
    "df_pivot = pd.pivot(commits_groupby, values='hour', index='date', columns='daytime')\n",
    "df_pivot.info()"
   ],
   "metadata": {
    "collapsed": false,
    "pycharm": {
     "name": "#%%\n"
    }
   }
  },
  {
   "cell_type": "markdown",
   "source": [
    "## choose a palette that you really enjoy, you do not have to replicate it from the graph above"
   ],
   "metadata": {
    "collapsed": false,
    "pycharm": {
     "name": "#%% md\n"
    }
   }
  },
  {
   "cell_type": "code",
   "execution_count": 79,
   "outputs": [
    {
     "data": {
      "text/plain": "<Figure size 1080x576 with 1 Axes>",
      "image/png": "[encoded data removed]"
     },
     "metadata": {
      "needs_background": "light"
     },
     "output_type": "display_data"
    }
   ],
   "source": [
    "axes = df_pivot.plot(kind='bar', stacked=True, figsize=(15,8), title='Commits per day', fontsize=8, rot=90, colormap='autumn')\n",
    "axes.grid(axis='y')\n",
    "axes.set_facecolor('grey')"
   ],
   "metadata": {
    "collapsed": false,
    "pycharm": {
     "name": "#%%\n"
    }
   }
  },
  {
   "cell_type": "markdown",
   "source": [
    "#### When do our users usually commit the labs: in the night, morning, afternoon, or evening?”, the answer is the two most common periods.\n"
   ],
   "metadata": {
    "collapsed": false,
    "pycharm": {
     "name": "#%% md\n"
    }
   }
  },
  {
   "cell_type": "code",
   "execution_count": 80,
   "outputs": [
    {
     "data": {
      "text/plain": "daytime\nevening      1611\nafternoon    1391\nmorning       184\nnight          21\ndtype: int64"
     },
     "execution_count": 80,
     "metadata": {},
     "output_type": "execute_result"
    }
   ],
   "source": [
    "df_pivot.sum().sort_values(ascending=False)"
   ],
   "metadata": {
    "collapsed": false,
    "pycharm": {
     "name": "#%%\n"
    }
   }
  },
  {
   "cell_type": "markdown",
   "source": [
    "#### Evening and afternoon are the most common periods when our users usually commit the labs"
   ],
   "metadata": {
    "collapsed": false,
    "pycharm": {
     "name": "#%% md\n"
    }
   }
  },
  {
   "cell_type": "markdown",
   "source": [
    "#### Which day has:\n",
    "###### the most number of commits\n",
    "###### and at the same time, the number of commits in the evening is higher than in the afternoon?\n"
   ],
   "metadata": {
    "collapsed": false,
    "pycharm": {
     "name": "#%% md\n"
    }
   }
  },
  {
   "cell_type": "code",
   "execution_count": 81,
   "outputs": [
    {
     "data": {
      "text/plain": "date\n2020-05-12    323\n2020-04-26    261\n2020-05-13    211\n2020-05-11    186\n2020-04-25    104\n2020-05-08     87\n2020-05-09     86\n2020-04-18     69\n2020-05-01     60\n2020-04-30     53\n2020-05-17     48\n2020-04-23     43\n2020-04-22     28\n2020-04-20     25\n2020-04-21     25\n2020-04-29     17\n2020-04-24     16\n2020-04-27      6\n2020-05-16      4\n2020-05-18      3\ndtype: int64"
     },
     "execution_count": 81,
     "metadata": {},
     "output_type": "execute_result"
    }
   ],
   "source": [
    "df_pivot[df_pivot['evening'] > df_pivot['afternoon']].sum(axis=1).sort_values(ascending=False)"
   ],
   "metadata": {
    "collapsed": false,
    "pycharm": {
     "name": "#%%\n"
    }
   }
  },
  {
   "cell_type": "markdown",
   "source": [
    "#### 2020-05-12 - the day when the number of commits in the evening is higher than in the afternoon"
   ],
   "metadata": {
    "collapsed": false,
    "pycharm": {
     "name": "#%% md\n"
    }
   }
  },
  {
   "cell_type": "code",
   "execution_count": 81,
   "outputs": [],
   "source": [],
   "metadata": {
    "collapsed": false,
    "pycharm": {
     "name": "#%%\n"
    }
   }
  }
 ],
 "metadata": {
  "kernelspec": {
   "display_name": "Python 3",
   "language": "python",
   "name": "python3"
  },
  "language_info": {
   "codemirror_mode": {
    "name": "ipython",
    "version": 2
   },
   "file_extension": ".py",
   "mimetype": "text/x-python",
   "name": "python",
   "nbconvert_exporter": "python",
   "pygments_lexer": "ipython2",
   "version": "2.7.6"
  }
 },
 "nbformat": 4,
 "nbformat_minor": 0
}