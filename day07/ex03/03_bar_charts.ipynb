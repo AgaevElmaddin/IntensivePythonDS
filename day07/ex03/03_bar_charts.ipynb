{
 "cells": [
  {
   "cell_type": "code",
   "execution_count": 96,
   "metadata": {
    "collapsed": true
   },
   "outputs": [],
   "source": [
    "import pandas as pd\n",
    "import sqlite3"
   ]
  },
  {
   "cell_type": "code",
   "execution_count": 97,
   "outputs": [
    {
     "data": {
      "text/plain": "<sqlite3.Connection at 0x1235b9540>"
     },
     "execution_count": 97,
     "metadata": {},
     "output_type": "execute_result"
    }
   ],
   "source": [
    "connection = sqlite3.connect('../data/checking-logs.sqlite.sqlite')\n",
    "connection"
   ],
   "metadata": {
    "collapsed": false,
    "pycharm": {
     "name": "#%%\n"
    }
   }
  },
  {
   "cell_type": "code",
   "execution_count": 98,
   "outputs": [
    {
     "data": {
      "text/plain": "                      timestamp\n0    2020-04-17 05:19:02.744528\n1    2020-04-17 05:22:35.249331\n2    2020-04-17 05:22:45.549397\n3    2020-04-17 05:34:14.691200\n4    2020-04-17 05:34:24.422370\n...                         ...\n3202 2020-05-21 20:19:06.872761\n3203 2020-05-21 20:22:41.785725\n3204 2020-05-21 20:22:41.877806\n3205 2020-05-21 20:37:00.129678\n3206 2020-05-21 20:37:00.290491\n\n[3207 rows x 1 columns]",
      "text/html": "<div>\n<style scoped>\n    .dataframe tbody tr th:only-of-type {\n        vertical-align: middle;\n    }\n\n    .dataframe tbody tr th {\n        vertical-align: top;\n    }\n\n    .dataframe thead th {\n        text-align: right;\n    }\n</style>\n<table border=\"1\" class=\"dataframe\">\n  <thead>\n    <tr style=\"text-align: right;\">\n      <th></th>\n      <th>timestamp</th>\n    </tr>\n  </thead>\n  <tbody>\n    <tr>\n      <th>0</th>\n      <td>2020-04-17 05:19:02.744528</td>\n    </tr>\n    <tr>\n      <th>1</th>\n      <td>2020-04-17 05:22:35.249331</td>\n    </tr>\n    <tr>\n      <th>2</th>\n      <td>2020-04-17 05:22:45.549397</td>\n    </tr>\n    <tr>\n      <th>3</th>\n      <td>2020-04-17 05:34:14.691200</td>\n    </tr>\n    <tr>\n      <th>4</th>\n      <td>2020-04-17 05:34:24.422370</td>\n    </tr>\n    <tr>\n      <th>...</th>\n      <td>...</td>\n    </tr>\n    <tr>\n      <th>3202</th>\n      <td>2020-05-21 20:19:06.872761</td>\n    </tr>\n    <tr>\n      <th>3203</th>\n      <td>2020-05-21 20:22:41.785725</td>\n    </tr>\n    <tr>\n      <th>3204</th>\n      <td>2020-05-21 20:22:41.877806</td>\n    </tr>\n    <tr>\n      <th>3205</th>\n      <td>2020-05-21 20:37:00.129678</td>\n    </tr>\n    <tr>\n      <th>3206</th>\n      <td>2020-05-21 20:37:00.290491</td>\n    </tr>\n  </tbody>\n</table>\n<p>3207 rows × 1 columns</p>\n</div>"
     },
     "execution_count": 98,
     "metadata": {},
     "output_type": "execute_result"
    }
   ],
   "source": [
    "request = '''\n",
    "SELECT timestamp\n",
    "FROM checker\n",
    "WHERE uid LIKE 'user_%'\n",
    "'''\n",
    "commits = pd.io.sql.read_sql(request, connection, parse_dates=['timestamp'])\n",
    "commits"
   ],
   "metadata": {
    "collapsed": false,
    "pycharm": {
     "name": "#%%\n"
    }
   }
  },
  {
   "cell_type": "code",
   "execution_count": 99,
   "outputs": [
    {
     "data": {
      "text/plain": "           date  hour\n0    2020-04-17     5\n1    2020-04-17     5\n2    2020-04-17     5\n3    2020-04-17     5\n4    2020-04-17     5\n...         ...   ...\n3202 2020-05-21    20\n3203 2020-05-21    20\n3204 2020-05-21    20\n3205 2020-05-21    20\n3206 2020-05-21    20\n\n[3207 rows x 2 columns]",
      "text/html": "<div>\n<style scoped>\n    .dataframe tbody tr th:only-of-type {\n        vertical-align: middle;\n    }\n\n    .dataframe tbody tr th {\n        vertical-align: top;\n    }\n\n    .dataframe thead th {\n        text-align: right;\n    }\n</style>\n<table border=\"1\" class=\"dataframe\">\n  <thead>\n    <tr style=\"text-align: right;\">\n      <th></th>\n      <th>date</th>\n      <th>hour</th>\n    </tr>\n  </thead>\n  <tbody>\n    <tr>\n      <th>0</th>\n      <td>2020-04-17</td>\n      <td>5</td>\n    </tr>\n    <tr>\n      <th>1</th>\n      <td>2020-04-17</td>\n      <td>5</td>\n    </tr>\n    <tr>\n      <th>2</th>\n      <td>2020-04-17</td>\n      <td>5</td>\n    </tr>\n    <tr>\n      <th>3</th>\n      <td>2020-04-17</td>\n      <td>5</td>\n    </tr>\n    <tr>\n      <th>4</th>\n      <td>2020-04-17</td>\n      <td>5</td>\n    </tr>\n    <tr>\n      <th>...</th>\n      <td>...</td>\n      <td>...</td>\n    </tr>\n    <tr>\n      <th>3202</th>\n      <td>2020-05-21</td>\n      <td>20</td>\n    </tr>\n    <tr>\n      <th>3203</th>\n      <td>2020-05-21</td>\n      <td>20</td>\n    </tr>\n    <tr>\n      <th>3204</th>\n      <td>2020-05-21</td>\n      <td>20</td>\n    </tr>\n    <tr>\n      <th>3205</th>\n      <td>2020-05-21</td>\n      <td>20</td>\n    </tr>\n    <tr>\n      <th>3206</th>\n      <td>2020-05-21</td>\n      <td>20</td>\n    </tr>\n  </tbody>\n</table>\n<p>3207 rows × 2 columns</p>\n</div>"
     },
     "execution_count": 99,
     "metadata": {},
     "output_type": "execute_result"
    }
   ],
   "source": [
    "commits['date'] = commits['timestamp'].dt.floor('d')\n",
    "commits['hour'] = commits['timestamp'].dt.hour\n",
    "commits = commits.drop('timestamp', axis=1)\n",
    "commits"
   ],
   "metadata": {
    "collapsed": false,
    "pycharm": {
     "name": "#%%\n"
    }
   }
  },
  {
   "cell_type": "code",
   "execution_count": 100,
   "outputs": [
    {
     "data": {
      "text/plain": "           date  hour\n0    2020-04-17     5\n1    2020-04-17     5\n2    2020-04-17     5\n3    2020-04-17     5\n4    2020-04-17     5\n...         ...   ...\n3202 2020-05-21    20\n3203 2020-05-21    20\n3204 2020-05-21    20\n3205 2020-05-21    20\n3206 2020-05-21    20\n\n[2037 rows x 2 columns]",
      "text/html": "<div>\n<style scoped>\n    .dataframe tbody tr th:only-of-type {\n        vertical-align: middle;\n    }\n\n    .dataframe tbody tr th {\n        vertical-align: top;\n    }\n\n    .dataframe thead th {\n        text-align: right;\n    }\n</style>\n<table border=\"1\" class=\"dataframe\">\n  <thead>\n    <tr style=\"text-align: right;\">\n      <th></th>\n      <th>date</th>\n      <th>hour</th>\n    </tr>\n  </thead>\n  <tbody>\n    <tr>\n      <th>0</th>\n      <td>2020-04-17</td>\n      <td>5</td>\n    </tr>\n    <tr>\n      <th>1</th>\n      <td>2020-04-17</td>\n      <td>5</td>\n    </tr>\n    <tr>\n      <th>2</th>\n      <td>2020-04-17</td>\n      <td>5</td>\n    </tr>\n    <tr>\n      <th>3</th>\n      <td>2020-04-17</td>\n      <td>5</td>\n    </tr>\n    <tr>\n      <th>4</th>\n      <td>2020-04-17</td>\n      <td>5</td>\n    </tr>\n    <tr>\n      <th>...</th>\n      <td>...</td>\n      <td>...</td>\n    </tr>\n    <tr>\n      <th>3202</th>\n      <td>2020-05-21</td>\n      <td>20</td>\n    </tr>\n    <tr>\n      <th>3203</th>\n      <td>2020-05-21</td>\n      <td>20</td>\n    </tr>\n    <tr>\n      <th>3204</th>\n      <td>2020-05-21</td>\n      <td>20</td>\n    </tr>\n    <tr>\n      <th>3205</th>\n      <td>2020-05-21</td>\n      <td>20</td>\n    </tr>\n    <tr>\n      <th>3206</th>\n      <td>2020-05-21</td>\n      <td>20</td>\n    </tr>\n  </tbody>\n</table>\n<p>2037 rows × 2 columns</p>\n</div>"
     },
     "execution_count": 100,
     "metadata": {},
     "output_type": "execute_result"
    }
   ],
   "source": [
    "working_day = commits.loc[commits['date'].dt.dayofweek < 5]\n",
    "weekend = commits.loc[commits['date'].dt.dayofweek >= 5]\n",
    "working_day"
   ],
   "metadata": {
    "collapsed": false,
    "pycharm": {
     "name": "#%%\n"
    }
   }
  },
  {
   "cell_type": "code",
   "execution_count": 101,
   "outputs": [
    {
     "data": {
      "text/plain": "           date  hour\n23   2020-04-18     7\n24   2020-04-18    13\n25   2020-04-18    13\n26   2020-04-18    13\n27   2020-04-18    13\n...         ...   ...\n3088 2020-05-17    22\n3089 2020-05-17    22\n3090 2020-05-17    22\n3091 2020-05-17    22\n3092 2020-05-17    22\n\n[1170 rows x 2 columns]",
      "text/html": "<div>\n<style scoped>\n    .dataframe tbody tr th:only-of-type {\n        vertical-align: middle;\n    }\n\n    .dataframe tbody tr th {\n        vertical-align: top;\n    }\n\n    .dataframe thead th {\n        text-align: right;\n    }\n</style>\n<table border=\"1\" class=\"dataframe\">\n  <thead>\n    <tr style=\"text-align: right;\">\n      <th></th>\n      <th>date</th>\n      <th>hour</th>\n    </tr>\n  </thead>\n  <tbody>\n    <tr>\n      <th>23</th>\n      <td>2020-04-18</td>\n      <td>7</td>\n    </tr>\n    <tr>\n      <th>24</th>\n      <td>2020-04-18</td>\n      <td>13</td>\n    </tr>\n    <tr>\n      <th>25</th>\n      <td>2020-04-18</td>\n      <td>13</td>\n    </tr>\n    <tr>\n      <th>26</th>\n      <td>2020-04-18</td>\n      <td>13</td>\n    </tr>\n    <tr>\n      <th>27</th>\n      <td>2020-04-18</td>\n      <td>13</td>\n    </tr>\n    <tr>\n      <th>...</th>\n      <td>...</td>\n      <td>...</td>\n    </tr>\n    <tr>\n      <th>3088</th>\n      <td>2020-05-17</td>\n      <td>22</td>\n    </tr>\n    <tr>\n      <th>3089</th>\n      <td>2020-05-17</td>\n      <td>22</td>\n    </tr>\n    <tr>\n      <th>3090</th>\n      <td>2020-05-17</td>\n      <td>22</td>\n    </tr>\n    <tr>\n      <th>3091</th>\n      <td>2020-05-17</td>\n      <td>22</td>\n    </tr>\n    <tr>\n      <th>3092</th>\n      <td>2020-05-17</td>\n      <td>22</td>\n    </tr>\n  </tbody>\n</table>\n<p>1170 rows × 2 columns</p>\n</div>"
     },
     "execution_count": 101,
     "metadata": {},
     "output_type": "execute_result"
    }
   ],
   "source": [
    "weekend"
   ],
   "metadata": {
    "collapsed": false,
    "pycharm": {
     "name": "#%%\n"
    }
   }
  },
  {
   "cell_type": "code",
   "execution_count": 102,
   "outputs": [
    {
     "data": {
      "text/plain": "hour         0    3     5    6     7     8     9     10    11    12  ...  \\\ndate                                                                 ...   \n2020-04-17  NaN  NaN  13.0  NaN   NaN   NaN   NaN   NaN   8.0   2.0  ...   \n2020-04-20  NaN  NaN   NaN  NaN   NaN   NaN   NaN   NaN   2.0   NaN  ...   \n2020-04-21  NaN  NaN   NaN  NaN   NaN   NaN   NaN   NaN   NaN   NaN  ...   \n2020-04-22  NaN  NaN   NaN  NaN   NaN   NaN   NaN   NaN   NaN   1.0  ...   \n2020-04-23  2.0  NaN   NaN  NaN   2.0   4.0   NaN   NaN   2.0   4.0  ...   \n2020-04-24  NaN  NaN   NaN  NaN   NaN   NaN   NaN   2.0   NaN   NaN  ...   \n2020-04-27  NaN  2.0   NaN  NaN   NaN   2.0   NaN   NaN   NaN   NaN  ...   \n2020-04-28  NaN  NaN   NaN  NaN   NaN   NaN   NaN   NaN   4.0   NaN  ...   \n2020-04-29  NaN  NaN   NaN  NaN   NaN   NaN   NaN   NaN   NaN   NaN  ...   \n2020-04-30  NaN  NaN   2.0  NaN   2.0   NaN   NaN   8.0   1.0   NaN  ...   \n2020-05-01  NaN  NaN   NaN  1.0   NaN   NaN   NaN   NaN   7.0   NaN  ...   \n2020-05-04  NaN  NaN   NaN  NaN   NaN   4.0   1.0   6.0   NaN  10.0  ...   \n2020-05-05  NaN  NaN   NaN  NaN   NaN   1.0  13.0  43.0  24.0  30.0  ...   \n2020-05-06  NaN  NaN   NaN  NaN   2.0   NaN   NaN   NaN   NaN   NaN  ...   \n2020-05-07  NaN  NaN   NaN  NaN   NaN   NaN   NaN   8.0   6.0   2.0  ...   \n2020-05-08  NaN  NaN   NaN  NaN   NaN   NaN   NaN   NaN   3.0   NaN  ...   \n2020-05-11  NaN  NaN   NaN  NaN   NaN   2.0   NaN   1.0   NaN   6.0  ...   \n2020-05-12  NaN  NaN   NaN  2.0  18.0  10.0  10.0  12.0   4.0   2.0  ...   \n2020-05-13  NaN  NaN   NaN  NaN   4.0   NaN   NaN   NaN   2.0  17.0  ...   \n2020-05-14  4.0  NaN   NaN  NaN   NaN   1.0   2.0  41.0  18.0   4.0  ...   \n2020-05-15  NaN  NaN   NaN  NaN   NaN   NaN   NaN  10.0   NaN   NaN  ...   \n2020-05-18  NaN  NaN   NaN  NaN   NaN   NaN   NaN   NaN   NaN   NaN  ...   \n2020-05-19  NaN  NaN   NaN  NaN   NaN   8.0   4.0   1.0   7.0   NaN  ...   \n2020-05-20  NaN  NaN   NaN  NaN   3.0   4.0   NaN   NaN   NaN   1.0  ...   \n2020-05-21  NaN  NaN   NaN  NaN   NaN   1.0   NaN   NaN   NaN   NaN  ...   \n\nhour          14    15     16    17    18    19    20     21   22   23  \ndate                                                                    \n2020-04-17   NaN   NaN    NaN   NaN   NaN   NaN   NaN    NaN  NaN  NaN  \n2020-04-20   3.0   7.0    NaN   3.0   NaN  10.0   NaN    NaN  NaN  NaN  \n2020-04-21   NaN   NaN    NaN   9.0   6.0   2.0   6.0    NaN  2.0  NaN  \n2020-04-22   NaN   NaN    NaN   NaN   4.0  10.0   1.0    3.0  6.0  NaN  \n2020-04-23   5.0   NaN    NaN   NaN   NaN   NaN   2.0   18.0  NaN  NaN  \n2020-04-24   NaN   NaN    2.0  10.0   NaN   NaN   NaN    NaN  2.0  NaN  \n2020-04-27   NaN   NaN    NaN   NaN   NaN   NaN   NaN    2.0  NaN  NaN  \n2020-04-28   NaN   NaN    1.0   NaN   NaN   NaN   NaN    NaN  NaN  NaN  \n2020-04-29   NaN   NaN    NaN   NaN   NaN   NaN  11.0    NaN  6.0  NaN  \n2020-04-30   NaN   4.0    NaN   NaN  11.0  25.0   NaN    NaN  NaN  NaN  \n2020-05-01   NaN   NaN    NaN   NaN  23.0  16.0   NaN    4.0  7.0  NaN  \n2020-05-04  12.0   2.0    NaN   NaN   NaN   NaN   NaN    NaN  NaN  NaN  \n2020-05-05   2.0   6.0    NaN   NaN   NaN   NaN   2.0    1.0  2.0  NaN  \n2020-05-06   NaN   NaN    NaN   NaN   NaN   NaN   NaN    NaN  NaN  NaN  \n2020-05-07   3.0  10.0    NaN   2.0   NaN   NaN   4.0   17.0  NaN  NaN  \n2020-05-08   NaN  12.0   12.0  18.0   4.0   8.0  20.0    8.0  2.0  NaN  \n2020-05-11  14.0   NaN   17.0  17.0  31.0  25.0  33.0   32.0  2.0  4.0  \n2020-05-12  16.0  10.0   24.0  58.0  52.0  46.0  35.0   22.0  2.0  NaN  \n2020-05-13   8.0   8.0    4.0  14.0  16.0  16.0  18.0   74.0  2.0  8.0  \n2020-05-14  30.0  73.0  105.0  57.0  16.0  47.0  40.0  109.0  8.0  NaN  \n2020-05-15   NaN   NaN    NaN   NaN   NaN   NaN   NaN    NaN  NaN  NaN  \n2020-05-18   NaN   NaN    1.0   2.0   NaN   NaN   NaN    NaN  NaN  NaN  \n2020-05-19  10.0   NaN    NaN   1.0   2.0   1.0   NaN    NaN  NaN  NaN  \n2020-05-20   8.0   2.0    NaN   NaN   NaN   NaN   1.0    2.0  4.0  3.0  \n2020-05-21  11.0   7.0    4.0   1.0   2.0   8.0  10.0    NaN  NaN  NaN  \n\n[25 rows x 21 columns]",
      "text/html": "<div>\n<style scoped>\n    .dataframe tbody tr th:only-of-type {\n        vertical-align: middle;\n    }\n\n    .dataframe tbody tr th {\n        vertical-align: top;\n    }\n\n    .dataframe thead th {\n        text-align: right;\n    }\n</style>\n<table border=\"1\" class=\"dataframe\">\n  <thead>\n    <tr style=\"text-align: right;\">\n      <th>hour</th>\n      <th>0</th>\n      <th>3</th>\n      <th>5</th>\n      <th>6</th>\n      <th>7</th>\n      <th>8</th>\n      <th>9</th>\n      <th>10</th>\n      <th>11</th>\n      <th>12</th>\n      <th>...</th>\n      <th>14</th>\n      <th>15</th>\n      <th>16</th>\n      <th>17</th>\n      <th>18</th>\n      <th>19</th>\n      <th>20</th>\n      <th>21</th>\n      <th>22</th>\n      <th>23</th>\n    </tr>\n    <tr>\n      <th>date</th>\n      <th></th>\n      <th></th>\n      <th></th>\n      <th></th>\n      <th></th>\n      <th></th>\n      <th></th>\n      <th></th>\n      <th></th>\n      <th></th>\n      <th></th>\n      <th></th>\n      <th></th>\n      <th></th>\n      <th></th>\n      <th></th>\n      <th></th>\n      <th></th>\n      <th></th>\n      <th></th>\n      <th></th>\n    </tr>\n  </thead>\n  <tbody>\n    <tr>\n      <th>2020-04-17</th>\n      <td>NaN</td>\n      <td>NaN</td>\n      <td>13.0</td>\n      <td>NaN</td>\n      <td>NaN</td>\n      <td>NaN</td>\n      <td>NaN</td>\n      <td>NaN</td>\n      <td>8.0</td>\n      <td>2.0</td>\n      <td>...</td>\n      <td>NaN</td>\n      <td>NaN</td>\n      <td>NaN</td>\n      <td>NaN</td>\n      <td>NaN</td>\n      <td>NaN</td>\n      <td>NaN</td>\n      <td>NaN</td>\n      <td>NaN</td>\n      <td>NaN</td>\n    </tr>\n    <tr>\n      <th>2020-04-20</th>\n      <td>NaN</td>\n      <td>NaN</td>\n      <td>NaN</td>\n      <td>NaN</td>\n      <td>NaN</td>\n      <td>NaN</td>\n      <td>NaN</td>\n      <td>NaN</td>\n      <td>2.0</td>\n      <td>NaN</td>\n      <td>...</td>\n      <td>3.0</td>\n      <td>7.0</td>\n      <td>NaN</td>\n      <td>3.0</td>\n      <td>NaN</td>\n      <td>10.0</td>\n      <td>NaN</td>\n      <td>NaN</td>\n      <td>NaN</td>\n      <td>NaN</td>\n    </tr>\n    <tr>\n      <th>2020-04-21</th>\n      <td>NaN</td>\n      <td>NaN</td>\n      <td>NaN</td>\n      <td>NaN</td>\n      <td>NaN</td>\n      <td>NaN</td>\n      <td>NaN</td>\n      <td>NaN</td>\n      <td>NaN</td>\n      <td>NaN</td>\n      <td>...</td>\n      <td>NaN</td>\n      <td>NaN</td>\n      <td>NaN</td>\n      <td>9.0</td>\n      <td>6.0</td>\n      <td>2.0</td>\n      <td>6.0</td>\n      <td>NaN</td>\n      <td>2.0</td>\n      <td>NaN</td>\n    </tr>\n    <tr>\n      <th>2020-04-22</th>\n      <td>NaN</td>\n      <td>NaN</td>\n      <td>NaN</td>\n      <td>NaN</td>\n      <td>NaN</td>\n      <td>NaN</td>\n      <td>NaN</td>\n      <td>NaN</td>\n      <td>NaN</td>\n      <td>1.0</td>\n      <td>...</td>\n      <td>NaN</td>\n      <td>NaN</td>\n      <td>NaN</td>\n      <td>NaN</td>\n      <td>4.0</td>\n      <td>10.0</td>\n      <td>1.0</td>\n      <td>3.0</td>\n      <td>6.0</td>\n      <td>NaN</td>\n    </tr>\n    <tr>\n      <th>2020-04-23</th>\n      <td>2.0</td>\n      <td>NaN</td>\n      <td>NaN</td>\n      <td>NaN</td>\n      <td>2.0</td>\n      <td>4.0</td>\n      <td>NaN</td>\n      <td>NaN</td>\n      <td>2.0</td>\n      <td>4.0</td>\n      <td>...</td>\n      <td>5.0</td>\n      <td>NaN</td>\n      <td>NaN</td>\n      <td>NaN</td>\n      <td>NaN</td>\n      <td>NaN</td>\n      <td>2.0</td>\n      <td>18.0</td>\n      <td>NaN</td>\n      <td>NaN</td>\n    </tr>\n    <tr>\n      <th>2020-04-24</th>\n      <td>NaN</td>\n      <td>NaN</td>\n      <td>NaN</td>\n      <td>NaN</td>\n      <td>NaN</td>\n      <td>NaN</td>\n      <td>NaN</td>\n      <td>2.0</td>\n      <td>NaN</td>\n      <td>NaN</td>\n      <td>...</td>\n      <td>NaN</td>\n      <td>NaN</td>\n      <td>2.0</td>\n      <td>10.0</td>\n      <td>NaN</td>\n      <td>NaN</td>\n      <td>NaN</td>\n      <td>NaN</td>\n      <td>2.0</td>\n      <td>NaN</td>\n    </tr>\n    <tr>\n      <th>2020-04-27</th>\n      <td>NaN</td>\n      <td>2.0</td>\n      <td>NaN</td>\n      <td>NaN</td>\n      <td>NaN</td>\n      <td>2.0</td>\n      <td>NaN</td>\n      <td>NaN</td>\n      <td>NaN</td>\n      <td>NaN</td>\n      <td>...</td>\n      <td>NaN</td>\n      <td>NaN</td>\n      <td>NaN</td>\n      <td>NaN</td>\n      <td>NaN</td>\n      <td>NaN</td>\n      <td>NaN</td>\n      <td>2.0</td>\n      <td>NaN</td>\n      <td>NaN</td>\n    </tr>\n    <tr>\n      <th>2020-04-28</th>\n      <td>NaN</td>\n      <td>NaN</td>\n      <td>NaN</td>\n      <td>NaN</td>\n      <td>NaN</td>\n      <td>NaN</td>\n      <td>NaN</td>\n      <td>NaN</td>\n      <td>4.0</td>\n      <td>NaN</td>\n      <td>...</td>\n      <td>NaN</td>\n      <td>NaN</td>\n      <td>1.0</td>\n      <td>NaN</td>\n      <td>NaN</td>\n      <td>NaN</td>\n      <td>NaN</td>\n      <td>NaN</td>\n      <td>NaN</td>\n      <td>NaN</td>\n    </tr>\n    <tr>\n      <th>2020-04-29</th>\n      <td>NaN</td>\n      <td>NaN</td>\n      <td>NaN</td>\n      <td>NaN</td>\n      <td>NaN</td>\n      <td>NaN</td>\n      <td>NaN</td>\n      <td>NaN</td>\n      <td>NaN</td>\n      <td>NaN</td>\n      <td>...</td>\n      <td>NaN</td>\n      <td>NaN</td>\n      <td>NaN</td>\n      <td>NaN</td>\n      <td>NaN</td>\n      <td>NaN</td>\n      <td>11.0</td>\n      <td>NaN</td>\n      <td>6.0</td>\n      <td>NaN</td>\n    </tr>\n    <tr>\n      <th>2020-04-30</th>\n      <td>NaN</td>\n      <td>NaN</td>\n      <td>2.0</td>\n      <td>NaN</td>\n      <td>2.0</td>\n      <td>NaN</td>\n      <td>NaN</td>\n      <td>8.0</td>\n      <td>1.0</td>\n      <td>NaN</td>\n      <td>...</td>\n      <td>NaN</td>\n      <td>4.0</td>\n      <td>NaN</td>\n      <td>NaN</td>\n      <td>11.0</td>\n      <td>25.0</td>\n      <td>NaN</td>\n      <td>NaN</td>\n      <td>NaN</td>\n      <td>NaN</td>\n    </tr>\n    <tr>\n      <th>2020-05-01</th>\n      <td>NaN</td>\n      <td>NaN</td>\n      <td>NaN</td>\n      <td>1.0</td>\n      <td>NaN</td>\n      <td>NaN</td>\n      <td>NaN</td>\n      <td>NaN</td>\n      <td>7.0</td>\n      <td>NaN</td>\n      <td>...</td>\n      <td>NaN</td>\n      <td>NaN</td>\n      <td>NaN</td>\n      <td>NaN</td>\n      <td>23.0</td>\n      <td>16.0</td>\n      <td>NaN</td>\n      <td>4.0</td>\n      <td>7.0</td>\n      <td>NaN</td>\n    </tr>\n    <tr>\n      <th>2020-05-04</th>\n      <td>NaN</td>\n      <td>NaN</td>\n      <td>NaN</td>\n      <td>NaN</td>\n      <td>NaN</td>\n      <td>4.0</td>\n      <td>1.0</td>\n      <td>6.0</td>\n      <td>NaN</td>\n      <td>10.0</td>\n      <td>...</td>\n      <td>12.0</td>\n      <td>2.0</td>\n      <td>NaN</td>\n      <td>NaN</td>\n      <td>NaN</td>\n      <td>NaN</td>\n      <td>NaN</td>\n      <td>NaN</td>\n      <td>NaN</td>\n      <td>NaN</td>\n    </tr>\n    <tr>\n      <th>2020-05-05</th>\n      <td>NaN</td>\n      <td>NaN</td>\n      <td>NaN</td>\n      <td>NaN</td>\n      <td>NaN</td>\n      <td>1.0</td>\n      <td>13.0</td>\n      <td>43.0</td>\n      <td>24.0</td>\n      <td>30.0</td>\n      <td>...</td>\n      <td>2.0</td>\n      <td>6.0</td>\n      <td>NaN</td>\n      <td>NaN</td>\n      <td>NaN</td>\n      <td>NaN</td>\n      <td>2.0</td>\n      <td>1.0</td>\n      <td>2.0</td>\n      <td>NaN</td>\n    </tr>\n    <tr>\n      <th>2020-05-06</th>\n      <td>NaN</td>\n      <td>NaN</td>\n      <td>NaN</td>\n      <td>NaN</td>\n      <td>2.0</td>\n      <td>NaN</td>\n      <td>NaN</td>\n      <td>NaN</td>\n      <td>NaN</td>\n      <td>NaN</td>\n      <td>...</td>\n      <td>NaN</td>\n      <td>NaN</td>\n      <td>NaN</td>\n      <td>NaN</td>\n      <td>NaN</td>\n      <td>NaN</td>\n      <td>NaN</td>\n      <td>NaN</td>\n      <td>NaN</td>\n      <td>NaN</td>\n    </tr>\n    <tr>\n      <th>2020-05-07</th>\n      <td>NaN</td>\n      <td>NaN</td>\n      <td>NaN</td>\n      <td>NaN</td>\n      <td>NaN</td>\n      <td>NaN</td>\n      <td>NaN</td>\n      <td>8.0</td>\n      <td>6.0</td>\n      <td>2.0</td>\n      <td>...</td>\n      <td>3.0</td>\n      <td>10.0</td>\n      <td>NaN</td>\n      <td>2.0</td>\n      <td>NaN</td>\n      <td>NaN</td>\n      <td>4.0</td>\n      <td>17.0</td>\n      <td>NaN</td>\n      <td>NaN</td>\n    </tr>\n    <tr>\n      <th>2020-05-08</th>\n      <td>NaN</td>\n      <td>NaN</td>\n      <td>NaN</td>\n      <td>NaN</td>\n      <td>NaN</td>\n      <td>NaN</td>\n      <td>NaN</td>\n      <td>NaN</td>\n      <td>3.0</td>\n      <td>NaN</td>\n      <td>...</td>\n      <td>NaN</td>\n      <td>12.0</td>\n      <td>12.0</td>\n      <td>18.0</td>\n      <td>4.0</td>\n      <td>8.0</td>\n      <td>20.0</td>\n      <td>8.0</td>\n      <td>2.0</td>\n      <td>NaN</td>\n    </tr>\n    <tr>\n      <th>2020-05-11</th>\n      <td>NaN</td>\n      <td>NaN</td>\n      <td>NaN</td>\n      <td>NaN</td>\n      <td>NaN</td>\n      <td>2.0</td>\n      <td>NaN</td>\n      <td>1.0</td>\n      <td>NaN</td>\n      <td>6.0</td>\n      <td>...</td>\n      <td>14.0</td>\n      <td>NaN</td>\n      <td>17.0</td>\n      <td>17.0</td>\n      <td>31.0</td>\n      <td>25.0</td>\n      <td>33.0</td>\n      <td>32.0</td>\n      <td>2.0</td>\n      <td>4.0</td>\n    </tr>\n    <tr>\n      <th>2020-05-12</th>\n      <td>NaN</td>\n      <td>NaN</td>\n      <td>NaN</td>\n      <td>2.0</td>\n      <td>18.0</td>\n      <td>10.0</td>\n      <td>10.0</td>\n      <td>12.0</td>\n      <td>4.0</td>\n      <td>2.0</td>\n      <td>...</td>\n      <td>16.0</td>\n      <td>10.0</td>\n      <td>24.0</td>\n      <td>58.0</td>\n      <td>52.0</td>\n      <td>46.0</td>\n      <td>35.0</td>\n      <td>22.0</td>\n      <td>2.0</td>\n      <td>NaN</td>\n    </tr>\n    <tr>\n      <th>2020-05-13</th>\n      <td>NaN</td>\n      <td>NaN</td>\n      <td>NaN</td>\n      <td>NaN</td>\n      <td>4.0</td>\n      <td>NaN</td>\n      <td>NaN</td>\n      <td>NaN</td>\n      <td>2.0</td>\n      <td>17.0</td>\n      <td>...</td>\n      <td>8.0</td>\n      <td>8.0</td>\n      <td>4.0</td>\n      <td>14.0</td>\n      <td>16.0</td>\n      <td>16.0</td>\n      <td>18.0</td>\n      <td>74.0</td>\n      <td>2.0</td>\n      <td>8.0</td>\n    </tr>\n    <tr>\n      <th>2020-05-14</th>\n      <td>4.0</td>\n      <td>NaN</td>\n      <td>NaN</td>\n      <td>NaN</td>\n      <td>NaN</td>\n      <td>1.0</td>\n      <td>2.0</td>\n      <td>41.0</td>\n      <td>18.0</td>\n      <td>4.0</td>\n      <td>...</td>\n      <td>30.0</td>\n      <td>73.0</td>\n      <td>105.0</td>\n      <td>57.0</td>\n      <td>16.0</td>\n      <td>47.0</td>\n      <td>40.0</td>\n      <td>109.0</td>\n      <td>8.0</td>\n      <td>NaN</td>\n    </tr>\n    <tr>\n      <th>2020-05-15</th>\n      <td>NaN</td>\n      <td>NaN</td>\n      <td>NaN</td>\n      <td>NaN</td>\n      <td>NaN</td>\n      <td>NaN</td>\n      <td>NaN</td>\n      <td>10.0</td>\n      <td>NaN</td>\n      <td>NaN</td>\n      <td>...</td>\n      <td>NaN</td>\n      <td>NaN</td>\n      <td>NaN</td>\n      <td>NaN</td>\n      <td>NaN</td>\n      <td>NaN</td>\n      <td>NaN</td>\n      <td>NaN</td>\n      <td>NaN</td>\n      <td>NaN</td>\n    </tr>\n    <tr>\n      <th>2020-05-18</th>\n      <td>NaN</td>\n      <td>NaN</td>\n      <td>NaN</td>\n      <td>NaN</td>\n      <td>NaN</td>\n      <td>NaN</td>\n      <td>NaN</td>\n      <td>NaN</td>\n      <td>NaN</td>\n      <td>NaN</td>\n      <td>...</td>\n      <td>NaN</td>\n      <td>NaN</td>\n      <td>1.0</td>\n      <td>2.0</td>\n      <td>NaN</td>\n      <td>NaN</td>\n      <td>NaN</td>\n      <td>NaN</td>\n      <td>NaN</td>\n      <td>NaN</td>\n    </tr>\n    <tr>\n      <th>2020-05-19</th>\n      <td>NaN</td>\n      <td>NaN</td>\n      <td>NaN</td>\n      <td>NaN</td>\n      <td>NaN</td>\n      <td>8.0</td>\n      <td>4.0</td>\n      <td>1.0</td>\n      <td>7.0</td>\n      <td>NaN</td>\n      <td>...</td>\n      <td>10.0</td>\n      <td>NaN</td>\n      <td>NaN</td>\n      <td>1.0</td>\n      <td>2.0</td>\n      <td>1.0</td>\n      <td>NaN</td>\n      <td>NaN</td>\n      <td>NaN</td>\n      <td>NaN</td>\n    </tr>\n    <tr>\n      <th>2020-05-20</th>\n      <td>NaN</td>\n      <td>NaN</td>\n      <td>NaN</td>\n      <td>NaN</td>\n      <td>3.0</td>\n      <td>4.0</td>\n      <td>NaN</td>\n      <td>NaN</td>\n      <td>NaN</td>\n      <td>1.0</td>\n      <td>...</td>\n      <td>8.0</td>\n      <td>2.0</td>\n      <td>NaN</td>\n      <td>NaN</td>\n      <td>NaN</td>\n      <td>NaN</td>\n      <td>1.0</td>\n      <td>2.0</td>\n      <td>4.0</td>\n      <td>3.0</td>\n    </tr>\n    <tr>\n      <th>2020-05-21</th>\n      <td>NaN</td>\n      <td>NaN</td>\n      <td>NaN</td>\n      <td>NaN</td>\n      <td>NaN</td>\n      <td>1.0</td>\n      <td>NaN</td>\n      <td>NaN</td>\n      <td>NaN</td>\n      <td>NaN</td>\n      <td>...</td>\n      <td>11.0</td>\n      <td>7.0</td>\n      <td>4.0</td>\n      <td>1.0</td>\n      <td>2.0</td>\n      <td>8.0</td>\n      <td>10.0</td>\n      <td>NaN</td>\n      <td>NaN</td>\n      <td>NaN</td>\n    </tr>\n  </tbody>\n</table>\n<p>25 rows × 21 columns</p>\n</div>"
     },
     "execution_count": 102,
     "metadata": {},
     "output_type": "execute_result"
    }
   ],
   "source": [
    "working_day_df = working_day.groupby('hour').date.value_counts().unstack(0)\n",
    "working_day_df"
   ],
   "metadata": {
    "collapsed": false,
    "pycharm": {
     "name": "#%%\n"
    }
   }
  },
  {
   "cell_type": "code",
   "execution_count": 103,
   "outputs": [
    {
     "data": {
      "text/plain": "hour         0    1    3    5     7     8     9     10    11    12  ...    14  \\\ndate                                                                ...         \n2020-04-18  NaN  NaN  NaN  NaN   1.0   NaN   NaN   NaN   NaN   NaN  ...   3.0   \n2020-04-19  2.0  NaN  NaN  2.0   NaN   NaN   2.0   7.0   5.0   NaN  ...   NaN   \n2020-04-25  NaN  NaN  1.0  NaN  10.0   8.0   3.0   NaN   8.0   7.0  ...   4.0   \n2020-04-26  2.0  NaN  NaN  NaN   2.0   6.0   NaN  10.0   8.0  14.0  ...   7.0   \n2020-05-02  NaN  NaN  NaN  NaN   3.0   1.0   2.0   1.0  84.0  19.0  ...  28.0   \n2020-05-03  NaN  NaN  NaN  NaN   NaN  13.0  11.0  10.0  13.0  14.0  ...  19.0   \n2020-05-09  NaN  NaN  NaN  NaN   NaN   NaN   NaN   NaN   NaN   2.0  ...   8.0   \n2020-05-10  2.0  6.0  NaN  NaN   NaN   NaN   2.0   NaN   NaN   1.0  ...  18.0   \n2020-05-16  NaN  NaN  NaN  NaN   NaN   NaN   NaN   NaN   NaN   NaN  ...   NaN   \n2020-05-17  NaN  NaN  NaN  NaN   NaN   NaN   2.0   NaN   NaN   NaN  ...   NaN   \n\nhour          15    16    17    18    19    20    21    22    23  \ndate                                                              \n2020-04-18  25.0   NaN   7.0   8.0   6.0   4.0   5.0   5.0   NaN  \n2020-04-19   NaN   NaN   NaN   3.0   NaN   NaN   8.0   NaN   NaN  \n2020-04-25   8.0   6.0  15.0   8.0   4.0  10.0   8.0   3.0   1.0  \n2020-04-26  14.0  27.0  16.0  27.0  47.0  50.0  18.0   5.0   2.0  \n2020-05-02  18.0  24.0   2.0   NaN  10.0   8.0   NaN   NaN  16.0  \n2020-05-03  11.0   NaN   NaN  15.0  13.0  34.0   7.0   NaN   1.0  \n2020-05-09   2.0   NaN   NaN   4.0   4.0   4.0  14.0  36.0  12.0  \n2020-05-10  27.0  16.0   4.0   NaN  13.0   4.0   NaN   2.0   NaN  \n2020-05-16   NaN   NaN   3.0   NaN   NaN   1.0   NaN   NaN   NaN  \n2020-05-17   9.0   1.0   3.0   3.0   8.0   2.0  12.0   8.0   NaN  \n\n[10 rows x 21 columns]",
      "text/html": "<div>\n<style scoped>\n    .dataframe tbody tr th:only-of-type {\n        vertical-align: middle;\n    }\n\n    .dataframe tbody tr th {\n        vertical-align: top;\n    }\n\n    .dataframe thead th {\n        text-align: right;\n    }\n</style>\n<table border=\"1\" class=\"dataframe\">\n  <thead>\n    <tr style=\"text-align: right;\">\n      <th>hour</th>\n      <th>0</th>\n      <th>1</th>\n      <th>3</th>\n      <th>5</th>\n      <th>7</th>\n      <th>8</th>\n      <th>9</th>\n      <th>10</th>\n      <th>11</th>\n      <th>12</th>\n      <th>...</th>\n      <th>14</th>\n      <th>15</th>\n      <th>16</th>\n      <th>17</th>\n      <th>18</th>\n      <th>19</th>\n      <th>20</th>\n      <th>21</th>\n      <th>22</th>\n      <th>23</th>\n    </tr>\n    <tr>\n      <th>date</th>\n      <th></th>\n      <th></th>\n      <th></th>\n      <th></th>\n      <th></th>\n      <th></th>\n      <th></th>\n      <th></th>\n      <th></th>\n      <th></th>\n      <th></th>\n      <th></th>\n      <th></th>\n      <th></th>\n      <th></th>\n      <th></th>\n      <th></th>\n      <th></th>\n      <th></th>\n      <th></th>\n      <th></th>\n    </tr>\n  </thead>\n  <tbody>\n    <tr>\n      <th>2020-04-18</th>\n      <td>NaN</td>\n      <td>NaN</td>\n      <td>NaN</td>\n      <td>NaN</td>\n      <td>1.0</td>\n      <td>NaN</td>\n      <td>NaN</td>\n      <td>NaN</td>\n      <td>NaN</td>\n      <td>NaN</td>\n      <td>...</td>\n      <td>3.0</td>\n      <td>25.0</td>\n      <td>NaN</td>\n      <td>7.0</td>\n      <td>8.0</td>\n      <td>6.0</td>\n      <td>4.0</td>\n      <td>5.0</td>\n      <td>5.0</td>\n      <td>NaN</td>\n    </tr>\n    <tr>\n      <th>2020-04-19</th>\n      <td>2.0</td>\n      <td>NaN</td>\n      <td>NaN</td>\n      <td>2.0</td>\n      <td>NaN</td>\n      <td>NaN</td>\n      <td>2.0</td>\n      <td>7.0</td>\n      <td>5.0</td>\n      <td>NaN</td>\n      <td>...</td>\n      <td>NaN</td>\n      <td>NaN</td>\n      <td>NaN</td>\n      <td>NaN</td>\n      <td>3.0</td>\n      <td>NaN</td>\n      <td>NaN</td>\n      <td>8.0</td>\n      <td>NaN</td>\n      <td>NaN</td>\n    </tr>\n    <tr>\n      <th>2020-04-25</th>\n      <td>NaN</td>\n      <td>NaN</td>\n      <td>1.0</td>\n      <td>NaN</td>\n      <td>10.0</td>\n      <td>8.0</td>\n      <td>3.0</td>\n      <td>NaN</td>\n      <td>8.0</td>\n      <td>7.0</td>\n      <td>...</td>\n      <td>4.0</td>\n      <td>8.0</td>\n      <td>6.0</td>\n      <td>15.0</td>\n      <td>8.0</td>\n      <td>4.0</td>\n      <td>10.0</td>\n      <td>8.0</td>\n      <td>3.0</td>\n      <td>1.0</td>\n    </tr>\n    <tr>\n      <th>2020-04-26</th>\n      <td>2.0</td>\n      <td>NaN</td>\n      <td>NaN</td>\n      <td>NaN</td>\n      <td>2.0</td>\n      <td>6.0</td>\n      <td>NaN</td>\n      <td>10.0</td>\n      <td>8.0</td>\n      <td>14.0</td>\n      <td>...</td>\n      <td>7.0</td>\n      <td>14.0</td>\n      <td>27.0</td>\n      <td>16.0</td>\n      <td>27.0</td>\n      <td>47.0</td>\n      <td>50.0</td>\n      <td>18.0</td>\n      <td>5.0</td>\n      <td>2.0</td>\n    </tr>\n    <tr>\n      <th>2020-05-02</th>\n      <td>NaN</td>\n      <td>NaN</td>\n      <td>NaN</td>\n      <td>NaN</td>\n      <td>3.0</td>\n      <td>1.0</td>\n      <td>2.0</td>\n      <td>1.0</td>\n      <td>84.0</td>\n      <td>19.0</td>\n      <td>...</td>\n      <td>28.0</td>\n      <td>18.0</td>\n      <td>24.0</td>\n      <td>2.0</td>\n      <td>NaN</td>\n      <td>10.0</td>\n      <td>8.0</td>\n      <td>NaN</td>\n      <td>NaN</td>\n      <td>16.0</td>\n    </tr>\n    <tr>\n      <th>2020-05-03</th>\n      <td>NaN</td>\n      <td>NaN</td>\n      <td>NaN</td>\n      <td>NaN</td>\n      <td>NaN</td>\n      <td>13.0</td>\n      <td>11.0</td>\n      <td>10.0</td>\n      <td>13.0</td>\n      <td>14.0</td>\n      <td>...</td>\n      <td>19.0</td>\n      <td>11.0</td>\n      <td>NaN</td>\n      <td>NaN</td>\n      <td>15.0</td>\n      <td>13.0</td>\n      <td>34.0</td>\n      <td>7.0</td>\n      <td>NaN</td>\n      <td>1.0</td>\n    </tr>\n    <tr>\n      <th>2020-05-09</th>\n      <td>NaN</td>\n      <td>NaN</td>\n      <td>NaN</td>\n      <td>NaN</td>\n      <td>NaN</td>\n      <td>NaN</td>\n      <td>NaN</td>\n      <td>NaN</td>\n      <td>NaN</td>\n      <td>2.0</td>\n      <td>...</td>\n      <td>8.0</td>\n      <td>2.0</td>\n      <td>NaN</td>\n      <td>NaN</td>\n      <td>4.0</td>\n      <td>4.0</td>\n      <td>4.0</td>\n      <td>14.0</td>\n      <td>36.0</td>\n      <td>12.0</td>\n    </tr>\n    <tr>\n      <th>2020-05-10</th>\n      <td>2.0</td>\n      <td>6.0</td>\n      <td>NaN</td>\n      <td>NaN</td>\n      <td>NaN</td>\n      <td>NaN</td>\n      <td>2.0</td>\n      <td>NaN</td>\n      <td>NaN</td>\n      <td>1.0</td>\n      <td>...</td>\n      <td>18.0</td>\n      <td>27.0</td>\n      <td>16.0</td>\n      <td>4.0</td>\n      <td>NaN</td>\n      <td>13.0</td>\n      <td>4.0</td>\n      <td>NaN</td>\n      <td>2.0</td>\n      <td>NaN</td>\n    </tr>\n    <tr>\n      <th>2020-05-16</th>\n      <td>NaN</td>\n      <td>NaN</td>\n      <td>NaN</td>\n      <td>NaN</td>\n      <td>NaN</td>\n      <td>NaN</td>\n      <td>NaN</td>\n      <td>NaN</td>\n      <td>NaN</td>\n      <td>NaN</td>\n      <td>...</td>\n      <td>NaN</td>\n      <td>NaN</td>\n      <td>NaN</td>\n      <td>3.0</td>\n      <td>NaN</td>\n      <td>NaN</td>\n      <td>1.0</td>\n      <td>NaN</td>\n      <td>NaN</td>\n      <td>NaN</td>\n    </tr>\n    <tr>\n      <th>2020-05-17</th>\n      <td>NaN</td>\n      <td>NaN</td>\n      <td>NaN</td>\n      <td>NaN</td>\n      <td>NaN</td>\n      <td>NaN</td>\n      <td>2.0</td>\n      <td>NaN</td>\n      <td>NaN</td>\n      <td>NaN</td>\n      <td>...</td>\n      <td>NaN</td>\n      <td>9.0</td>\n      <td>1.0</td>\n      <td>3.0</td>\n      <td>3.0</td>\n      <td>8.0</td>\n      <td>2.0</td>\n      <td>12.0</td>\n      <td>8.0</td>\n      <td>NaN</td>\n    </tr>\n  </tbody>\n</table>\n<p>10 rows × 21 columns</p>\n</div>"
     },
     "execution_count": 103,
     "metadata": {},
     "output_type": "execute_result"
    }
   ],
   "source": [
    "weekend_df = df_2 = weekend.groupby('hour').date.value_counts().unstack(0)\n",
    "weekend_df"
   ],
   "metadata": {
    "collapsed": false,
    "pycharm": {
     "name": "#%%\n"
    }
   }
  },
  {
   "cell_type": "code",
   "execution_count": 104,
   "outputs": [
    {
     "data": {
      "text/plain": "0      3.000000\n1      0.000000\n2      0.000000\n3      2.000000\n4      0.000000\n5      7.500000\n6      1.500000\n7      5.166667\n8      3.700000\n9      6.000000\n10    13.200000\n11     6.769231\n12     7.181818\n13     8.111111\n14    10.166667\n15    12.818182\n16    18.888889\n17    16.000000\n18    15.181818\n19    17.833333\n20    14.076923\n21    24.333333\n22     3.750000\n23     5.000000\nName: working_day, dtype: float64"
     },
     "execution_count": 104,
     "metadata": {},
     "output_type": "execute_result"
    }
   ],
   "source": [
    "index = pd.RangeIndex(stop=24)\n",
    "working_day_df = working_day_df.mean()\n",
    "working_day_df = working_day_df.reindex(index=index, fill_value=0)\n",
    "working_day_df = working_day_df.rename('working_day')\n",
    "working_day_df"
   ],
   "metadata": {
    "collapsed": false,
    "pycharm": {
     "name": "#%%\n"
    }
   }
  },
  {
   "cell_type": "code",
   "execution_count": 105,
   "outputs": [
    {
     "data": {
      "text/plain": "0      2.000000\n1      6.000000\n2      0.000000\n3      1.000000\n4      0.000000\n5      2.000000\n6      0.000000\n7      4.000000\n8      7.000000\n9      3.666667\n10     7.000000\n11    23.600000\n12     9.500000\n13    18.000000\n14    12.428571\n15    14.250000\n16    14.800000\n17     7.142857\n18     9.714286\n19    13.125000\n20    13.000000\n21    10.285714\n22     9.833333\n23     6.400000\nName: weekend, dtype: float64"
     },
     "execution_count": 105,
     "metadata": {},
     "output_type": "execute_result"
    }
   ],
   "source": [
    "weekend_df = weekend_df.mean()\n",
    "weekend_df = weekend_df.reindex(index=index, fill_value=0)\n",
    "weekend_df = weekend_df.rename('weekend')\n",
    "weekend_df"
   ],
   "metadata": {
    "collapsed": false,
    "pycharm": {
     "name": "#%%\n"
    }
   }
  },
  {
   "cell_type": "code",
   "execution_count": 106,
   "outputs": [
    {
     "data": {
      "text/plain": "16.0"
     },
     "execution_count": 106,
     "metadata": {},
     "output_type": "execute_result"
    }
   ],
   "source": [
    "working_day_df[17]"
   ],
   "metadata": {
    "collapsed": false,
    "pycharm": {
     "name": "#%%\n"
    }
   }
  },
  {
   "cell_type": "code",
   "execution_count": 107,
   "outputs": [
    {
     "data": {
      "text/plain": "7.142857142857143"
     },
     "execution_count": 107,
     "metadata": {},
     "output_type": "execute_result"
    }
   ],
   "source": [
    "weekend_df[17]"
   ],
   "metadata": {
    "collapsed": false,
    "pycharm": {
     "name": "#%%\n"
    }
   }
  },
  {
   "cell_type": "code",
   "execution_count": 108,
   "outputs": [
    {
     "data": {
      "text/plain": "        weekend  working_day\nhour                        \n0      2.000000     3.000000\n1      6.000000     0.000000\n2      0.000000     0.000000\n3      1.000000     2.000000\n4      0.000000     0.000000\n5      2.000000     7.500000\n6      0.000000     1.500000\n7      4.000000     5.166667\n8      7.000000     3.700000\n9      3.666667     6.000000\n10     7.000000    13.200000\n11    23.600000     6.769231\n12     9.500000     7.181818\n13    18.000000     8.111111\n14    12.428571    10.166667\n15    14.250000    12.818182\n16    14.800000    18.888889\n17     7.142857    16.000000\n18     9.714286    15.181818\n19    13.125000    17.833333\n20    13.000000    14.076923\n21    10.285714    24.333333\n22     9.833333     3.750000\n23     6.400000     5.000000",
      "text/html": "<div>\n<style scoped>\n    .dataframe tbody tr th:only-of-type {\n        vertical-align: middle;\n    }\n\n    .dataframe tbody tr th {\n        vertical-align: top;\n    }\n\n    .dataframe thead th {\n        text-align: right;\n    }\n</style>\n<table border=\"1\" class=\"dataframe\">\n  <thead>\n    <tr style=\"text-align: right;\">\n      <th></th>\n      <th>weekend</th>\n      <th>working_day</th>\n    </tr>\n    <tr>\n      <th>hour</th>\n      <th></th>\n      <th></th>\n    </tr>\n  </thead>\n  <tbody>\n    <tr>\n      <th>0</th>\n      <td>2.000000</td>\n      <td>3.000000</td>\n    </tr>\n    <tr>\n      <th>1</th>\n      <td>6.000000</td>\n      <td>0.000000</td>\n    </tr>\n    <tr>\n      <th>2</th>\n      <td>0.000000</td>\n      <td>0.000000</td>\n    </tr>\n    <tr>\n      <th>3</th>\n      <td>1.000000</td>\n      <td>2.000000</td>\n    </tr>\n    <tr>\n      <th>4</th>\n      <td>0.000000</td>\n      <td>0.000000</td>\n    </tr>\n    <tr>\n      <th>5</th>\n      <td>2.000000</td>\n      <td>7.500000</td>\n    </tr>\n    <tr>\n      <th>6</th>\n      <td>0.000000</td>\n      <td>1.500000</td>\n    </tr>\n    <tr>\n      <th>7</th>\n      <td>4.000000</td>\n      <td>5.166667</td>\n    </tr>\n    <tr>\n      <th>8</th>\n      <td>7.000000</td>\n      <td>3.700000</td>\n    </tr>\n    <tr>\n      <th>9</th>\n      <td>3.666667</td>\n      <td>6.000000</td>\n    </tr>\n    <tr>\n      <th>10</th>\n      <td>7.000000</td>\n      <td>13.200000</td>\n    </tr>\n    <tr>\n      <th>11</th>\n      <td>23.600000</td>\n      <td>6.769231</td>\n    </tr>\n    <tr>\n      <th>12</th>\n      <td>9.500000</td>\n      <td>7.181818</td>\n    </tr>\n    <tr>\n      <th>13</th>\n      <td>18.000000</td>\n      <td>8.111111</td>\n    </tr>\n    <tr>\n      <th>14</th>\n      <td>12.428571</td>\n      <td>10.166667</td>\n    </tr>\n    <tr>\n      <th>15</th>\n      <td>14.250000</td>\n      <td>12.818182</td>\n    </tr>\n    <tr>\n      <th>16</th>\n      <td>14.800000</td>\n      <td>18.888889</td>\n    </tr>\n    <tr>\n      <th>17</th>\n      <td>7.142857</td>\n      <td>16.000000</td>\n    </tr>\n    <tr>\n      <th>18</th>\n      <td>9.714286</td>\n      <td>15.181818</td>\n    </tr>\n    <tr>\n      <th>19</th>\n      <td>13.125000</td>\n      <td>17.833333</td>\n    </tr>\n    <tr>\n      <th>20</th>\n      <td>13.000000</td>\n      <td>14.076923</td>\n    </tr>\n    <tr>\n      <th>21</th>\n      <td>10.285714</td>\n      <td>24.333333</td>\n    </tr>\n    <tr>\n      <th>22</th>\n      <td>9.833333</td>\n      <td>3.750000</td>\n    </tr>\n    <tr>\n      <th>23</th>\n      <td>6.400000</td>\n      <td>5.000000</td>\n    </tr>\n  </tbody>\n</table>\n</div>"
     },
     "execution_count": 108,
     "metadata": {},
     "output_type": "execute_result"
    }
   ],
   "source": [
    "concatenation = pd.concat([weekend_df, working_day_df], axis=1)\n",
    "concatenation = concatenation.rename_axis('hour')\n",
    "concatenation"
   ],
   "metadata": {
    "collapsed": false,
    "pycharm": {
     "name": "#%%\n"
    }
   }
  },
  {
   "cell_type": "markdown",
   "source": [
    "## choose a palette that you really enjoy, you do not have to replicate it from the graph above"
   ],
   "metadata": {
    "collapsed": false,
    "pycharm": {
     "name": "#%% md\n"
    }
   }
  },
  {
   "cell_type": "code",
   "execution_count": 109,
   "outputs": [
    {
     "data": {
      "text/plain": "<Figure size 1080x576 with 2 Axes>",
      "image/png": "[encoded data removed]"
     },
     "metadata": {
      "needs_background": "light"
     },
     "output_type": "display_data"
    }
   ],
   "source": [
    "axes = concatenation.plot.bar(figsize=(15,8), title='Commits per hour', rot=0, fontsize=8,\n",
    "                              colormap='summer', sharex=True, subplots=True)"
   ],
   "metadata": {
    "collapsed": false,
    "pycharm": {
     "name": "#%%\n"
    }
   }
  },
  {
   "cell_type": "markdown",
   "source": [
    "#### “Is the dynamic different on working days and weekends?”, for the answer include the hour when the number of commits is the largest during working days and the hour when it is the largest during the weekend."
   ],
   "metadata": {
    "collapsed": false,
    "pycharm": {
     "name": "#%% md\n"
    }
   }
  },
  {
   "cell_type": "code",
   "execution_count": 110,
   "outputs": [
    {
     "data": {
      "text/plain": "11"
     },
     "execution_count": 110,
     "metadata": {},
     "output_type": "execute_result"
    }
   ],
   "source": [
    "concatenation['weekend'].idxmax()"
   ],
   "metadata": {
    "collapsed": false,
    "pycharm": {
     "name": "#%%\n"
    }
   }
  },
  {
   "cell_type": "code",
   "execution_count": 111,
   "outputs": [
    {
     "data": {
      "text/plain": "21"
     },
     "execution_count": 111,
     "metadata": {},
     "output_type": "execute_result"
    }
   ],
   "source": [
    "concatenation['working_day'].idxmax()"
   ],
   "metadata": {
    "collapsed": false,
    "pycharm": {
     "name": "#%%\n"
    }
   }
  },
  {
   "cell_type": "code",
   "execution_count": 112,
   "outputs": [],
   "source": [
    "connection.close()"
   ],
   "metadata": {
    "collapsed": false,
    "pycharm": {
     "name": "#%%\n"
    }
   }
  },
  {
   "cell_type": "code",
   "execution_count": 112,
   "outputs": [],
   "source": [],
   "metadata": {
    "collapsed": false,
    "pycharm": {
     "name": "#%%\n"
    }
   }
  }
 ],
 "metadata": {
  "kernelspec": {
   "display_name": "Python 3",
   "language": "python",
   "name": "python3"
  },
  "language_info": {
   "codemirror_mode": {
    "name": "ipython",
    "version": 2
   },
   "file_extension": ".py",
   "mimetype": "text/x-python",
   "name": "python",
   "nbconvert_exporter": "python",
   "pygments_lexer": "ipython2",
   "version": "2.7.6"
  }
 },
 "nbformat": 4,
 "nbformat_minor": 0
}