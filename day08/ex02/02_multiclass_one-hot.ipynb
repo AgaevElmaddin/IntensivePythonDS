{
 "cells": [
  {
   "cell_type": "markdown",
   "metadata": {},
   "source": [
    "# Day 08. Exercise 02\n",
    "# Multiclass classification. One-hot encoding. Random forest"
   ]
  },
  {
   "cell_type": "markdown",
   "metadata": {},
   "source": [
    "## 0. Imports"
   ]
  },
  {
   "cell_type": "code",
   "execution_count": 24,
   "metadata": {},
   "outputs": [],
   "source": [
    "import pandas as pd\n",
    "import numpy as np\n",
    "import matplotlib.pyplot as plt\n",
    "from sklearn.svm import SVC\n",
    "from sklearn.metrics import accuracy_score\n",
    "from sklearn.tree import DecisionTreeClassifier\n",
    "from sklearn.preprocessing import StandardScaler\n",
    "from sklearn.model_selection import GridSearchCV\n",
    "from sklearn.linear_model import LogisticRegression\n",
    "from sklearn.ensemble import RandomForestClassifier"
   ]
  },
  {
   "cell_type": "markdown",
   "metadata": {},
   "source": [
    "## 1. Preprocessing"
   ]
  },
  {
   "cell_type": "markdown",
   "metadata": {},
   "source": [
    "1. Read the file [`checker-submits.csv`](https://drive.google.com/file/d/14voc4fNJZiLEFaZyd8nEG-lQt5JjatYw/view?usp=sharing).\n",
    "2. Create a dataframe `df` with the columns: `uid`, `labname`, `numTrials`, `hour`, `dayofweek` where `hour` is extracted from the `timestamp` as well as the `dayofweek` (`0` is Monday, `6` is Sunday). We will try to predict the day of the week having data about which user made a commit for which lab at which hour and which try it was.\n",
    "3. Using `OneHotEncoder()` transform your categorical features, delete from the dataframe the initial columns.\n",
    "4. Use `StandardScaler()` and scale your continuous features.\n",
    "5. Save the dataframe as `dayofweek.csv`.\n",
    "6. Before trying out different algorithms, find out the accuracy of the naive algorithms – the one that predicts everything as the most popular class."
   ]
  },
  {
   "cell_type": "code",
   "execution_count": 25,
   "metadata": {},
   "outputs": [
    {
     "data": {
      "text/plain": "          uid   labname  numTrials                  timestamp\n0      user_4  project1          1 2020-04-17 05:19:02.744528\n1      user_4  project1          2 2020-04-17 05:22:45.549397\n2      user_4  project1          3 2020-04-17 05:34:24.422370\n3      user_4  project1          4 2020-04-17 05:43:27.773992\n4      user_4  project1          5 2020-04-17 05:46:32.275104\n...       ...       ...        ...                        ...\n1681  user_19   laba06s          9 2020-05-21 20:01:48.959966\n1682   user_1   laba06s          6 2020-05-21 20:18:54.487900\n1683   user_1   laba06s          7 2020-05-21 20:19:06.872761\n1684   user_1   laba06s          8 2020-05-21 20:22:41.877806\n1685   user_1   laba06s          9 2020-05-21 20:37:00.290491\n\n[1686 rows x 4 columns]",
      "text/html": "<div>\n<style scoped>\n    .dataframe tbody tr th:only-of-type {\n        vertical-align: middle;\n    }\n\n    .dataframe tbody tr th {\n        vertical-align: top;\n    }\n\n    .dataframe thead th {\n        text-align: right;\n    }\n</style>\n<table border=\"1\" class=\"dataframe\">\n  <thead>\n    <tr style=\"text-align: right;\">\n      <th></th>\n      <th>uid</th>\n      <th>labname</th>\n      <th>numTrials</th>\n      <th>timestamp</th>\n    </tr>\n  </thead>\n  <tbody>\n    <tr>\n      <th>0</th>\n      <td>user_4</td>\n      <td>project1</td>\n      <td>1</td>\n      <td>2020-04-17 05:19:02.744528</td>\n    </tr>\n    <tr>\n      <th>1</th>\n      <td>user_4</td>\n      <td>project1</td>\n      <td>2</td>\n      <td>2020-04-17 05:22:45.549397</td>\n    </tr>\n    <tr>\n      <th>2</th>\n      <td>user_4</td>\n      <td>project1</td>\n      <td>3</td>\n      <td>2020-04-17 05:34:24.422370</td>\n    </tr>\n    <tr>\n      <th>3</th>\n      <td>user_4</td>\n      <td>project1</td>\n      <td>4</td>\n      <td>2020-04-17 05:43:27.773992</td>\n    </tr>\n    <tr>\n      <th>4</th>\n      <td>user_4</td>\n      <td>project1</td>\n      <td>5</td>\n      <td>2020-04-17 05:46:32.275104</td>\n    </tr>\n    <tr>\n      <th>...</th>\n      <td>...</td>\n      <td>...</td>\n      <td>...</td>\n      <td>...</td>\n    </tr>\n    <tr>\n      <th>1681</th>\n      <td>user_19</td>\n      <td>laba06s</td>\n      <td>9</td>\n      <td>2020-05-21 20:01:48.959966</td>\n    </tr>\n    <tr>\n      <th>1682</th>\n      <td>user_1</td>\n      <td>laba06s</td>\n      <td>6</td>\n      <td>2020-05-21 20:18:54.487900</td>\n    </tr>\n    <tr>\n      <th>1683</th>\n      <td>user_1</td>\n      <td>laba06s</td>\n      <td>7</td>\n      <td>2020-05-21 20:19:06.872761</td>\n    </tr>\n    <tr>\n      <th>1684</th>\n      <td>user_1</td>\n      <td>laba06s</td>\n      <td>8</td>\n      <td>2020-05-21 20:22:41.877806</td>\n    </tr>\n    <tr>\n      <th>1685</th>\n      <td>user_1</td>\n      <td>laba06s</td>\n      <td>9</td>\n      <td>2020-05-21 20:37:00.290491</td>\n    </tr>\n  </tbody>\n</table>\n<p>1686 rows × 4 columns</p>\n</div>"
     },
     "execution_count": 25,
     "metadata": {},
     "output_type": "execute_result"
    }
   ],
   "source": [
    "df = pd.read_csv('../data/checker_submits.csv', parse_dates=['timestamp'])\n",
    "df"
   ]
  },
  {
   "cell_type": "code",
   "execution_count": 26,
   "metadata": {},
   "outputs": [
    {
     "data": {
      "text/plain": "          uid   labname  numTrials  hour  dayofweek\n0      user_4  project1          1     5          4\n1      user_4  project1          2     5          4\n2      user_4  project1          3     5          4\n3      user_4  project1          4     5          4\n4      user_4  project1          5     5          4\n...       ...       ...        ...   ...        ...\n1681  user_19   laba06s          9    20          3\n1682   user_1   laba06s          6    20          3\n1683   user_1   laba06s          7    20          3\n1684   user_1   laba06s          8    20          3\n1685   user_1   laba06s          9    20          3\n\n[1686 rows x 5 columns]",
      "text/html": "<div>\n<style scoped>\n    .dataframe tbody tr th:only-of-type {\n        vertical-align: middle;\n    }\n\n    .dataframe tbody tr th {\n        vertical-align: top;\n    }\n\n    .dataframe thead th {\n        text-align: right;\n    }\n</style>\n<table border=\"1\" class=\"dataframe\">\n  <thead>\n    <tr style=\"text-align: right;\">\n      <th></th>\n      <th>uid</th>\n      <th>labname</th>\n      <th>numTrials</th>\n      <th>hour</th>\n      <th>dayofweek</th>\n    </tr>\n  </thead>\n  <tbody>\n    <tr>\n      <th>0</th>\n      <td>user_4</td>\n      <td>project1</td>\n      <td>1</td>\n      <td>5</td>\n      <td>4</td>\n    </tr>\n    <tr>\n      <th>1</th>\n      <td>user_4</td>\n      <td>project1</td>\n      <td>2</td>\n      <td>5</td>\n      <td>4</td>\n    </tr>\n    <tr>\n      <th>2</th>\n      <td>user_4</td>\n      <td>project1</td>\n      <td>3</td>\n      <td>5</td>\n      <td>4</td>\n    </tr>\n    <tr>\n      <th>3</th>\n      <td>user_4</td>\n      <td>project1</td>\n      <td>4</td>\n      <td>5</td>\n      <td>4</td>\n    </tr>\n    <tr>\n      <th>4</th>\n      <td>user_4</td>\n      <td>project1</td>\n      <td>5</td>\n      <td>5</td>\n      <td>4</td>\n    </tr>\n    <tr>\n      <th>...</th>\n      <td>...</td>\n      <td>...</td>\n      <td>...</td>\n      <td>...</td>\n      <td>...</td>\n    </tr>\n    <tr>\n      <th>1681</th>\n      <td>user_19</td>\n      <td>laba06s</td>\n      <td>9</td>\n      <td>20</td>\n      <td>3</td>\n    </tr>\n    <tr>\n      <th>1682</th>\n      <td>user_1</td>\n      <td>laba06s</td>\n      <td>6</td>\n      <td>20</td>\n      <td>3</td>\n    </tr>\n    <tr>\n      <th>1683</th>\n      <td>user_1</td>\n      <td>laba06s</td>\n      <td>7</td>\n      <td>20</td>\n      <td>3</td>\n    </tr>\n    <tr>\n      <th>1684</th>\n      <td>user_1</td>\n      <td>laba06s</td>\n      <td>8</td>\n      <td>20</td>\n      <td>3</td>\n    </tr>\n    <tr>\n      <th>1685</th>\n      <td>user_1</td>\n      <td>laba06s</td>\n      <td>9</td>\n      <td>20</td>\n      <td>3</td>\n    </tr>\n  </tbody>\n</table>\n<p>1686 rows × 5 columns</p>\n</div>"
     },
     "execution_count": 26,
     "metadata": {},
     "output_type": "execute_result"
    }
   ],
   "source": [
    "df['hour'] = df['timestamp'].dt.hour\n",
    "df['dayofweek'] = df['timestamp'].dt.dayofweek\n",
    "df = df.drop('timestamp', axis=1)\n",
    "df"
   ]
  },
  {
   "cell_type": "code",
   "execution_count": 27,
   "metadata": {},
   "outputs": [
    {
     "data": {
      "text/plain": "      numTrials  hour  dayofweek  uid_user_0  uid_user_1  uid_user_10  \\\n0             1     5          4           0           0            0   \n1             2     5          4           0           0            0   \n2             3     5          4           0           0            0   \n3             4     5          4           0           0            0   \n4             5     5          4           0           0            0   \n...         ...   ...        ...         ...         ...          ...   \n1681          9    20          3           0           0            0   \n1682          6    20          3           0           1            0   \n1683          7    20          3           0           1            0   \n1684          8    20          3           0           1            0   \n1685          9    20          3           0           1            0   \n\n      uid_user_11  uid_user_12  uid_user_13  uid_user_14  ...  labname_lab02  \\\n0               0            0            0            0  ...              0   \n1               0            0            0            0  ...              0   \n2               0            0            0            0  ...              0   \n3               0            0            0            0  ...              0   \n4               0            0            0            0  ...              0   \n...           ...          ...          ...          ...  ...            ...   \n1681            0            0            0            0  ...              0   \n1682            0            0            0            0  ...              0   \n1683            0            0            0            0  ...              0   \n1684            0            0            0            0  ...              0   \n1685            0            0            0            0  ...              0   \n\n      labname_lab03  labname_lab03s  labname_lab05s  labname_laba04  \\\n0                 0               0               0               0   \n1                 0               0               0               0   \n2                 0               0               0               0   \n3                 0               0               0               0   \n4                 0               0               0               0   \n...             ...             ...             ...             ...   \n1681              0               0               0               0   \n1682              0               0               0               0   \n1683              0               0               0               0   \n1684              0               0               0               0   \n1685              0               0               0               0   \n\n      labname_laba04s  labname_laba05  labname_laba06  labname_laba06s  \\\n0                   0               0               0                0   \n1                   0               0               0                0   \n2                   0               0               0                0   \n3                   0               0               0                0   \n4                   0               0               0                0   \n...               ...             ...             ...              ...   \n1681                0               0               0                1   \n1682                0               0               0                1   \n1683                0               0               0                1   \n1684                0               0               0                1   \n1685                0               0               0                1   \n\n      labname_project1  \n0                    1  \n1                    1  \n2                    1  \n3                    1  \n4                    1  \n...                ...  \n1681                 0  \n1682                 0  \n1683                 0  \n1684                 0  \n1685                 0  \n\n[1686 rows x 44 columns]",
      "text/html": "<div>\n<style scoped>\n    .dataframe tbody tr th:only-of-type {\n        vertical-align: middle;\n    }\n\n    .dataframe tbody tr th {\n        vertical-align: top;\n    }\n\n    .dataframe thead th {\n        text-align: right;\n    }\n</style>\n<table border=\"1\" class=\"dataframe\">\n  <thead>\n    <tr style=\"text-align: right;\">\n      <th></th>\n      <th>numTrials</th>\n      <th>hour</th>\n      <th>dayofweek</th>\n      <th>uid_user_0</th>\n      <th>uid_user_1</th>\n      <th>uid_user_10</th>\n      <th>uid_user_11</th>\n      <th>uid_user_12</th>\n      <th>uid_user_13</th>\n      <th>uid_user_14</th>\n      <th>...</th>\n      <th>labname_lab02</th>\n      <th>labname_lab03</th>\n      <th>labname_lab03s</th>\n      <th>labname_lab05s</th>\n      <th>labname_laba04</th>\n      <th>labname_laba04s</th>\n      <th>labname_laba05</th>\n      <th>labname_laba06</th>\n      <th>labname_laba06s</th>\n      <th>labname_project1</th>\n    </tr>\n  </thead>\n  <tbody>\n    <tr>\n      <th>0</th>\n      <td>1</td>\n      <td>5</td>\n      <td>4</td>\n      <td>0</td>\n      <td>0</td>\n      <td>0</td>\n      <td>0</td>\n      <td>0</td>\n      <td>0</td>\n      <td>0</td>\n      <td>...</td>\n      <td>0</td>\n      <td>0</td>\n      <td>0</td>\n      <td>0</td>\n      <td>0</td>\n      <td>0</td>\n      <td>0</td>\n      <td>0</td>\n      <td>0</td>\n      <td>1</td>\n    </tr>\n    <tr>\n      <th>1</th>\n      <td>2</td>\n      <td>5</td>\n      <td>4</td>\n      <td>0</td>\n      <td>0</td>\n      <td>0</td>\n      <td>0</td>\n      <td>0</td>\n      <td>0</td>\n      <td>0</td>\n      <td>...</td>\n      <td>0</td>\n      <td>0</td>\n      <td>0</td>\n      <td>0</td>\n      <td>0</td>\n      <td>0</td>\n      <td>0</td>\n      <td>0</td>\n      <td>0</td>\n      <td>1</td>\n    </tr>\n    <tr>\n      <th>2</th>\n      <td>3</td>\n      <td>5</td>\n      <td>4</td>\n      <td>0</td>\n      <td>0</td>\n      <td>0</td>\n      <td>0</td>\n      <td>0</td>\n      <td>0</td>\n      <td>0</td>\n      <td>...</td>\n      <td>0</td>\n      <td>0</td>\n      <td>0</td>\n      <td>0</td>\n      <td>0</td>\n      <td>0</td>\n      <td>0</td>\n      <td>0</td>\n      <td>0</td>\n      <td>1</td>\n    </tr>\n    <tr>\n      <th>3</th>\n      <td>4</td>\n      <td>5</td>\n      <td>4</td>\n      <td>0</td>\n      <td>0</td>\n      <td>0</td>\n      <td>0</td>\n      <td>0</td>\n      <td>0</td>\n      <td>0</td>\n      <td>...</td>\n      <td>0</td>\n      <td>0</td>\n      <td>0</td>\n      <td>0</td>\n      <td>0</td>\n      <td>0</td>\n      <td>0</td>\n      <td>0</td>\n      <td>0</td>\n      <td>1</td>\n    </tr>\n    <tr>\n      <th>4</th>\n      <td>5</td>\n      <td>5</td>\n      <td>4</td>\n      <td>0</td>\n      <td>0</td>\n      <td>0</td>\n      <td>0</td>\n      <td>0</td>\n      <td>0</td>\n      <td>0</td>\n      <td>...</td>\n      <td>0</td>\n      <td>0</td>\n      <td>0</td>\n      <td>0</td>\n      <td>0</td>\n      <td>0</td>\n      <td>0</td>\n      <td>0</td>\n      <td>0</td>\n      <td>1</td>\n    </tr>\n    <tr>\n      <th>...</th>\n      <td>...</td>\n      <td>...</td>\n      <td>...</td>\n      <td>...</td>\n      <td>...</td>\n      <td>...</td>\n      <td>...</td>\n      <td>...</td>\n      <td>...</td>\n      <td>...</td>\n      <td>...</td>\n      <td>...</td>\n      <td>...</td>\n      <td>...</td>\n      <td>...</td>\n      <td>...</td>\n      <td>...</td>\n      <td>...</td>\n      <td>...</td>\n      <td>...</td>\n      <td>...</td>\n    </tr>\n    <tr>\n      <th>1681</th>\n      <td>9</td>\n      <td>20</td>\n      <td>3</td>\n      <td>0</td>\n      <td>0</td>\n      <td>0</td>\n      <td>0</td>\n      <td>0</td>\n      <td>0</td>\n      <td>0</td>\n      <td>...</td>\n      <td>0</td>\n      <td>0</td>\n      <td>0</td>\n      <td>0</td>\n      <td>0</td>\n      <td>0</td>\n      <td>0</td>\n      <td>0</td>\n      <td>1</td>\n      <td>0</td>\n    </tr>\n    <tr>\n      <th>1682</th>\n      <td>6</td>\n      <td>20</td>\n      <td>3</td>\n      <td>0</td>\n      <td>1</td>\n      <td>0</td>\n      <td>0</td>\n      <td>0</td>\n      <td>0</td>\n      <td>0</td>\n      <td>...</td>\n      <td>0</td>\n      <td>0</td>\n      <td>0</td>\n      <td>0</td>\n      <td>0</td>\n      <td>0</td>\n      <td>0</td>\n      <td>0</td>\n      <td>1</td>\n      <td>0</td>\n    </tr>\n    <tr>\n      <th>1683</th>\n      <td>7</td>\n      <td>20</td>\n      <td>3</td>\n      <td>0</td>\n      <td>1</td>\n      <td>0</td>\n      <td>0</td>\n      <td>0</td>\n      <td>0</td>\n      <td>0</td>\n      <td>...</td>\n      <td>0</td>\n      <td>0</td>\n      <td>0</td>\n      <td>0</td>\n      <td>0</td>\n      <td>0</td>\n      <td>0</td>\n      <td>0</td>\n      <td>1</td>\n      <td>0</td>\n    </tr>\n    <tr>\n      <th>1684</th>\n      <td>8</td>\n      <td>20</td>\n      <td>3</td>\n      <td>0</td>\n      <td>1</td>\n      <td>0</td>\n      <td>0</td>\n      <td>0</td>\n      <td>0</td>\n      <td>0</td>\n      <td>...</td>\n      <td>0</td>\n      <td>0</td>\n      <td>0</td>\n      <td>0</td>\n      <td>0</td>\n      <td>0</td>\n      <td>0</td>\n      <td>0</td>\n      <td>1</td>\n      <td>0</td>\n    </tr>\n    <tr>\n      <th>1685</th>\n      <td>9</td>\n      <td>20</td>\n      <td>3</td>\n      <td>0</td>\n      <td>1</td>\n      <td>0</td>\n      <td>0</td>\n      <td>0</td>\n      <td>0</td>\n      <td>0</td>\n      <td>...</td>\n      <td>0</td>\n      <td>0</td>\n      <td>0</td>\n      <td>0</td>\n      <td>0</td>\n      <td>0</td>\n      <td>0</td>\n      <td>0</td>\n      <td>1</td>\n      <td>0</td>\n    </tr>\n  </tbody>\n</table>\n<p>1686 rows × 44 columns</p>\n</div>"
     },
     "execution_count": 27,
     "metadata": {},
     "output_type": "execute_result"
    }
   ],
   "source": [
    "df = pd.get_dummies(df, prefix=['uid', 'labname'], columns=['uid', 'labname'])\n",
    "df"
   ]
  },
  {
   "cell_type": "code",
   "execution_count": 28,
   "metadata": {},
   "outputs": [
    {
     "data": {
      "text/plain": "      numTrials      hour  dayofweek  uid_user_0  uid_user_1  uid_user_10  \\\n0     -0.788667 -2.562352          4           0           0            0   \n1     -0.756764 -2.562352          4           0           0            0   \n2     -0.724861 -2.562352          4           0           0            0   \n3     -0.692958 -2.562352          4           0           0            0   \n4     -0.661055 -2.562352          4           0           0            0   \n...         ...       ...        ...         ...         ...          ...   \n1681  -0.533442  0.945382          3           0           0            0   \n1682  -0.629151  0.945382          3           0           1            0   \n1683  -0.597248  0.945382          3           0           1            0   \n1684  -0.565345  0.945382          3           0           1            0   \n1685  -0.533442  0.945382          3           0           1            0   \n\n      uid_user_11  uid_user_12  uid_user_13  uid_user_14  ...  labname_lab02  \\\n0               0            0            0            0  ...              0   \n1               0            0            0            0  ...              0   \n2               0            0            0            0  ...              0   \n3               0            0            0            0  ...              0   \n4               0            0            0            0  ...              0   \n...           ...          ...          ...          ...  ...            ...   \n1681            0            0            0            0  ...              0   \n1682            0            0            0            0  ...              0   \n1683            0            0            0            0  ...              0   \n1684            0            0            0            0  ...              0   \n1685            0            0            0            0  ...              0   \n\n      labname_lab03  labname_lab03s  labname_lab05s  labname_laba04  \\\n0                 0               0               0               0   \n1                 0               0               0               0   \n2                 0               0               0               0   \n3                 0               0               0               0   \n4                 0               0               0               0   \n...             ...             ...             ...             ...   \n1681              0               0               0               0   \n1682              0               0               0               0   \n1683              0               0               0               0   \n1684              0               0               0               0   \n1685              0               0               0               0   \n\n      labname_laba04s  labname_laba05  labname_laba06  labname_laba06s  \\\n0                   0               0               0                0   \n1                   0               0               0                0   \n2                   0               0               0                0   \n3                   0               0               0                0   \n4                   0               0               0                0   \n...               ...             ...             ...              ...   \n1681                0               0               0                1   \n1682                0               0               0                1   \n1683                0               0               0                1   \n1684                0               0               0                1   \n1685                0               0               0                1   \n\n      labname_project1  \n0                    1  \n1                    1  \n2                    1  \n3                    1  \n4                    1  \n...                ...  \n1681                 0  \n1682                 0  \n1683                 0  \n1684                 0  \n1685                 0  \n\n[1686 rows x 44 columns]",
      "text/html": "<div>\n<style scoped>\n    .dataframe tbody tr th:only-of-type {\n        vertical-align: middle;\n    }\n\n    .dataframe tbody tr th {\n        vertical-align: top;\n    }\n\n    .dataframe thead th {\n        text-align: right;\n    }\n</style>\n<table border=\"1\" class=\"dataframe\">\n  <thead>\n    <tr style=\"text-align: right;\">\n      <th></th>\n      <th>numTrials</th>\n      <th>hour</th>\n      <th>dayofweek</th>\n      <th>uid_user_0</th>\n      <th>uid_user_1</th>\n      <th>uid_user_10</th>\n      <th>uid_user_11</th>\n      <th>uid_user_12</th>\n      <th>uid_user_13</th>\n      <th>uid_user_14</th>\n      <th>...</th>\n      <th>labname_lab02</th>\n      <th>labname_lab03</th>\n      <th>labname_lab03s</th>\n      <th>labname_lab05s</th>\n      <th>labname_laba04</th>\n      <th>labname_laba04s</th>\n      <th>labname_laba05</th>\n      <th>labname_laba06</th>\n      <th>labname_laba06s</th>\n      <th>labname_project1</th>\n    </tr>\n  </thead>\n  <tbody>\n    <tr>\n      <th>0</th>\n      <td>-0.788667</td>\n      <td>-2.562352</td>\n      <td>4</td>\n      <td>0</td>\n      <td>0</td>\n      <td>0</td>\n      <td>0</td>\n      <td>0</td>\n      <td>0</td>\n      <td>0</td>\n      <td>...</td>\n      <td>0</td>\n      <td>0</td>\n      <td>0</td>\n      <td>0</td>\n      <td>0</td>\n      <td>0</td>\n      <td>0</td>\n      <td>0</td>\n      <td>0</td>\n      <td>1</td>\n    </tr>\n    <tr>\n      <th>1</th>\n      <td>-0.756764</td>\n      <td>-2.562352</td>\n      <td>4</td>\n      <td>0</td>\n      <td>0</td>\n      <td>0</td>\n      <td>0</td>\n      <td>0</td>\n      <td>0</td>\n      <td>0</td>\n      <td>...</td>\n      <td>0</td>\n      <td>0</td>\n      <td>0</td>\n      <td>0</td>\n      <td>0</td>\n      <td>0</td>\n      <td>0</td>\n      <td>0</td>\n      <td>0</td>\n      <td>1</td>\n    </tr>\n    <tr>\n      <th>2</th>\n      <td>-0.724861</td>\n      <td>-2.562352</td>\n      <td>4</td>\n      <td>0</td>\n      <td>0</td>\n      <td>0</td>\n      <td>0</td>\n      <td>0</td>\n      <td>0</td>\n      <td>0</td>\n      <td>...</td>\n      <td>0</td>\n      <td>0</td>\n      <td>0</td>\n      <td>0</td>\n      <td>0</td>\n      <td>0</td>\n      <td>0</td>\n      <td>0</td>\n      <td>0</td>\n      <td>1</td>\n    </tr>\n    <tr>\n      <th>3</th>\n      <td>-0.692958</td>\n      <td>-2.562352</td>\n      <td>4</td>\n      <td>0</td>\n      <td>0</td>\n      <td>0</td>\n      <td>0</td>\n      <td>0</td>\n      <td>0</td>\n      <td>0</td>\n      <td>...</td>\n      <td>0</td>\n      <td>0</td>\n      <td>0</td>\n      <td>0</td>\n      <td>0</td>\n      <td>0</td>\n      <td>0</td>\n      <td>0</td>\n      <td>0</td>\n      <td>1</td>\n    </tr>\n    <tr>\n      <th>4</th>\n      <td>-0.661055</td>\n      <td>-2.562352</td>\n      <td>4</td>\n      <td>0</td>\n      <td>0</td>\n      <td>0</td>\n      <td>0</td>\n      <td>0</td>\n      <td>0</td>\n      <td>0</td>\n      <td>...</td>\n      <td>0</td>\n      <td>0</td>\n      <td>0</td>\n      <td>0</td>\n      <td>0</td>\n      <td>0</td>\n      <td>0</td>\n      <td>0</td>\n      <td>0</td>\n      <td>1</td>\n    </tr>\n    <tr>\n      <th>...</th>\n      <td>...</td>\n      <td>...</td>\n      <td>...</td>\n      <td>...</td>\n      <td>...</td>\n      <td>...</td>\n      <td>...</td>\n      <td>...</td>\n      <td>...</td>\n      <td>...</td>\n      <td>...</td>\n      <td>...</td>\n      <td>...</td>\n      <td>...</td>\n      <td>...</td>\n      <td>...</td>\n      <td>...</td>\n      <td>...</td>\n      <td>...</td>\n      <td>...</td>\n      <td>...</td>\n    </tr>\n    <tr>\n      <th>1681</th>\n      <td>-0.533442</td>\n      <td>0.945382</td>\n      <td>3</td>\n      <td>0</td>\n      <td>0</td>\n      <td>0</td>\n      <td>0</td>\n      <td>0</td>\n      <td>0</td>\n      <td>0</td>\n      <td>...</td>\n      <td>0</td>\n      <td>0</td>\n      <td>0</td>\n      <td>0</td>\n      <td>0</td>\n      <td>0</td>\n      <td>0</td>\n      <td>0</td>\n      <td>1</td>\n      <td>0</td>\n    </tr>\n    <tr>\n      <th>1682</th>\n      <td>-0.629151</td>\n      <td>0.945382</td>\n      <td>3</td>\n      <td>0</td>\n      <td>1</td>\n      <td>0</td>\n      <td>0</td>\n      <td>0</td>\n      <td>0</td>\n      <td>0</td>\n      <td>...</td>\n      <td>0</td>\n      <td>0</td>\n      <td>0</td>\n      <td>0</td>\n      <td>0</td>\n      <td>0</td>\n      <td>0</td>\n      <td>0</td>\n      <td>1</td>\n      <td>0</td>\n    </tr>\n    <tr>\n      <th>1683</th>\n      <td>-0.597248</td>\n      <td>0.945382</td>\n      <td>3</td>\n      <td>0</td>\n      <td>1</td>\n      <td>0</td>\n      <td>0</td>\n      <td>0</td>\n      <td>0</td>\n      <td>0</td>\n      <td>...</td>\n      <td>0</td>\n      <td>0</td>\n      <td>0</td>\n      <td>0</td>\n      <td>0</td>\n      <td>0</td>\n      <td>0</td>\n      <td>0</td>\n      <td>1</td>\n      <td>0</td>\n    </tr>\n    <tr>\n      <th>1684</th>\n      <td>-0.565345</td>\n      <td>0.945382</td>\n      <td>3</td>\n      <td>0</td>\n      <td>1</td>\n      <td>0</td>\n      <td>0</td>\n      <td>0</td>\n      <td>0</td>\n      <td>0</td>\n      <td>...</td>\n      <td>0</td>\n      <td>0</td>\n      <td>0</td>\n      <td>0</td>\n      <td>0</td>\n      <td>0</td>\n      <td>0</td>\n      <td>0</td>\n      <td>1</td>\n      <td>0</td>\n    </tr>\n    <tr>\n      <th>1685</th>\n      <td>-0.533442</td>\n      <td>0.945382</td>\n      <td>3</td>\n      <td>0</td>\n      <td>1</td>\n      <td>0</td>\n      <td>0</td>\n      <td>0</td>\n      <td>0</td>\n      <td>0</td>\n      <td>...</td>\n      <td>0</td>\n      <td>0</td>\n      <td>0</td>\n      <td>0</td>\n      <td>0</td>\n      <td>0</td>\n      <td>0</td>\n      <td>0</td>\n      <td>1</td>\n      <td>0</td>\n    </tr>\n  </tbody>\n</table>\n<p>1686 rows × 44 columns</p>\n</div>"
     },
     "execution_count": 28,
     "metadata": {},
     "output_type": "execute_result"
    }
   ],
   "source": [
    "scaler = StandardScaler()\n",
    "df[['numTrials', 'hour']] = scaler.fit_transform(df[['numTrials', 'hour']])\n",
    "df\n"
   ]
  },
  {
   "cell_type": "code",
   "execution_count": 29,
   "metadata": {},
   "outputs": [
    {
     "name": "stdout",
     "output_type": "stream",
     "text": [
      "<class 'pandas.core.frame.DataFrame'>\n",
      "RangeIndex: 1686 entries, 0 to 1685\n",
      "Data columns (total 44 columns):\n",
      " #   Column            Non-Null Count  Dtype  \n",
      "---  ------            --------------  -----  \n",
      " 0   numTrials         1686 non-null   float64\n",
      " 1   hour              1686 non-null   float64\n",
      " 2   dayofweek         1686 non-null   int64  \n",
      " 3   uid_user_0        1686 non-null   uint8  \n",
      " 4   uid_user_1        1686 non-null   uint8  \n",
      " 5   uid_user_10       1686 non-null   uint8  \n",
      " 6   uid_user_11       1686 non-null   uint8  \n",
      " 7   uid_user_12       1686 non-null   uint8  \n",
      " 8   uid_user_13       1686 non-null   uint8  \n",
      " 9   uid_user_14       1686 non-null   uint8  \n",
      " 10  uid_user_15       1686 non-null   uint8  \n",
      " 11  uid_user_16       1686 non-null   uint8  \n",
      " 12  uid_user_17       1686 non-null   uint8  \n",
      " 13  uid_user_18       1686 non-null   uint8  \n",
      " 14  uid_user_19       1686 non-null   uint8  \n",
      " 15  uid_user_2        1686 non-null   uint8  \n",
      " 16  uid_user_20       1686 non-null   uint8  \n",
      " 17  uid_user_21       1686 non-null   uint8  \n",
      " 18  uid_user_22       1686 non-null   uint8  \n",
      " 19  uid_user_23       1686 non-null   uint8  \n",
      " 20  uid_user_24       1686 non-null   uint8  \n",
      " 21  uid_user_25       1686 non-null   uint8  \n",
      " 22  uid_user_26       1686 non-null   uint8  \n",
      " 23  uid_user_27       1686 non-null   uint8  \n",
      " 24  uid_user_28       1686 non-null   uint8  \n",
      " 25  uid_user_29       1686 non-null   uint8  \n",
      " 26  uid_user_3        1686 non-null   uint8  \n",
      " 27  uid_user_30       1686 non-null   uint8  \n",
      " 28  uid_user_31       1686 non-null   uint8  \n",
      " 29  uid_user_4        1686 non-null   uint8  \n",
      " 30  uid_user_6        1686 non-null   uint8  \n",
      " 31  uid_user_7        1686 non-null   uint8  \n",
      " 32  uid_user_8        1686 non-null   uint8  \n",
      " 33  labname_code_rvw  1686 non-null   uint8  \n",
      " 34  labname_lab02     1686 non-null   uint8  \n",
      " 35  labname_lab03     1686 non-null   uint8  \n",
      " 36  labname_lab03s    1686 non-null   uint8  \n",
      " 37  labname_lab05s    1686 non-null   uint8  \n",
      " 38  labname_laba04    1686 non-null   uint8  \n",
      " 39  labname_laba04s   1686 non-null   uint8  \n",
      " 40  labname_laba05    1686 non-null   uint8  \n",
      " 41  labname_laba06    1686 non-null   uint8  \n",
      " 42  labname_laba06s   1686 non-null   uint8  \n",
      " 43  labname_project1  1686 non-null   uint8  \n",
      "dtypes: float64(2), int64(1), uint8(41)\n",
      "memory usage: 107.1 KB\n"
     ]
    }
   ],
   "source": [
    "df.info()\n"
   ]
  },
  {
   "cell_type": "code",
   "execution_count": 30,
   "metadata": {},
   "outputs": [],
   "source": [
    "df.to_csv('../data/dayofweek.csv', index=False)"
   ]
  },
  {
   "cell_type": "code",
   "execution_count": 31,
   "metadata": {},
   "outputs": [],
   "source": [
    "X = df.drop('dayofweek', axis=1)\n",
    "y = df['dayofweek']\n",
    "y_pred_naive = np.array([np.argmax(np.bincount(y))] * len(y))"
   ]
  },
  {
   "cell_type": "code",
   "execution_count": 32,
   "metadata": {},
   "outputs": [
    {
     "data": {
      "text/plain": "0.23487544483985764"
     },
     "execution_count": 32,
     "metadata": {},
     "output_type": "execute_result"
    }
   ],
   "source": [
    "accuracy_score(y, y_pred_naive)"
   ]
  },
  {
   "cell_type": "markdown",
   "metadata": {},
   "source": [
    "## 2. Algorithms"
   ]
  },
  {
   "cell_type": "markdown",
   "metadata": {},
   "source": [
    "### a. Logreg"
   ]
  },
  {
   "cell_type": "markdown",
   "metadata": {},
   "source": [
    "1. Train logistic regression, for the baseline model use `random_state=21`, `fit_intercept=False`. \n",
    "2. Calculate the accuracy.\n",
    "3. Write a function that draws the plot (`barh`) taking coefficients of any trained models, names of the features and the number of `top-n` most important features to display.\n",
    "4. Draw a plot (`barh`) for the baseline model with top-10 most important features (absolute value) for the trained model.\n",
    "5. Remember that it is a multiclass classification and `coef_` returns a matrix, to calculate importance for a feature you need to sum all the individual feature importances for all the target values."
   ]
  },
  {
   "cell_type": "code",
   "execution_count": 33,
   "metadata": {},
   "outputs": [
    {
     "data": {
      "text/plain": "0.6405693950177936"
     },
     "execution_count": 33,
     "metadata": {},
     "output_type": "execute_result"
    }
   ],
   "source": [
    "lr = LogisticRegression(random_state=21, fit_intercept=False)\n",
    "lr.fit(X, y)\n",
    "y_pred = lr.predict(X)\n",
    "accuracy_score(y, y_pred)"
   ]
  },
  {
   "cell_type": "code",
   "execution_count": 34,
   "metadata": {},
   "outputs": [],
   "source": [
    "def plot_features(coefs, features, n=10):\n",
    "    fig, ax = plt.subplots(figsize=(15, 8))\n",
    "    coefs /= coefs.sum()\n",
    "    indices = coefs.argsort()[::-1][:n]\n",
    "    ax.barh(np.arange(n), coefs[indices], color='blue')\n",
    "    ax.set_yticks(np.arange(n))\n",
    "    ax.set_yticklabels(features[indices])\n",
    "    ax.invert_yaxis()\n",
    "    plt.show()"
   ]
  },
  {
   "cell_type": "code",
   "execution_count": 35,
   "metadata": {},
   "outputs": [
    {
     "data": {
      "text/plain": "<Figure size 1080x576 with 1 Axes>",
      "image/png": "[encoded data removed]"
     },
     "metadata": {
      "needs_background": "light"
     },
     "output_type": "display_data"
    }
   ],
   "source": [
    "plot_features(lr.coef_.mean(axis=0), X.columns)"
   ]
  },
  {
   "cell_type": "markdown",
   "metadata": {},
   "source": [
    "### b. SVC"
   ]
  },
  {
   "cell_type": "markdown",
   "metadata": {},
   "source": [
    "1. Train a `SVC` model, for the baseline model use parameters `kernel='linear'`, `probability=True`, `random_state=21`. \n",
    "2. Try different kernels, calculate the accuracies.\n",
    "3. Draw a plot (`barh`) for the baseline model with top-10 most important features (absolute value) for the trained model for the linear kernel *\n",
    "\n",
    "*By default SVC uses “one vs one” strategy of the classification, thus in `coef_` it returns a matrix. To calculate importance for a feature you need to use [OneVsRestClassifier](https://scikit-learn.org/stable/modules/generated/sklearn.multiclass.OneVsRestClassifier.html) over the SVC and sum all the individual feature importances for all the target values."
   ]
  },
  {
   "cell_type": "code",
   "execution_count": 36,
   "metadata": {},
   "outputs": [
    {
     "data": {
      "text/plain": "{'kernel': 'poly'}"
     },
     "execution_count": 36,
     "metadata": {},
     "output_type": "execute_result"
    }
   ],
   "source": [
    "svc = SVC(probability=True, random_state=21)\n",
    "param_grid = {'kernel': ['linear', 'poly', 'rbf', 'sigmoid']}\n",
    "gs = GridSearchCV(svc, param_grid, scoring='accuracy')\n",
    "gs.fit(X, y)\n",
    "gs.best_params_"
   ]
  },
  {
   "cell_type": "code",
   "execution_count": 37,
   "metadata": {},
   "outputs": [
    {
     "data": {
      "text/plain": "SVC(kernel='linear', probability=True, random_state=21)"
     },
     "execution_count": 37,
     "metadata": {},
     "output_type": "execute_result"
    }
   ],
   "source": [
    "svc = SVC(kernel='linear', probability=True, random_state=21)\n",
    "svc.fit(X, y)"
   ]
  },
  {
   "cell_type": "code",
   "execution_count": 38,
   "metadata": {},
   "outputs": [
    {
     "data": {
      "text/plain": "<Figure size 1080x576 with 1 Axes>",
      "image/png": "[encoded data removed]"
     },
     "metadata": {
      "needs_background": "light"
     },
     "output_type": "display_data"
    }
   ],
   "source": [
    "plot_features(svc.coef_.mean(axis=0), X.columns)"
   ]
  },
  {
   "cell_type": "markdown",
   "metadata": {},
   "source": [
    "### c. Decision tree"
   ]
  },
  {
   "cell_type": "markdown",
   "metadata": {},
   "source": [
    "1. Train a `DecisionTreeClassifier` using for the baseline model `max_depth=4`, `random_state=21`. \n",
    "2. Try different values of `max_depth`, calculate the accuracies.\n",
    "3. Draw a plot (`barh`) for the baseline model with top-10 most important features (absolute value) for the trained model using the written function."
   ]
  },
  {
   "cell_type": "code",
   "execution_count": 39,
   "metadata": {},
   "outputs": [
    {
     "data": {
      "text/plain": "GridSearchCV(estimator=DecisionTreeClassifier(random_state=21), n_jobs=-1,\n             param_grid={'max_depth': [3, 5, 7, 10]}, scoring='accuracy')"
     },
     "execution_count": 39,
     "metadata": {},
     "output_type": "execute_result"
    }
   ],
   "source": [
    "dtc = DecisionTreeClassifier(random_state=21)\n",
    "param_grid = {'max_depth': [3, 5, 7, 10]}\n",
    "gs = GridSearchCV(dtc, param_grid, scoring='accuracy', n_jobs=-1)\n",
    "gs.fit(X, y)"
   ]
  },
  {
   "cell_type": "code",
   "execution_count": 40,
   "metadata": {},
   "outputs": [
    {
     "data": {
      "text/plain": "{'max_depth': 10}"
     },
     "execution_count": 40,
     "metadata": {},
     "output_type": "execute_result"
    }
   ],
   "source": [
    "gs.best_params_"
   ]
  },
  {
   "cell_type": "code",
   "execution_count": 41,
   "outputs": [
    {
     "data": {
      "text/plain": "0.8196915776986952"
     },
     "execution_count": 41,
     "metadata": {},
     "output_type": "execute_result"
    }
   ],
   "source": [
    "y_pred = gs.predict(X)\n",
    "accuracy_score(y, y_pred)"
   ],
   "metadata": {
    "collapsed": false,
    "pycharm": {
     "name": "#%%\n"
    }
   }
  },
  {
   "cell_type": "code",
   "execution_count": 42,
   "outputs": [
    {
     "data": {
      "text/plain": "<Figure size 1080x576 with 1 Axes>",
      "image/png": "[encoded data removed]"
     },
     "metadata": {
      "needs_background": "light"
     },
     "output_type": "display_data"
    }
   ],
   "source": [
    "plot_features(gs.best_estimator_.feature_importances_, X.columns)"
   ],
   "metadata": {
    "collapsed": false,
    "pycharm": {
     "name": "#%%\n"
    }
   }
  },
  {
   "cell_type": "markdown",
   "metadata": {},
   "source": [
    "### d. Random forest"
   ]
  },
  {
   "cell_type": "markdown",
   "metadata": {},
   "source": [
    "In real life forest is a set of trees. The same thing is with machine learning. Random forest is a set of individual decision trees (check the documentation for more details).\n",
    "\n",
    "1. Train a `RandomForestClassifier` using for the baseline model parameters `n_estimators=100`, `max_depth = 25`, `random_state=21`. \n",
    "2. Try different values of `max_depth` and `n_estimators`, calculate the accuracies.\n",
    "3. Draw a plot (`barh`) for the baseline model with top-10 most important features (absolute value) for the trained model using the written function."
   ]
  },
  {
   "cell_type": "code",
   "execution_count": 43,
   "metadata": {},
   "outputs": [
    {
     "data": {
      "text/plain": "GridSearchCV(estimator=RandomForestClassifier(random_state=21), n_jobs=-1,\n             param_grid={'max_depth': [3, 5, 7, 10],\n                         'n_estimators': [100, 200, 300]},\n             scoring='accuracy')"
     },
     "execution_count": 43,
     "metadata": {},
     "output_type": "execute_result"
    }
   ],
   "source": [
    "rfc = RandomForestClassifier(random_state=21)\n",
    "param_grid = {'n_estimators': [100, 200, 300],\n",
    "              'max_depth': [3, 5, 7, 10]}\n",
    "gs = GridSearchCV(rfc, param_grid, scoring='accuracy', n_jobs=-1)\n",
    "gs.fit(X, y)"
   ]
  },
  {
   "cell_type": "code",
   "execution_count": 44,
   "metadata": {},
   "outputs": [
    {
     "data": {
      "text/plain": "{'max_depth': 10, 'n_estimators': 100}"
     },
     "execution_count": 44,
     "metadata": {},
     "output_type": "execute_result"
    }
   ],
   "source": [
    "gs.best_params_"
   ]
  },
  {
   "cell_type": "code",
   "execution_count": 45,
   "outputs": [
    {
     "data": {
      "text/plain": "<Figure size 1080x576 with 1 Axes>",
      "image/png": "[encoded data removed]"
     },
     "metadata": {
      "needs_background": "light"
     },
     "output_type": "display_data"
    }
   ],
   "source": [
    "plot_features(gs.best_estimator_.feature_importances_, X.columns)"
   ],
   "metadata": {
    "collapsed": false,
    "pycharm": {
     "name": "#%%\n"
    }
   }
  }
 ],
 "metadata": {
  "kernelspec": {
   "display_name": "Python 3",
   "language": "python",
   "name": "python3"
  },
  "language_info": {
   "codemirror_mode": {
    "name": "ipython",
    "version": 3
   },
   "file_extension": ".py",
   "mimetype": "text/x-python",
   "name": "python",
   "nbconvert_exporter": "python",
   "pygments_lexer": "ipython3",
   "version": "3.7.7"
  }
 },
 "nbformat": 4,
 "nbformat_minor": 4
}