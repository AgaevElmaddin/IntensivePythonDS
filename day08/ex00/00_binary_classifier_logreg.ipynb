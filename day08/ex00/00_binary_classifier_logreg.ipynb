{
 "cells": [
  {
   "cell_type": "markdown",
   "metadata": {},
   "source": [
    "# Day 08. Exercise 00\n",
    "# Binary classifier. Logistic regression"
   ]
  },
  {
   "cell_type": "markdown",
   "metadata": {},
   "source": [
    "## 0. Imports"
   ]
  },
  {
   "cell_type": "code",
   "execution_count": 76,
   "metadata": {},
   "outputs": [],
   "source": [
    "import pandas as pd\n",
    "import matplotlib.pyplot as plt\n",
    "from sklearn.linear_model import LogisticRegression\n",
    "from sklearn.metrics import accuracy_score"
   ]
  },
  {
   "cell_type": "markdown",
   "metadata": {},
   "source": [
    "## 1. Preprocessing"
   ]
  },
  {
   "cell_type": "markdown",
   "metadata": {},
   "source": [
    "- Get the data from the file [`checker-timestamp.csv`](https://drive.google.com/file/d/1pooM4cITtG249msX3GK_6W0eEiblzAf5/view?usp=sharing).\n",
    "\n",
    "\n",
    "- Create a dataframe `df` with the columns: `date`, `am`, `pm`, `target`, where `date` is the date of the day, `am` is the number of the commits during the day before midday (integer), `pm` is the number of commits during the day after midday (integer), `target` is weekend/working_day."
   ]
  },
  {
   "cell_type": "code",
   "execution_count": 77,
   "metadata": {},
   "outputs": [
    {
     "data": {
      "text/plain": "                      timestamp\n0    2020-04-17 05:19:02.744528\n1    2020-04-17 05:22:35.249331\n2    2020-04-17 05:22:45.549397\n3    2020-04-17 05:34:14.691200\n4    2020-04-17 05:34:24.422370\n...                         ...\n3202 2020-05-21 20:19:06.872761\n3203 2020-05-21 20:22:41.785725\n3204 2020-05-21 20:22:41.877806\n3205 2020-05-21 20:37:00.129678\n3206 2020-05-21 20:37:00.290491\n\n[3207 rows x 1 columns]",
      "text/html": "<div>\n<style scoped>\n    .dataframe tbody tr th:only-of-type {\n        vertical-align: middle;\n    }\n\n    .dataframe tbody tr th {\n        vertical-align: top;\n    }\n\n    .dataframe thead th {\n        text-align: right;\n    }\n</style>\n<table border=\"1\" class=\"dataframe\">\n  <thead>\n    <tr style=\"text-align: right;\">\n      <th></th>\n      <th>timestamp</th>\n    </tr>\n  </thead>\n  <tbody>\n    <tr>\n      <th>0</th>\n      <td>2020-04-17 05:19:02.744528</td>\n    </tr>\n    <tr>\n      <th>1</th>\n      <td>2020-04-17 05:22:35.249331</td>\n    </tr>\n    <tr>\n      <th>2</th>\n      <td>2020-04-17 05:22:45.549397</td>\n    </tr>\n    <tr>\n      <th>3</th>\n      <td>2020-04-17 05:34:14.691200</td>\n    </tr>\n    <tr>\n      <th>4</th>\n      <td>2020-04-17 05:34:24.422370</td>\n    </tr>\n    <tr>\n      <th>...</th>\n      <td>...</td>\n    </tr>\n    <tr>\n      <th>3202</th>\n      <td>2020-05-21 20:19:06.872761</td>\n    </tr>\n    <tr>\n      <th>3203</th>\n      <td>2020-05-21 20:22:41.785725</td>\n    </tr>\n    <tr>\n      <th>3204</th>\n      <td>2020-05-21 20:22:41.877806</td>\n    </tr>\n    <tr>\n      <th>3205</th>\n      <td>2020-05-21 20:37:00.129678</td>\n    </tr>\n    <tr>\n      <th>3206</th>\n      <td>2020-05-21 20:37:00.290491</td>\n    </tr>\n  </tbody>\n</table>\n<p>3207 rows × 1 columns</p>\n</div>"
     },
     "execution_count": 77,
     "metadata": {},
     "output_type": "execute_result"
    }
   ],
   "source": [
    "df = pd.read_csv('../data/checker_timestamp.csv', parse_dates=['timestamp'])\n",
    "df"
   ]
  },
  {
   "cell_type": "code",
   "execution_count": 78,
   "metadata": {},
   "outputs": [
    {
     "name": "stdout",
     "output_type": "stream",
     "text": [
      "<class 'pandas.core.frame.DataFrame'>\n",
      "RangeIndex: 3207 entries, 0 to 3206\n",
      "Data columns (total 1 columns):\n",
      " #   Column     Non-Null Count  Dtype         \n",
      "---  ------     --------------  -----         \n",
      " 0   timestamp  3207 non-null   datetime64[ns]\n",
      "dtypes: datetime64[ns](1)\n",
      "memory usage: 25.2 KB\n"
     ]
    }
   ],
   "source": [
    "df.info()"
   ]
  },
  {
   "cell_type": "code",
   "execution_count": 79,
   "metadata": {},
   "outputs": [
    {
     "data": {
      "text/plain": "                      timestamp        date  am  pm       target\n0    2020-04-17 05:19:02.744528  2020-04-17   1   0  working_day\n1    2020-04-17 05:22:35.249331  2020-04-17   1   0  working_day\n2    2020-04-17 05:22:45.549397  2020-04-17   1   0  working_day\n3    2020-04-17 05:34:14.691200  2020-04-17   1   0  working_day\n4    2020-04-17 05:34:24.422370  2020-04-17   1   0  working_day\n...                         ...         ...  ..  ..          ...\n3202 2020-05-21 20:19:06.872761  2020-05-21   0   1  working_day\n3203 2020-05-21 20:22:41.785725  2020-05-21   0   1  working_day\n3204 2020-05-21 20:22:41.877806  2020-05-21   0   1  working_day\n3205 2020-05-21 20:37:00.129678  2020-05-21   0   1  working_day\n3206 2020-05-21 20:37:00.290491  2020-05-21   0   1  working_day\n\n[3207 rows x 5 columns]",
      "text/html": "<div>\n<style scoped>\n    .dataframe tbody tr th:only-of-type {\n        vertical-align: middle;\n    }\n\n    .dataframe tbody tr th {\n        vertical-align: top;\n    }\n\n    .dataframe thead th {\n        text-align: right;\n    }\n</style>\n<table border=\"1\" class=\"dataframe\">\n  <thead>\n    <tr style=\"text-align: right;\">\n      <th></th>\n      <th>timestamp</th>\n      <th>date</th>\n      <th>am</th>\n      <th>pm</th>\n      <th>target</th>\n    </tr>\n  </thead>\n  <tbody>\n    <tr>\n      <th>0</th>\n      <td>2020-04-17 05:19:02.744528</td>\n      <td>2020-04-17</td>\n      <td>1</td>\n      <td>0</td>\n      <td>working_day</td>\n    </tr>\n    <tr>\n      <th>1</th>\n      <td>2020-04-17 05:22:35.249331</td>\n      <td>2020-04-17</td>\n      <td>1</td>\n      <td>0</td>\n      <td>working_day</td>\n    </tr>\n    <tr>\n      <th>2</th>\n      <td>2020-04-17 05:22:45.549397</td>\n      <td>2020-04-17</td>\n      <td>1</td>\n      <td>0</td>\n      <td>working_day</td>\n    </tr>\n    <tr>\n      <th>3</th>\n      <td>2020-04-17 05:34:14.691200</td>\n      <td>2020-04-17</td>\n      <td>1</td>\n      <td>0</td>\n      <td>working_day</td>\n    </tr>\n    <tr>\n      <th>4</th>\n      <td>2020-04-17 05:34:24.422370</td>\n      <td>2020-04-17</td>\n      <td>1</td>\n      <td>0</td>\n      <td>working_day</td>\n    </tr>\n    <tr>\n      <th>...</th>\n      <td>...</td>\n      <td>...</td>\n      <td>...</td>\n      <td>...</td>\n      <td>...</td>\n    </tr>\n    <tr>\n      <th>3202</th>\n      <td>2020-05-21 20:19:06.872761</td>\n      <td>2020-05-21</td>\n      <td>0</td>\n      <td>1</td>\n      <td>working_day</td>\n    </tr>\n    <tr>\n      <th>3203</th>\n      <td>2020-05-21 20:22:41.785725</td>\n      <td>2020-05-21</td>\n      <td>0</td>\n      <td>1</td>\n      <td>working_day</td>\n    </tr>\n    <tr>\n      <th>3204</th>\n      <td>2020-05-21 20:22:41.877806</td>\n      <td>2020-05-21</td>\n      <td>0</td>\n      <td>1</td>\n      <td>working_day</td>\n    </tr>\n    <tr>\n      <th>3205</th>\n      <td>2020-05-21 20:37:00.129678</td>\n      <td>2020-05-21</td>\n      <td>0</td>\n      <td>1</td>\n      <td>working_day</td>\n    </tr>\n    <tr>\n      <th>3206</th>\n      <td>2020-05-21 20:37:00.290491</td>\n      <td>2020-05-21</td>\n      <td>0</td>\n      <td>1</td>\n      <td>working_day</td>\n    </tr>\n  </tbody>\n</table>\n<p>3207 rows × 5 columns</p>\n</div>"
     },
     "execution_count": 79,
     "metadata": {},
     "output_type": "execute_result"
    }
   ],
   "source": [
    "df['date'] = df['timestamp'].dt.date\n",
    "df['am'] = df['timestamp'].dt.hour.apply(lambda x: 1 if x < 12 else 0)\n",
    "df['pm'] = df['timestamp'].dt.hour.apply(lambda x: 1 if x >= 12 else 0)\n",
    "df['target'] = df['timestamp'].dt.dayofweek.apply(lambda x: 'working_day' if x < 5 else 'weekend')\n",
    "df"
   ]
  },
  {
   "cell_type": "code",
   "execution_count": 80,
   "metadata": {},
   "outputs": [
    {
     "name": "stdout",
     "output_type": "stream",
     "text": [
      "<class 'pandas.core.frame.DataFrame'>\n",
      "RangeIndex: 3207 entries, 0 to 3206\n",
      "Data columns (total 5 columns):\n",
      " #   Column     Non-Null Count  Dtype         \n",
      "---  ------     --------------  -----         \n",
      " 0   timestamp  3207 non-null   datetime64[ns]\n",
      " 1   date       3207 non-null   object        \n",
      " 2   am         3207 non-null   int64         \n",
      " 3   pm         3207 non-null   int64         \n",
      " 4   target     3207 non-null   object        \n",
      "dtypes: datetime64[ns](1), int64(2), object(2)\n",
      "memory usage: 125.4+ KB\n"
     ]
    }
   ],
   "source": [
    "df.info()"
   ]
  },
  {
   "cell_type": "code",
   "execution_count": 81,
   "metadata": {},
   "outputs": [
    {
     "data": {
      "text/plain": "            am   pm       target\ndate                            \n2020-04-17  21    2  working_day\n2020-04-18   1   68      weekend\n2020-04-19  18   15      weekend\n2020-04-20   2   23  working_day\n2020-04-21   0   25  working_day\n2020-04-22   0   28  working_day\n2020-04-23  10   33  working_day\n2020-04-24   2   14  working_day\n2020-04-25  30   74      weekend\n2020-04-26  28  233      weekend\n2020-04-27   4    2  working_day\n2020-04-28   4    1  working_day\n2020-04-29   0   17  working_day\n2020-04-30  13   40  working_day\n2020-05-01   8   52  working_day\n2020-05-02  91  151      weekend\n2020-05-03  47  133      weekend\n2020-05-04  11   26  working_day\n2020-05-05  81   58  working_day\n2020-05-06   2    0  working_day\n2020-05-07  14   38  working_day\n2020-05-08   3   84  working_day\n2020-05-09   0   86      weekend\n2020-05-10  10  133      weekend\n2020-05-11   3  183  working_day\n2020-05-12  56  267  working_day\n2020-05-13   6  205  working_day\n2020-05-14  66  509  working_day\n2020-05-15  10    0  working_day\n2020-05-16   0    4      weekend\n2020-05-17   2   46      weekend\n2020-05-18   0    3  working_day\n2020-05-19  20   14  working_day\n2020-05-20   7   21  working_day\n2020-05-21   1   48  working_day",
      "text/html": "<div>\n<style scoped>\n    .dataframe tbody tr th:only-of-type {\n        vertical-align: middle;\n    }\n\n    .dataframe tbody tr th {\n        vertical-align: top;\n    }\n\n    .dataframe thead th {\n        text-align: right;\n    }\n</style>\n<table border=\"1\" class=\"dataframe\">\n  <thead>\n    <tr style=\"text-align: right;\">\n      <th></th>\n      <th>am</th>\n      <th>pm</th>\n      <th>target</th>\n    </tr>\n    <tr>\n      <th>date</th>\n      <th></th>\n      <th></th>\n      <th></th>\n    </tr>\n  </thead>\n  <tbody>\n    <tr>\n      <th>2020-04-17</th>\n      <td>21</td>\n      <td>2</td>\n      <td>working_day</td>\n    </tr>\n    <tr>\n      <th>2020-04-18</th>\n      <td>1</td>\n      <td>68</td>\n      <td>weekend</td>\n    </tr>\n    <tr>\n      <th>2020-04-19</th>\n      <td>18</td>\n      <td>15</td>\n      <td>weekend</td>\n    </tr>\n    <tr>\n      <th>2020-04-20</th>\n      <td>2</td>\n      <td>23</td>\n      <td>working_day</td>\n    </tr>\n    <tr>\n      <th>2020-04-21</th>\n      <td>0</td>\n      <td>25</td>\n      <td>working_day</td>\n    </tr>\n    <tr>\n      <th>2020-04-22</th>\n      <td>0</td>\n      <td>28</td>\n      <td>working_day</td>\n    </tr>\n    <tr>\n      <th>2020-04-23</th>\n      <td>10</td>\n      <td>33</td>\n      <td>working_day</td>\n    </tr>\n    <tr>\n      <th>2020-04-24</th>\n      <td>2</td>\n      <td>14</td>\n      <td>working_day</td>\n    </tr>\n    <tr>\n      <th>2020-04-25</th>\n      <td>30</td>\n      <td>74</td>\n      <td>weekend</td>\n    </tr>\n    <tr>\n      <th>2020-04-26</th>\n      <td>28</td>\n      <td>233</td>\n      <td>weekend</td>\n    </tr>\n    <tr>\n      <th>2020-04-27</th>\n      <td>4</td>\n      <td>2</td>\n      <td>working_day</td>\n    </tr>\n    <tr>\n      <th>2020-04-28</th>\n      <td>4</td>\n      <td>1</td>\n      <td>working_day</td>\n    </tr>\n    <tr>\n      <th>2020-04-29</th>\n      <td>0</td>\n      <td>17</td>\n      <td>working_day</td>\n    </tr>\n    <tr>\n      <th>2020-04-30</th>\n      <td>13</td>\n      <td>40</td>\n      <td>working_day</td>\n    </tr>\n    <tr>\n      <th>2020-05-01</th>\n      <td>8</td>\n      <td>52</td>\n      <td>working_day</td>\n    </tr>\n    <tr>\n      <th>2020-05-02</th>\n      <td>91</td>\n      <td>151</td>\n      <td>weekend</td>\n    </tr>\n    <tr>\n      <th>2020-05-03</th>\n      <td>47</td>\n      <td>133</td>\n      <td>weekend</td>\n    </tr>\n    <tr>\n      <th>2020-05-04</th>\n      <td>11</td>\n      <td>26</td>\n      <td>working_day</td>\n    </tr>\n    <tr>\n      <th>2020-05-05</th>\n      <td>81</td>\n      <td>58</td>\n      <td>working_day</td>\n    </tr>\n    <tr>\n      <th>2020-05-06</th>\n      <td>2</td>\n      <td>0</td>\n      <td>working_day</td>\n    </tr>\n    <tr>\n      <th>2020-05-07</th>\n      <td>14</td>\n      <td>38</td>\n      <td>working_day</td>\n    </tr>\n    <tr>\n      <th>2020-05-08</th>\n      <td>3</td>\n      <td>84</td>\n      <td>working_day</td>\n    </tr>\n    <tr>\n      <th>2020-05-09</th>\n      <td>0</td>\n      <td>86</td>\n      <td>weekend</td>\n    </tr>\n    <tr>\n      <th>2020-05-10</th>\n      <td>10</td>\n      <td>133</td>\n      <td>weekend</td>\n    </tr>\n    <tr>\n      <th>2020-05-11</th>\n      <td>3</td>\n      <td>183</td>\n      <td>working_day</td>\n    </tr>\n    <tr>\n      <th>2020-05-12</th>\n      <td>56</td>\n      <td>267</td>\n      <td>working_day</td>\n    </tr>\n    <tr>\n      <th>2020-05-13</th>\n      <td>6</td>\n      <td>205</td>\n      <td>working_day</td>\n    </tr>\n    <tr>\n      <th>2020-05-14</th>\n      <td>66</td>\n      <td>509</td>\n      <td>working_day</td>\n    </tr>\n    <tr>\n      <th>2020-05-15</th>\n      <td>10</td>\n      <td>0</td>\n      <td>working_day</td>\n    </tr>\n    <tr>\n      <th>2020-05-16</th>\n      <td>0</td>\n      <td>4</td>\n      <td>weekend</td>\n    </tr>\n    <tr>\n      <th>2020-05-17</th>\n      <td>2</td>\n      <td>46</td>\n      <td>weekend</td>\n    </tr>\n    <tr>\n      <th>2020-05-18</th>\n      <td>0</td>\n      <td>3</td>\n      <td>working_day</td>\n    </tr>\n    <tr>\n      <th>2020-05-19</th>\n      <td>20</td>\n      <td>14</td>\n      <td>working_day</td>\n    </tr>\n    <tr>\n      <th>2020-05-20</th>\n      <td>7</td>\n      <td>21</td>\n      <td>working_day</td>\n    </tr>\n    <tr>\n      <th>2020-05-21</th>\n      <td>1</td>\n      <td>48</td>\n      <td>working_day</td>\n    </tr>\n  </tbody>\n</table>\n</div>"
     },
     "execution_count": 81,
     "metadata": {},
     "output_type": "execute_result"
    }
   ],
   "source": [
    "df = df.groupby(by=['date']).agg({'am' : sum, 'pm' : sum, 'target' : 'last'})\n",
    "df"
   ]
  },
  {
   "cell_type": "code",
   "execution_count": 82,
   "outputs": [
    {
     "name": "stdout",
     "output_type": "stream",
     "text": [
      "<class 'pandas.core.frame.DataFrame'>\n",
      "Index: 35 entries, 2020-04-17 to 2020-05-21\n",
      "Data columns (total 3 columns):\n",
      " #   Column  Non-Null Count  Dtype \n",
      "---  ------  --------------  ----- \n",
      " 0   am      35 non-null     int64 \n",
      " 1   pm      35 non-null     int64 \n",
      " 2   target  35 non-null     object\n",
      "dtypes: int64(2), object(1)\n",
      "memory usage: 1.1+ KB\n"
     ]
    }
   ],
   "source": [
    "df.info()"
   ],
   "metadata": {
    "collapsed": false,
    "pycharm": {
     "name": "#%%\n"
    }
   }
  },
  {
   "cell_type": "markdown",
   "metadata": {},
   "source": [
    "## 2. Exploratory analysis"
   ]
  },
  {
   "cell_type": "markdown",
   "metadata": {},
   "source": [
    "- Create a plot where `x` is am, `y` is pm, each dot is a day, working days and weekends must have different colors.\n",
    "\n",
    "\n",
    "- By looking at the graph do you think it will be easy to classify the days having those two features? Put your answer in the markdown cell in the end of that sectioin: \"yes, it is easy\" or \"no, it is not easy\"."
   ]
  },
  {
   "cell_type": "code",
   "execution_count": 83,
   "metadata": {},
   "outputs": [
    {
     "data": {
      "text/plain": "<Figure size 1080x576 with 1 Axes>",
      "image/png": "[encoded data removed]"
     },
     "metadata": {
      "needs_background": "light"
     },
     "output_type": "display_data"
    }
   ],
   "source": [
    "# c - a column name or position whose values will be used to color the marker points according to a colormap (cmap)\n",
    "fig, axes = plt.subplots(figsize=(15, 8))\n",
    "scatter = axes.scatter(x=df['am'], y=df['pm'], cmap='viridis', c=[0 if i == 'working_day' else 1 for i in df['target']])\n",
    "handles, labels = scatter.legend_elements(prop='colors')\n",
    "labels = ['working_day', 'weekend']\n",
    "axes.legend(handles, labels)\n",
    "axes.set_title('Commits')\n",
    "axes.set_xlabel('am')\n",
    "axes.set_ylabel('pm')\n",
    "plt.show()"
   ]
  },
  {
   "cell_type": "markdown",
   "metadata": {},
   "source": [
    "No, it's not easy"
   ]
  },
  {
   "cell_type": "markdown",
   "metadata": {},
   "source": [
    "## 3. Logistic regression"
   ]
  },
  {
   "cell_type": "markdown",
   "metadata": {},
   "source": [
    "- Train logistic regression on your data using `am` and `pm`, parameters are: `random state=21`, `fit_intercept=False`.\n",
    "\n",
    "\n",
    "- Make predictions for every day of your dataset and add them to your dataframe with the column name `predict`.\n",
    "\n",
    "\n",
    "- Save the dataframe into a file in the subfolder of the day `data` with the name `am_pm.csv`.\n",
    "\n",
    "\n",
    "- Draw another plot like you did before, but the color should be taken from the `predict`.\n",
    "\n",
    "\n",
    "- By looking at the graph do you think if it made good predictions? Put your answer in the markdown cell in the end of that section: \"yes, it is good\"; \"no, it is not good\"."
   ]
  },
  {
   "cell_type": "code",
   "execution_count": 84,
   "metadata": {},
   "outputs": [],
   "source": [
    "x = df[['am', 'pm']].values\n",
    "y = df['target'].values"
   ]
  },
  {
   "cell_type": "code",
   "execution_count": 85,
   "metadata": {},
   "outputs": [
    {
     "data": {
      "text/plain": "LogisticRegression(fit_intercept=False, random_state=21)"
     },
     "execution_count": 85,
     "metadata": {},
     "output_type": "execute_result"
    }
   ],
   "source": [
    "LogReg = LogisticRegression(random_state=21, fit_intercept=False)\n",
    "LogReg.fit(x, y)"
   ]
  },
  {
   "cell_type": "code",
   "execution_count": 86,
   "metadata": {},
   "outputs": [
    {
     "data": {
      "text/plain": "            am   pm       target      predict\ndate                                         \n2020-04-17  21    2  working_day      weekend\n2020-04-18   1   68      weekend  working_day\n2020-04-19  18   15      weekend  working_day\n2020-04-20   2   23  working_day  working_day\n2020-04-21   0   25  working_day  working_day\n2020-04-22   0   28  working_day  working_day\n2020-04-23  10   33  working_day  working_day\n2020-04-24   2   14  working_day  working_day\n2020-04-25  30   74      weekend  working_day\n2020-04-26  28  233      weekend  working_day\n2020-04-27   4    2  working_day  working_day\n2020-04-28   4    1  working_day  working_day\n2020-04-29   0   17  working_day  working_day\n2020-04-30  13   40  working_day  working_day\n2020-05-01   8   52  working_day  working_day\n2020-05-02  91  151      weekend  working_day\n2020-05-03  47  133      weekend  working_day\n2020-05-04  11   26  working_day  working_day\n2020-05-05  81   58  working_day  working_day\n2020-05-06   2    0  working_day      weekend\n2020-05-07  14   38  working_day  working_day\n2020-05-08   3   84  working_day  working_day\n2020-05-09   0   86      weekend  working_day\n2020-05-10  10  133      weekend  working_day\n2020-05-11   3  183  working_day  working_day\n2020-05-12  56  267  working_day  working_day\n2020-05-13   6  205  working_day  working_day\n2020-05-14  66  509  working_day  working_day\n2020-05-15  10    0  working_day      weekend\n2020-05-16   0    4      weekend  working_day\n2020-05-17   2   46      weekend  working_day\n2020-05-18   0    3  working_day  working_day\n2020-05-19  20   14  working_day  working_day\n2020-05-20   7   21  working_day  working_day\n2020-05-21   1   48  working_day  working_day",
      "text/html": "<div>\n<style scoped>\n    .dataframe tbody tr th:only-of-type {\n        vertical-align: middle;\n    }\n\n    .dataframe tbody tr th {\n        vertical-align: top;\n    }\n\n    .dataframe thead th {\n        text-align: right;\n    }\n</style>\n<table border=\"1\" class=\"dataframe\">\n  <thead>\n    <tr style=\"text-align: right;\">\n      <th></th>\n      <th>am</th>\n      <th>pm</th>\n      <th>target</th>\n      <th>predict</th>\n    </tr>\n    <tr>\n      <th>date</th>\n      <th></th>\n      <th></th>\n      <th></th>\n      <th></th>\n    </tr>\n  </thead>\n  <tbody>\n    <tr>\n      <th>2020-04-17</th>\n      <td>21</td>\n      <td>2</td>\n      <td>working_day</td>\n      <td>weekend</td>\n    </tr>\n    <tr>\n      <th>2020-04-18</th>\n      <td>1</td>\n      <td>68</td>\n      <td>weekend</td>\n      <td>working_day</td>\n    </tr>\n    <tr>\n      <th>2020-04-19</th>\n      <td>18</td>\n      <td>15</td>\n      <td>weekend</td>\n      <td>working_day</td>\n    </tr>\n    <tr>\n      <th>2020-04-20</th>\n      <td>2</td>\n      <td>23</td>\n      <td>working_day</td>\n      <td>working_day</td>\n    </tr>\n    <tr>\n      <th>2020-04-21</th>\n      <td>0</td>\n      <td>25</td>\n      <td>working_day</td>\n      <td>working_day</td>\n    </tr>\n    <tr>\n      <th>2020-04-22</th>\n      <td>0</td>\n      <td>28</td>\n      <td>working_day</td>\n      <td>working_day</td>\n    </tr>\n    <tr>\n      <th>2020-04-23</th>\n      <td>10</td>\n      <td>33</td>\n      <td>working_day</td>\n      <td>working_day</td>\n    </tr>\n    <tr>\n      <th>2020-04-24</th>\n      <td>2</td>\n      <td>14</td>\n      <td>working_day</td>\n      <td>working_day</td>\n    </tr>\n    <tr>\n      <th>2020-04-25</th>\n      <td>30</td>\n      <td>74</td>\n      <td>weekend</td>\n      <td>working_day</td>\n    </tr>\n    <tr>\n      <th>2020-04-26</th>\n      <td>28</td>\n      <td>233</td>\n      <td>weekend</td>\n      <td>working_day</td>\n    </tr>\n    <tr>\n      <th>2020-04-27</th>\n      <td>4</td>\n      <td>2</td>\n      <td>working_day</td>\n      <td>working_day</td>\n    </tr>\n    <tr>\n      <th>2020-04-28</th>\n      <td>4</td>\n      <td>1</td>\n      <td>working_day</td>\n      <td>working_day</td>\n    </tr>\n    <tr>\n      <th>2020-04-29</th>\n      <td>0</td>\n      <td>17</td>\n      <td>working_day</td>\n      <td>working_day</td>\n    </tr>\n    <tr>\n      <th>2020-04-30</th>\n      <td>13</td>\n      <td>40</td>\n      <td>working_day</td>\n      <td>working_day</td>\n    </tr>\n    <tr>\n      <th>2020-05-01</th>\n      <td>8</td>\n      <td>52</td>\n      <td>working_day</td>\n      <td>working_day</td>\n    </tr>\n    <tr>\n      <th>2020-05-02</th>\n      <td>91</td>\n      <td>151</td>\n      <td>weekend</td>\n      <td>working_day</td>\n    </tr>\n    <tr>\n      <th>2020-05-03</th>\n      <td>47</td>\n      <td>133</td>\n      <td>weekend</td>\n      <td>working_day</td>\n    </tr>\n    <tr>\n      <th>2020-05-04</th>\n      <td>11</td>\n      <td>26</td>\n      <td>working_day</td>\n      <td>working_day</td>\n    </tr>\n    <tr>\n      <th>2020-05-05</th>\n      <td>81</td>\n      <td>58</td>\n      <td>working_day</td>\n      <td>working_day</td>\n    </tr>\n    <tr>\n      <th>2020-05-06</th>\n      <td>2</td>\n      <td>0</td>\n      <td>working_day</td>\n      <td>weekend</td>\n    </tr>\n    <tr>\n      <th>2020-05-07</th>\n      <td>14</td>\n      <td>38</td>\n      <td>working_day</td>\n      <td>working_day</td>\n    </tr>\n    <tr>\n      <th>2020-05-08</th>\n      <td>3</td>\n      <td>84</td>\n      <td>working_day</td>\n      <td>working_day</td>\n    </tr>\n    <tr>\n      <th>2020-05-09</th>\n      <td>0</td>\n      <td>86</td>\n      <td>weekend</td>\n      <td>working_day</td>\n    </tr>\n    <tr>\n      <th>2020-05-10</th>\n      <td>10</td>\n      <td>133</td>\n      <td>weekend</td>\n      <td>working_day</td>\n    </tr>\n    <tr>\n      <th>2020-05-11</th>\n      <td>3</td>\n      <td>183</td>\n      <td>working_day</td>\n      <td>working_day</td>\n    </tr>\n    <tr>\n      <th>2020-05-12</th>\n      <td>56</td>\n      <td>267</td>\n      <td>working_day</td>\n      <td>working_day</td>\n    </tr>\n    <tr>\n      <th>2020-05-13</th>\n      <td>6</td>\n      <td>205</td>\n      <td>working_day</td>\n      <td>working_day</td>\n    </tr>\n    <tr>\n      <th>2020-05-14</th>\n      <td>66</td>\n      <td>509</td>\n      <td>working_day</td>\n      <td>working_day</td>\n    </tr>\n    <tr>\n      <th>2020-05-15</th>\n      <td>10</td>\n      <td>0</td>\n      <td>working_day</td>\n      <td>weekend</td>\n    </tr>\n    <tr>\n      <th>2020-05-16</th>\n      <td>0</td>\n      <td>4</td>\n      <td>weekend</td>\n      <td>working_day</td>\n    </tr>\n    <tr>\n      <th>2020-05-17</th>\n      <td>2</td>\n      <td>46</td>\n      <td>weekend</td>\n      <td>working_day</td>\n    </tr>\n    <tr>\n      <th>2020-05-18</th>\n      <td>0</td>\n      <td>3</td>\n      <td>working_day</td>\n      <td>working_day</td>\n    </tr>\n    <tr>\n      <th>2020-05-19</th>\n      <td>20</td>\n      <td>14</td>\n      <td>working_day</td>\n      <td>working_day</td>\n    </tr>\n    <tr>\n      <th>2020-05-20</th>\n      <td>7</td>\n      <td>21</td>\n      <td>working_day</td>\n      <td>working_day</td>\n    </tr>\n    <tr>\n      <th>2020-05-21</th>\n      <td>1</td>\n      <td>48</td>\n      <td>working_day</td>\n      <td>working_day</td>\n    </tr>\n  </tbody>\n</table>\n</div>"
     },
     "execution_count": 86,
     "metadata": {},
     "output_type": "execute_result"
    }
   ],
   "source": [
    "y_predict = LogReg.predict(x)\n",
    "df['predict'] = y_predict\n",
    "df"
   ]
  },
  {
   "cell_type": "code",
   "execution_count": 87,
   "metadata": {},
   "outputs": [],
   "source": [
    "df.to_csv('../data/am_pm.csv')"
   ]
  },
  {
   "cell_type": "code",
   "execution_count": 88,
   "metadata": {},
   "outputs": [
    {
     "data": {
      "text/plain": "<Figure size 1080x576 with 1 Axes>",
      "image/png": "[encoded data removed]"
     },
     "metadata": {
      "needs_background": "light"
     },
     "output_type": "display_data"
    }
   ],
   "source": [
    "fig, axes = plt.subplots(figsize=(15, 8))\n",
    "scatter = axes.scatter(x=df['am'], y=df['pm'], cmap='viridis', c=[0 if i == 'working_day' else 1 for i in df['predict']])\n",
    "handles, labels = scatter.legend_elements(prop='colors')\n",
    "labels = ['working_day', 'weekend']\n",
    "axes.legend(handles, labels)\n",
    "axes.set_title('Commits predict')\n",
    "axes.set_xlabel('am')\n",
    "axes.set_ylabel('pm')\n",
    "plt.show()"
   ]
  },
  {
   "cell_type": "markdown",
   "metadata": {},
   "source": [
    "No, it's not good"
   ]
  },
  {
   "cell_type": "markdown",
   "metadata": {},
   "source": [
    "## 4. Evaluation"
   ]
  },
  {
   "cell_type": "markdown",
   "metadata": {},
   "source": [
    "- Calculate `accuracy` for your predictions.\n",
    "\n",
    "\n",
    "- Calculate `accuracy` for the naive case when each of your prediction is the value of your most popular class of the day.\n",
    "\n",
    "\n",
    "- Comparing the accuracies do you think that the classifier made good predictions? Put your answer in the markdown cell in the end of the secion: \"yes, it is good\"; \"no, it is not good\"."
   ]
  },
  {
   "cell_type": "code",
   "execution_count": 96,
   "metadata": {},
   "outputs": [
    {
     "data": {
      "text/plain": "0.6285714285714286"
     },
     "execution_count": 96,
     "metadata": {},
     "output_type": "execute_result"
    }
   ],
   "source": [
    "accuracy_score(y, y_predict)"
   ]
  },
  {
   "cell_type": "code",
   "execution_count": 98,
   "metadata": {},
   "outputs": [
    {
     "data": {
      "text/plain": "0.7142857142857143"
     },
     "execution_count": 98,
     "metadata": {},
     "output_type": "execute_result"
    }
   ],
   "source": [
    "accuracy_score(y, [df['target'].max()] * len(y))"
   ]
  },
  {
   "cell_type": "markdown",
   "source": [
    "No, it's not good"
   ],
   "metadata": {
    "collapsed": false,
    "pycharm": {
     "name": "#%% md\n"
    }
   }
  },
  {
   "cell_type": "markdown",
   "metadata": {},
   "source": []
  }
 ],
 "metadata": {
  "kernelspec": {
   "display_name": "Python 3",
   "language": "python",
   "name": "python3"
  },
  "language_info": {
   "codemirror_mode": {
    "name": "ipython",
    "version": 3
   },
   "file_extension": ".py",
   "mimetype": "text/x-python",
   "name": "python",
   "nbconvert_exporter": "python",
   "pygments_lexer": "ipython3",
   "version": "3.7.7"
  }
 },
 "nbformat": 4,
 "nbformat_minor": 4
}