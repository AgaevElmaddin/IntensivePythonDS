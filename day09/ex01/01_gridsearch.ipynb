{
 "nbformat": 4,
 "nbformat_minor": 0,
 "metadata": {
  "kernelspec": {
   "display_name": "Python 3",
   "language": "python",
   "name": "python3"
  },
  "language_info": {
   "codemirror_mode": {
    "name": "ipython",
    "version": 3
   },
   "file_extension": ".py",
   "mimetype": "text/x-python",
   "name": "python",
   "nbconvert_exporter": "python",
   "pygments_lexer": "ipython3",
   "version": "3.7.7"
  },
  "colab": {
   "name": "01_gridsearch.ipynb",
   "provenance": []
  }
 },
 "cells": [
  {
   "cell_type": "markdown",
   "metadata": {
    "id": "gJm_8nRDyUp7"
   },
   "source": [
    "# Day 09. Exercise 01\n",
    "# Gridsearch"
   ]
  },
  {
   "cell_type": "markdown",
   "metadata": {
    "id": "OLB1I9UiyUp-"
   },
   "source": [
    "## 0. Imports"
   ]
  },
  {
   "cell_type": "code",
   "metadata": {
    "id": "rjrDzFRzyUp_"
   },
   "source": [
    "import pandas as pd\n",
    "import numpy as np\n",
    "from tqdm.notebook import tqdm\n",
    "from sklearn.svm import SVC\n",
    "from sklearn.tree import DecisionTreeClassifier\n",
    "from sklearn.ensemble import RandomForestClassifier\n",
    "from sklearn.model_selection import ParameterGrid, GridSearchCV\n",
    "from sklearn.model_selection import train_test_split, cross_val_score"
   ],
   "execution_count": 5,
   "outputs": []
  },
  {
   "cell_type": "markdown",
   "metadata": {
    "id": "F8zodjDJyUqA"
   },
   "source": [
    "## 1. Preprocessing"
   ]
  },
  {
   "cell_type": "markdown",
   "metadata": {
    "id": "PWR10A1TyUqA"
   },
   "source": [
    "1. Read the file [`day-of-week-not-scaled.csv`](https://drive.google.com/file/d/1AlGvsJDSzPT_70caausx8bFuupIEZkfh/view?usp=sharing). It is similar to the one from the previous exercise, but this time we did not scale continuous features (we are not going to use logreg anymore).\n",
    "2. Using `train_test_split` with parameters `test_size=0.2`, `random_state=21` get `X_train`, `y_train`, `X_test`, `y_test`. Use the additional parameter `stratify`."
   ]
  },
  {
   "cell_type": "code",
   "metadata": {
    "id": "c8RWKHJbyUqA"
   },
   "source": [
    "df = pd.read_csv('../data/day-of-week-not-scaled.csv')\n",
    "df\n"
   ],
   "execution_count": 7,
   "outputs": [
    {
     "data": {
      "text/plain": "      numTrials  hour  uid_user_0  uid_user_1  uid_user_10  uid_user_11  \\\n0             1     5         0.0         0.0          0.0          0.0   \n1             2     5         0.0         0.0          0.0          0.0   \n2             3     5         0.0         0.0          0.0          0.0   \n3             4     5         0.0         0.0          0.0          0.0   \n4             5     5         0.0         0.0          0.0          0.0   \n...         ...   ...         ...         ...          ...          ...   \n1681          9    20         0.0         0.0          0.0          0.0   \n1682          6    20         0.0         1.0          0.0          0.0   \n1683          7    20         0.0         1.0          0.0          0.0   \n1684          8    20         0.0         1.0          0.0          0.0   \n1685          9    20         0.0         1.0          0.0          0.0   \n\n      uid_user_12  uid_user_13  uid_user_14  uid_user_15  ...  labname_lab02  \\\n0             0.0          0.0          0.0          0.0  ...            0.0   \n1             0.0          0.0          0.0          0.0  ...            0.0   \n2             0.0          0.0          0.0          0.0  ...            0.0   \n3             0.0          0.0          0.0          0.0  ...            0.0   \n4             0.0          0.0          0.0          0.0  ...            0.0   \n...           ...          ...          ...          ...  ...            ...   \n1681          0.0          0.0          0.0          0.0  ...            0.0   \n1682          0.0          0.0          0.0          0.0  ...            0.0   \n1683          0.0          0.0          0.0          0.0  ...            0.0   \n1684          0.0          0.0          0.0          0.0  ...            0.0   \n1685          0.0          0.0          0.0          0.0  ...            0.0   \n\n      labname_lab03  labname_lab03s  labname_lab05s  labname_laba04  \\\n0               0.0             0.0             0.0             0.0   \n1               0.0             0.0             0.0             0.0   \n2               0.0             0.0             0.0             0.0   \n3               0.0             0.0             0.0             0.0   \n4               0.0             0.0             0.0             0.0   \n...             ...             ...             ...             ...   \n1681            0.0             0.0             0.0             0.0   \n1682            0.0             0.0             0.0             0.0   \n1683            0.0             0.0             0.0             0.0   \n1684            0.0             0.0             0.0             0.0   \n1685            0.0             0.0             0.0             0.0   \n\n      labname_laba04s  labname_laba05  labname_laba06  labname_laba06s  \\\n0                 0.0             0.0             0.0              0.0   \n1                 0.0             0.0             0.0              0.0   \n2                 0.0             0.0             0.0              0.0   \n3                 0.0             0.0             0.0              0.0   \n4                 0.0             0.0             0.0              0.0   \n...               ...             ...             ...              ...   \n1681              0.0             0.0             0.0              1.0   \n1682              0.0             0.0             0.0              1.0   \n1683              0.0             0.0             0.0              1.0   \n1684              0.0             0.0             0.0              1.0   \n1685              0.0             0.0             0.0              1.0   \n\n      labname_project1  \n0                  1.0  \n1                  1.0  \n2                  1.0  \n3                  1.0  \n4                  1.0  \n...                ...  \n1681               0.0  \n1682               0.0  \n1683               0.0  \n1684               0.0  \n1685               0.0  \n\n[1686 rows x 43 columns]",
      "text/html": "<div>\n<style scoped>\n    .dataframe tbody tr th:only-of-type {\n        vertical-align: middle;\n    }\n\n    .dataframe tbody tr th {\n        vertical-align: top;\n    }\n\n    .dataframe thead th {\n        text-align: right;\n    }\n</style>\n<table border=\"1\" class=\"dataframe\">\n  <thead>\n    <tr style=\"text-align: right;\">\n      <th></th>\n      <th>numTrials</th>\n      <th>hour</th>\n      <th>uid_user_0</th>\n      <th>uid_user_1</th>\n      <th>uid_user_10</th>\n      <th>uid_user_11</th>\n      <th>uid_user_12</th>\n      <th>uid_user_13</th>\n      <th>uid_user_14</th>\n      <th>uid_user_15</th>\n      <th>...</th>\n      <th>labname_lab02</th>\n      <th>labname_lab03</th>\n      <th>labname_lab03s</th>\n      <th>labname_lab05s</th>\n      <th>labname_laba04</th>\n      <th>labname_laba04s</th>\n      <th>labname_laba05</th>\n      <th>labname_laba06</th>\n      <th>labname_laba06s</th>\n      <th>labname_project1</th>\n    </tr>\n  </thead>\n  <tbody>\n    <tr>\n      <th>0</th>\n      <td>1</td>\n      <td>5</td>\n      <td>0.0</td>\n      <td>0.0</td>\n      <td>0.0</td>\n      <td>0.0</td>\n      <td>0.0</td>\n      <td>0.0</td>\n      <td>0.0</td>\n      <td>0.0</td>\n      <td>...</td>\n      <td>0.0</td>\n      <td>0.0</td>\n      <td>0.0</td>\n      <td>0.0</td>\n      <td>0.0</td>\n      <td>0.0</td>\n      <td>0.0</td>\n      <td>0.0</td>\n      <td>0.0</td>\n      <td>1.0</td>\n    </tr>\n    <tr>\n      <th>1</th>\n      <td>2</td>\n      <td>5</td>\n      <td>0.0</td>\n      <td>0.0</td>\n      <td>0.0</td>\n      <td>0.0</td>\n      <td>0.0</td>\n      <td>0.0</td>\n      <td>0.0</td>\n      <td>0.0</td>\n      <td>...</td>\n      <td>0.0</td>\n      <td>0.0</td>\n      <td>0.0</td>\n      <td>0.0</td>\n      <td>0.0</td>\n      <td>0.0</td>\n      <td>0.0</td>\n      <td>0.0</td>\n      <td>0.0</td>\n      <td>1.0</td>\n    </tr>\n    <tr>\n      <th>2</th>\n      <td>3</td>\n      <td>5</td>\n      <td>0.0</td>\n      <td>0.0</td>\n      <td>0.0</td>\n      <td>0.0</td>\n      <td>0.0</td>\n      <td>0.0</td>\n      <td>0.0</td>\n      <td>0.0</td>\n      <td>...</td>\n      <td>0.0</td>\n      <td>0.0</td>\n      <td>0.0</td>\n      <td>0.0</td>\n      <td>0.0</td>\n      <td>0.0</td>\n      <td>0.0</td>\n      <td>0.0</td>\n      <td>0.0</td>\n      <td>1.0</td>\n    </tr>\n    <tr>\n      <th>3</th>\n      <td>4</td>\n      <td>5</td>\n      <td>0.0</td>\n      <td>0.0</td>\n      <td>0.0</td>\n      <td>0.0</td>\n      <td>0.0</td>\n      <td>0.0</td>\n      <td>0.0</td>\n      <td>0.0</td>\n      <td>...</td>\n      <td>0.0</td>\n      <td>0.0</td>\n      <td>0.0</td>\n      <td>0.0</td>\n      <td>0.0</td>\n      <td>0.0</td>\n      <td>0.0</td>\n      <td>0.0</td>\n      <td>0.0</td>\n      <td>1.0</td>\n    </tr>\n    <tr>\n      <th>4</th>\n      <td>5</td>\n      <td>5</td>\n      <td>0.0</td>\n      <td>0.0</td>\n      <td>0.0</td>\n      <td>0.0</td>\n      <td>0.0</td>\n      <td>0.0</td>\n      <td>0.0</td>\n      <td>0.0</td>\n      <td>...</td>\n      <td>0.0</td>\n      <td>0.0</td>\n      <td>0.0</td>\n      <td>0.0</td>\n      <td>0.0</td>\n      <td>0.0</td>\n      <td>0.0</td>\n      <td>0.0</td>\n      <td>0.0</td>\n      <td>1.0</td>\n    </tr>\n    <tr>\n      <th>...</th>\n      <td>...</td>\n      <td>...</td>\n      <td>...</td>\n      <td>...</td>\n      <td>...</td>\n      <td>...</td>\n      <td>...</td>\n      <td>...</td>\n      <td>...</td>\n      <td>...</td>\n      <td>...</td>\n      <td>...</td>\n      <td>...</td>\n      <td>...</td>\n      <td>...</td>\n      <td>...</td>\n      <td>...</td>\n      <td>...</td>\n      <td>...</td>\n      <td>...</td>\n      <td>...</td>\n    </tr>\n    <tr>\n      <th>1681</th>\n      <td>9</td>\n      <td>20</td>\n      <td>0.0</td>\n      <td>0.0</td>\n      <td>0.0</td>\n      <td>0.0</td>\n      <td>0.0</td>\n      <td>0.0</td>\n      <td>0.0</td>\n      <td>0.0</td>\n      <td>...</td>\n      <td>0.0</td>\n      <td>0.0</td>\n      <td>0.0</td>\n      <td>0.0</td>\n      <td>0.0</td>\n      <td>0.0</td>\n      <td>0.0</td>\n      <td>0.0</td>\n      <td>1.0</td>\n      <td>0.0</td>\n    </tr>\n    <tr>\n      <th>1682</th>\n      <td>6</td>\n      <td>20</td>\n      <td>0.0</td>\n      <td>1.0</td>\n      <td>0.0</td>\n      <td>0.0</td>\n      <td>0.0</td>\n      <td>0.0</td>\n      <td>0.0</td>\n      <td>0.0</td>\n      <td>...</td>\n      <td>0.0</td>\n      <td>0.0</td>\n      <td>0.0</td>\n      <td>0.0</td>\n      <td>0.0</td>\n      <td>0.0</td>\n      <td>0.0</td>\n      <td>0.0</td>\n      <td>1.0</td>\n      <td>0.0</td>\n    </tr>\n    <tr>\n      <th>1683</th>\n      <td>7</td>\n      <td>20</td>\n      <td>0.0</td>\n      <td>1.0</td>\n      <td>0.0</td>\n      <td>0.0</td>\n      <td>0.0</td>\n      <td>0.0</td>\n      <td>0.0</td>\n      <td>0.0</td>\n      <td>...</td>\n      <td>0.0</td>\n      <td>0.0</td>\n      <td>0.0</td>\n      <td>0.0</td>\n      <td>0.0</td>\n      <td>0.0</td>\n      <td>0.0</td>\n      <td>0.0</td>\n      <td>1.0</td>\n      <td>0.0</td>\n    </tr>\n    <tr>\n      <th>1684</th>\n      <td>8</td>\n      <td>20</td>\n      <td>0.0</td>\n      <td>1.0</td>\n      <td>0.0</td>\n      <td>0.0</td>\n      <td>0.0</td>\n      <td>0.0</td>\n      <td>0.0</td>\n      <td>0.0</td>\n      <td>...</td>\n      <td>0.0</td>\n      <td>0.0</td>\n      <td>0.0</td>\n      <td>0.0</td>\n      <td>0.0</td>\n      <td>0.0</td>\n      <td>0.0</td>\n      <td>0.0</td>\n      <td>1.0</td>\n      <td>0.0</td>\n    </tr>\n    <tr>\n      <th>1685</th>\n      <td>9</td>\n      <td>20</td>\n      <td>0.0</td>\n      <td>1.0</td>\n      <td>0.0</td>\n      <td>0.0</td>\n      <td>0.0</td>\n      <td>0.0</td>\n      <td>0.0</td>\n      <td>0.0</td>\n      <td>...</td>\n      <td>0.0</td>\n      <td>0.0</td>\n      <td>0.0</td>\n      <td>0.0</td>\n      <td>0.0</td>\n      <td>0.0</td>\n      <td>0.0</td>\n      <td>0.0</td>\n      <td>1.0</td>\n      <td>0.0</td>\n    </tr>\n  </tbody>\n</table>\n<p>1686 rows × 43 columns</p>\n</div>"
     },
     "execution_count": 7,
     "metadata": {},
     "output_type": "execute_result"
    }
   ]
  },
  {
   "cell_type": "code",
   "execution_count": 14,
   "outputs": [
    {
     "data": {
      "text/plain": "0       4\n1       4\n2       4\n3       4\n4       4\n       ..\n1681    3\n1682    3\n1683    3\n1684    3\n1685    3\nName: dayofweek, Length: 1686, dtype: int64"
     },
     "execution_count": 14,
     "metadata": {},
     "output_type": "execute_result"
    }
   ],
   "source": [
    "y = pd.read_csv('../data/dayofweek.csv')['dayofweek']\n",
    "y"
   ],
   "metadata": {
    "collapsed": false,
    "pycharm": {
     "name": "#%%\n"
    }
   }
  },
  {
   "cell_type": "code",
   "metadata": {
    "id": "D5f4G8reyUqB"
   },
   "source": [
    "X = df\n",
    "X_train, X_test, y_train, y_test = train_test_split(X, y, test_size=0.2, random_state=21, stratify=y)"
   ],
   "execution_count": 15,
   "outputs": []
  },
  {
   "cell_type": "markdown",
   "metadata": {
    "id": "Qx6PXWY3yUqB"
   },
   "source": [
    "## 2. SVM gridsearch"
   ]
  },
  {
   "cell_type": "markdown",
   "metadata": {
    "id": "Z6zo8cHCyUqB"
   },
   "source": [
    "1. Using `GridSearchCV` try different parameters of kernel (`linear`, `rbf`, `sigmoid`), C (`0.01`, `0.1`, `1`, `1.5`, `5`, `10`), gamma (`scale`, `auto`), class_weight (`balanced`, `None`) use `random_state=21` and `probability=True` and get the best combination of them in terms of accuracy.\n",
    "2. Create a dataframe from the results of the gridsearch and sort it ascendingly by the `rank_test_score`. Check if there is a huge difference between different combinations (sometimes a simpler model may give a comparable result)."
   ]
  },
  {
   "cell_type": "code",
   "metadata": {
    "id": "dBiuP78ayUqB"
   },
   "source": [
    "svc = SVC(probability=True)\n",
    "param_grid = {'C': [0.01, 0.1, 1, 1.5, 5, 10],\n",
    "              'kernel': ['linear', 'rbf', 'sigmoid'],\n",
    "              'gamma': ['scale', 'auto'],\n",
    "              'class_weight': ['balanced', None],\n",
    "              'random_state': [21]}\n",
    "gs = GridSearchCV(svc, param_grid, scoring='accuracy', n_jobs=-1)\n",
    "gs.fit(X_train, y_train)"
   ],
   "execution_count": 16,
   "outputs": [
    {
     "data": {
      "text/plain": "GridSearchCV(estimator=SVC(probability=True), n_jobs=-1,\n             param_grid={'C': [0.01, 0.1, 1, 1.5, 5, 10],\n                         'class_weight': ['balanced', None],\n                         'gamma': ['scale', 'auto'],\n                         'kernel': ['linear', 'rbf', 'sigmoid'],\n                         'random_state': [21]},\n             scoring='accuracy')"
     },
     "execution_count": 16,
     "metadata": {},
     "output_type": "execute_result"
    }
   ]
  },
  {
   "cell_type": "code",
   "metadata": {
    "id": "4NL1AfU0yUqC"
   },
   "source": [
    "gs.best_params_\n"
   ],
   "execution_count": 17,
   "outputs": [
    {
     "data": {
      "text/plain": "{'C': 10,\n 'class_weight': None,\n 'gamma': 'auto',\n 'kernel': 'rbf',\n 'random_state': 21}"
     },
     "execution_count": 17,
     "metadata": {},
     "output_type": "execute_result"
    }
   ]
  },
  {
   "cell_type": "code",
   "metadata": {
    "id": "GoMznS9wyUqC"
   },
   "source": [
    "gs.best_score_"
   ],
   "execution_count": 18,
   "outputs": [
    {
     "data": {
      "text/plain": "0.8761090458488228"
     },
     "execution_count": 18,
     "metadata": {},
     "output_type": "execute_result"
    }
   ]
  },
  {
   "cell_type": "code",
   "metadata": {
    "id": "oaeHHckFyUqC"
   },
   "source": [
    "results = pd.DataFrame(gs.cv_results_)\n",
    "results = results.sort_values('rank_test_score', ascending=False)\n",
    "results"
   ],
   "execution_count": 19,
   "outputs": [
    {
     "data": {
      "text/plain": "    mean_fit_time  std_fit_time  mean_score_time  std_score_time param_C  \\\n29       0.689239      0.001489         0.019716        0.000101       1   \n17       0.695519      0.004822         0.019961        0.000432     0.1   \n41       0.772688      0.039846         0.023120        0.003220     1.5   \n65       0.624453      0.059998         0.022646        0.004430      10   \n53       0.717431      0.068297         0.020619        0.000775       5   \n..            ...           ...              ...             ...     ...   \n63      40.085554      3.828770         0.009670        0.001356      10   \n52       0.687704      0.105972         0.057570        0.010481       5   \n58       0.682176      0.142251         0.066841        0.029537       5   \n64       0.626016      0.118502         0.043422        0.003569      10   \n70       0.636064      0.059218         0.049755        0.008962      10   \n\n   param_class_weight param_gamma param_kernel param_random_state  \\\n29           balanced        auto      sigmoid                 21   \n17           balanced        auto      sigmoid                 21   \n41           balanced        auto      sigmoid                 21   \n65           balanced        auto      sigmoid                 21   \n53           balanced        auto      sigmoid                 21   \n..                ...         ...          ...                ...   \n63           balanced        auto       linear                 21   \n52           balanced        auto          rbf                 21   \n58               None        auto          rbf                 21   \n64           balanced        auto          rbf                 21   \n70               None        auto          rbf                 21   \n\n                                               params  split0_test_score  \\\n29  {'C': 1, 'class_weight': 'balanced', 'gamma': ...           0.066667   \n17  {'C': 0.1, 'class_weight': 'balanced', 'gamma'...           0.062963   \n41  {'C': 1.5, 'class_weight': 'balanced', 'gamma'...           0.066667   \n65  {'C': 10, 'class_weight': 'balanced', 'gamma':...           0.122222   \n53  {'C': 5, 'class_weight': 'balanced', 'gamma': ...           0.144444   \n..                                                ...                ...   \n63  {'C': 10, 'class_weight': 'balanced', 'gamma':...           0.729630   \n52  {'C': 5, 'class_weight': 'balanced', 'gamma': ...           0.844444   \n58  {'C': 5, 'class_weight': None, 'gamma': 'auto'...           0.825926   \n64  {'C': 10, 'class_weight': 'balanced', 'gamma':...           0.877778   \n70  {'C': 10, 'class_weight': None, 'gamma': 'auto...           0.900000   \n\n    split1_test_score  split2_test_score  split3_test_score  \\\n29           0.070370           0.044444           0.063197   \n17           0.066667           0.062963           0.059480   \n41           0.085185           0.081481           0.078067   \n65           0.140741           0.129630           0.100372   \n53           0.148148           0.137037           0.126394   \n..                ...                ...                ...   \n63           0.700000           0.755556           0.754647   \n52           0.785185           0.792593           0.817844   \n58           0.811111           0.818519           0.821561   \n64           0.851852           0.862963           0.873606   \n70           0.848148           0.885185           0.884758   \n\n    split4_test_score  mean_test_score  std_test_score  rank_test_score  \n29           0.055762         0.060088        0.009188               72  \n17           0.059480         0.062310        0.002678               71  \n41           0.085502         0.079380        0.006913               70  \n65           0.085502         0.115693        0.020052               69  \n53           0.092937         0.129792        0.019869               68  \n..                ...              ...             ...              ...  \n63           0.665428         0.721052        0.034438                5  \n52           0.802974         0.808608        0.021007                4  \n58           0.802974         0.816018        0.008116                3  \n64           0.851301         0.863500        0.010870                2  \n70           0.862454         0.876109        0.018419                1  \n\n[72 rows x 18 columns]",
      "text/html": "<div>\n<style scoped>\n    .dataframe tbody tr th:only-of-type {\n        vertical-align: middle;\n    }\n\n    .dataframe tbody tr th {\n        vertical-align: top;\n    }\n\n    .dataframe thead th {\n        text-align: right;\n    }\n</style>\n<table border=\"1\" class=\"dataframe\">\n  <thead>\n    <tr style=\"text-align: right;\">\n      <th></th>\n      <th>mean_fit_time</th>\n      <th>std_fit_time</th>\n      <th>mean_score_time</th>\n      <th>std_score_time</th>\n      <th>param_C</th>\n      <th>param_class_weight</th>\n      <th>param_gamma</th>\n      <th>param_kernel</th>\n      <th>param_random_state</th>\n      <th>params</th>\n      <th>split0_test_score</th>\n      <th>split1_test_score</th>\n      <th>split2_test_score</th>\n      <th>split3_test_score</th>\n      <th>split4_test_score</th>\n      <th>mean_test_score</th>\n      <th>std_test_score</th>\n      <th>rank_test_score</th>\n    </tr>\n  </thead>\n  <tbody>\n    <tr>\n      <th>29</th>\n      <td>0.689239</td>\n      <td>0.001489</td>\n      <td>0.019716</td>\n      <td>0.000101</td>\n      <td>1</td>\n      <td>balanced</td>\n      <td>auto</td>\n      <td>sigmoid</td>\n      <td>21</td>\n      <td>{'C': 1, 'class_weight': 'balanced', 'gamma': ...</td>\n      <td>0.066667</td>\n      <td>0.070370</td>\n      <td>0.044444</td>\n      <td>0.063197</td>\n      <td>0.055762</td>\n      <td>0.060088</td>\n      <td>0.009188</td>\n      <td>72</td>\n    </tr>\n    <tr>\n      <th>17</th>\n      <td>0.695519</td>\n      <td>0.004822</td>\n      <td>0.019961</td>\n      <td>0.000432</td>\n      <td>0.1</td>\n      <td>balanced</td>\n      <td>auto</td>\n      <td>sigmoid</td>\n      <td>21</td>\n      <td>{'C': 0.1, 'class_weight': 'balanced', 'gamma'...</td>\n      <td>0.062963</td>\n      <td>0.066667</td>\n      <td>0.062963</td>\n      <td>0.059480</td>\n      <td>0.059480</td>\n      <td>0.062310</td>\n      <td>0.002678</td>\n      <td>71</td>\n    </tr>\n    <tr>\n      <th>41</th>\n      <td>0.772688</td>\n      <td>0.039846</td>\n      <td>0.023120</td>\n      <td>0.003220</td>\n      <td>1.5</td>\n      <td>balanced</td>\n      <td>auto</td>\n      <td>sigmoid</td>\n      <td>21</td>\n      <td>{'C': 1.5, 'class_weight': 'balanced', 'gamma'...</td>\n      <td>0.066667</td>\n      <td>0.085185</td>\n      <td>0.081481</td>\n      <td>0.078067</td>\n      <td>0.085502</td>\n      <td>0.079380</td>\n      <td>0.006913</td>\n      <td>70</td>\n    </tr>\n    <tr>\n      <th>65</th>\n      <td>0.624453</td>\n      <td>0.059998</td>\n      <td>0.022646</td>\n      <td>0.004430</td>\n      <td>10</td>\n      <td>balanced</td>\n      <td>auto</td>\n      <td>sigmoid</td>\n      <td>21</td>\n      <td>{'C': 10, 'class_weight': 'balanced', 'gamma':...</td>\n      <td>0.122222</td>\n      <td>0.140741</td>\n      <td>0.129630</td>\n      <td>0.100372</td>\n      <td>0.085502</td>\n      <td>0.115693</td>\n      <td>0.020052</td>\n      <td>69</td>\n    </tr>\n    <tr>\n      <th>53</th>\n      <td>0.717431</td>\n      <td>0.068297</td>\n      <td>0.020619</td>\n      <td>0.000775</td>\n      <td>5</td>\n      <td>balanced</td>\n      <td>auto</td>\n      <td>sigmoid</td>\n      <td>21</td>\n      <td>{'C': 5, 'class_weight': 'balanced', 'gamma': ...</td>\n      <td>0.144444</td>\n      <td>0.148148</td>\n      <td>0.137037</td>\n      <td>0.126394</td>\n      <td>0.092937</td>\n      <td>0.129792</td>\n      <td>0.019869</td>\n      <td>68</td>\n    </tr>\n    <tr>\n      <th>...</th>\n      <td>...</td>\n      <td>...</td>\n      <td>...</td>\n      <td>...</td>\n      <td>...</td>\n      <td>...</td>\n      <td>...</td>\n      <td>...</td>\n      <td>...</td>\n      <td>...</td>\n      <td>...</td>\n      <td>...</td>\n      <td>...</td>\n      <td>...</td>\n      <td>...</td>\n      <td>...</td>\n      <td>...</td>\n      <td>...</td>\n    </tr>\n    <tr>\n      <th>63</th>\n      <td>40.085554</td>\n      <td>3.828770</td>\n      <td>0.009670</td>\n      <td>0.001356</td>\n      <td>10</td>\n      <td>balanced</td>\n      <td>auto</td>\n      <td>linear</td>\n      <td>21</td>\n      <td>{'C': 10, 'class_weight': 'balanced', 'gamma':...</td>\n      <td>0.729630</td>\n      <td>0.700000</td>\n      <td>0.755556</td>\n      <td>0.754647</td>\n      <td>0.665428</td>\n      <td>0.721052</td>\n      <td>0.034438</td>\n      <td>5</td>\n    </tr>\n    <tr>\n      <th>52</th>\n      <td>0.687704</td>\n      <td>0.105972</td>\n      <td>0.057570</td>\n      <td>0.010481</td>\n      <td>5</td>\n      <td>balanced</td>\n      <td>auto</td>\n      <td>rbf</td>\n      <td>21</td>\n      <td>{'C': 5, 'class_weight': 'balanced', 'gamma': ...</td>\n      <td>0.844444</td>\n      <td>0.785185</td>\n      <td>0.792593</td>\n      <td>0.817844</td>\n      <td>0.802974</td>\n      <td>0.808608</td>\n      <td>0.021007</td>\n      <td>4</td>\n    </tr>\n    <tr>\n      <th>58</th>\n      <td>0.682176</td>\n      <td>0.142251</td>\n      <td>0.066841</td>\n      <td>0.029537</td>\n      <td>5</td>\n      <td>None</td>\n      <td>auto</td>\n      <td>rbf</td>\n      <td>21</td>\n      <td>{'C': 5, 'class_weight': None, 'gamma': 'auto'...</td>\n      <td>0.825926</td>\n      <td>0.811111</td>\n      <td>0.818519</td>\n      <td>0.821561</td>\n      <td>0.802974</td>\n      <td>0.816018</td>\n      <td>0.008116</td>\n      <td>3</td>\n    </tr>\n    <tr>\n      <th>64</th>\n      <td>0.626016</td>\n      <td>0.118502</td>\n      <td>0.043422</td>\n      <td>0.003569</td>\n      <td>10</td>\n      <td>balanced</td>\n      <td>auto</td>\n      <td>rbf</td>\n      <td>21</td>\n      <td>{'C': 10, 'class_weight': 'balanced', 'gamma':...</td>\n      <td>0.877778</td>\n      <td>0.851852</td>\n      <td>0.862963</td>\n      <td>0.873606</td>\n      <td>0.851301</td>\n      <td>0.863500</td>\n      <td>0.010870</td>\n      <td>2</td>\n    </tr>\n    <tr>\n      <th>70</th>\n      <td>0.636064</td>\n      <td>0.059218</td>\n      <td>0.049755</td>\n      <td>0.008962</td>\n      <td>10</td>\n      <td>None</td>\n      <td>auto</td>\n      <td>rbf</td>\n      <td>21</td>\n      <td>{'C': 10, 'class_weight': None, 'gamma': 'auto...</td>\n      <td>0.900000</td>\n      <td>0.848148</td>\n      <td>0.885185</td>\n      <td>0.884758</td>\n      <td>0.862454</td>\n      <td>0.876109</td>\n      <td>0.018419</td>\n      <td>1</td>\n    </tr>\n  </tbody>\n</table>\n<p>72 rows × 18 columns</p>\n</div>"
     },
     "execution_count": 19,
     "metadata": {},
     "output_type": "execute_result"
    }
   ]
  },
  {
   "cell_type": "markdown",
   "metadata": {
    "id": "a3w4FpldyUqC"
   },
   "source": [
    "## 3. Decision tree"
   ]
  },
  {
   "cell_type": "markdown",
   "metadata": {
    "id": "ELqxX9sXyUqD"
   },
   "source": [
    "1. Using `GridSearchCV` try different parameters of `max_depth` (from `1` to `49`), `class_weight` (`balanced`, `None`) and `criterion` (`entropy` and `gini`) and get the best combination of them in terms of accuracy. Use `random_state=21`.\n",
    "2. Create a dataframe from the results of the gridsearch and sort it ascendingly by the `rank_test_score`, check if there is a huge difference between different combinations (sometimes a simpler model may give a comparable result)."
   ]
  },
  {
   "cell_type": "code",
   "metadata": {
    "id": "Q6YmUeUqyUqD"
   },
   "source": [
    "dtc = DecisionTreeClassifier()\n",
    "param_grid = {'criterion': ['gini','entropy'],\n",
    "              'max_depth': np.arange(1, 50),\n",
    "              'class_weight': ['balanced', None],\n",
    "              'random_state': [21]}\n",
    "gs = GridSearchCV(dtc, param_grid, scoring='accuracy', n_jobs=-1)\n",
    "gs.fit(X_train, y_train)"
   ],
   "execution_count": 20,
   "outputs": [
    {
     "data": {
      "text/plain": "GridSearchCV(estimator=DecisionTreeClassifier(), n_jobs=-1,\n             param_grid={'class_weight': ['balanced', None],\n                         'criterion': ['gini', 'entropy'],\n                         'max_depth': array([ 1,  2,  3,  4,  5,  6,  7,  8,  9, 10, 11, 12, 13, 14, 15, 16, 17,\n       18, 19, 20, 21, 22, 23, 24, 25, 26, 27, 28, 29, 30, 31, 32, 33, 34,\n       35, 36, 37, 38, 39, 40, 41, 42, 43, 44, 45, 46, 47, 48, 49]),\n                         'random_state': [21]},\n             scoring='accuracy')"
     },
     "execution_count": 20,
     "metadata": {},
     "output_type": "execute_result"
    }
   ]
  },
  {
   "cell_type": "code",
   "metadata": {
    "id": "aF9K-bBGyUqD"
   },
   "source": [
    "gs.best_params_"
   ],
   "execution_count": 21,
   "outputs": [
    {
     "data": {
      "text/plain": "{'class_weight': 'balanced',\n 'criterion': 'gini',\n 'max_depth': 21,\n 'random_state': 21}"
     },
     "execution_count": 21,
     "metadata": {},
     "output_type": "execute_result"
    }
   ]
  },
  {
   "cell_type": "code",
   "metadata": {
    "id": "7barDuTYyUqD"
   },
   "source": [
    "gs.best_score_"
   ],
   "execution_count": 22,
   "outputs": [
    {
     "data": {
      "text/plain": "0.873864794162192"
     },
     "execution_count": 22,
     "metadata": {},
     "output_type": "execute_result"
    }
   ]
  },
  {
   "cell_type": "code",
   "metadata": {
    "id": "Txy-LhV5yUqD"
   },
   "source": [
    "results2 = pd.DataFrame(gs.cv_results_)\n",
    "results2 = results2.sort_values('rank_test_score', ascending=False)\n",
    "results2\n"
   ],
   "execution_count": 23,
   "outputs": [
    {
     "data": {
      "text/plain": "     mean_fit_time  std_fit_time  mean_score_time  std_score_time  \\\n0         0.003634      0.000085         0.001504        0.000008   \n49        0.002902      0.000034         0.001394        0.000049   \n147       0.002540      0.000070         0.001430        0.000055   \n98        0.002471      0.000050         0.001382        0.000026   \n2         0.003772      0.000060         0.001637        0.000082   \n..             ...           ...              ...             ...   \n44        0.005021      0.000090         0.001491        0.000012   \n42        0.005117      0.000043         0.001647        0.000134   \n21        0.005075      0.000243         0.001546        0.000047   \n24        0.005182      0.000223         0.001547        0.000047   \n20        0.005166      0.000196         0.001566        0.000041   \n\n    param_class_weight param_criterion param_max_depth param_random_state  \\\n0             balanced            gini               1                 21   \n49            balanced         entropy               1                 21   \n147               None         entropy               1                 21   \n98                None            gini               1                 21   \n2             balanced            gini               3                 21   \n..                 ...             ...             ...                ...   \n44            balanced            gini              45                 21   \n42            balanced            gini              43                 21   \n21            balanced            gini              22                 21   \n24            balanced            gini              25                 21   \n20            balanced            gini              21                 21   \n\n                                                params  split0_test_score  \\\n0    {'class_weight': 'balanced', 'criterion': 'gin...           0.262963   \n49   {'class_weight': 'balanced', 'criterion': 'ent...           0.262963   \n147  {'class_weight': None, 'criterion': 'entropy',...           0.370370   \n98   {'class_weight': None, 'criterion': 'gini', 'm...           0.370370   \n2    {'class_weight': 'balanced', 'criterion': 'gin...           0.388889   \n..                                                 ...                ...   \n44   {'class_weight': 'balanced', 'criterion': 'gin...           0.888889   \n42   {'class_weight': 'balanced', 'criterion': 'gin...           0.888889   \n21   {'class_weight': 'balanced', 'criterion': 'gin...           0.885185   \n24   {'class_weight': 'balanced', 'criterion': 'gin...           0.888889   \n20   {'class_weight': 'balanced', 'criterion': 'gin...           0.888889   \n\n     split1_test_score  split2_test_score  split3_test_score  \\\n0             0.318519           0.266667           0.323420   \n49            0.318519           0.266667           0.323420   \n147           0.351852           0.359259           0.353160   \n98            0.351852           0.359259           0.353160   \n2             0.303704           0.403704           0.427509   \n..                 ...                ...                ...   \n44            0.866667           0.903704           0.873606   \n42            0.866667           0.903704           0.873606   \n21            0.862963           0.903704           0.881041   \n24            0.874074           0.903704           0.873606   \n20            0.859259           0.903704           0.884758   \n\n     split4_test_score  mean_test_score  std_test_score  rank_test_score  \n0             0.260223         0.286358        0.028376              195  \n49            0.260223         0.286358        0.028376              195  \n147           0.342007         0.355330        0.009338              193  \n98            0.342007         0.355330        0.009338              193  \n2             0.345725         0.373906        0.044064              192  \n..                 ...              ...             ...              ...  \n44            0.828996         0.872372        0.025179                4  \n42            0.828996         0.872372        0.025179                4  \n21            0.828996         0.872378        0.025263                3  \n24            0.828996         0.873854        0.025018                2  \n20            0.832714         0.873865        0.025066                1  \n\n[196 rows x 17 columns]",
      "text/html": "<div>\n<style scoped>\n    .dataframe tbody tr th:only-of-type {\n        vertical-align: middle;\n    }\n\n    .dataframe tbody tr th {\n        vertical-align: top;\n    }\n\n    .dataframe thead th {\n        text-align: right;\n    }\n</style>\n<table border=\"1\" class=\"dataframe\">\n  <thead>\n    <tr style=\"text-align: right;\">\n      <th></th>\n      <th>mean_fit_time</th>\n      <th>std_fit_time</th>\n      <th>mean_score_time</th>\n      <th>std_score_time</th>\n      <th>param_class_weight</th>\n      <th>param_criterion</th>\n      <th>param_max_depth</th>\n      <th>param_random_state</th>\n      <th>params</th>\n      <th>split0_test_score</th>\n      <th>split1_test_score</th>\n      <th>split2_test_score</th>\n      <th>split3_test_score</th>\n      <th>split4_test_score</th>\n      <th>mean_test_score</th>\n      <th>std_test_score</th>\n      <th>rank_test_score</th>\n    </tr>\n  </thead>\n  <tbody>\n    <tr>\n      <th>0</th>\n      <td>0.003634</td>\n      <td>0.000085</td>\n      <td>0.001504</td>\n      <td>0.000008</td>\n      <td>balanced</td>\n      <td>gini</td>\n      <td>1</td>\n      <td>21</td>\n      <td>{'class_weight': 'balanced', 'criterion': 'gin...</td>\n      <td>0.262963</td>\n      <td>0.318519</td>\n      <td>0.266667</td>\n      <td>0.323420</td>\n      <td>0.260223</td>\n      <td>0.286358</td>\n      <td>0.028376</td>\n      <td>195</td>\n    </tr>\n    <tr>\n      <th>49</th>\n      <td>0.002902</td>\n      <td>0.000034</td>\n      <td>0.001394</td>\n      <td>0.000049</td>\n      <td>balanced</td>\n      <td>entropy</td>\n      <td>1</td>\n      <td>21</td>\n      <td>{'class_weight': 'balanced', 'criterion': 'ent...</td>\n      <td>0.262963</td>\n      <td>0.318519</td>\n      <td>0.266667</td>\n      <td>0.323420</td>\n      <td>0.260223</td>\n      <td>0.286358</td>\n      <td>0.028376</td>\n      <td>195</td>\n    </tr>\n    <tr>\n      <th>147</th>\n      <td>0.002540</td>\n      <td>0.000070</td>\n      <td>0.001430</td>\n      <td>0.000055</td>\n      <td>None</td>\n      <td>entropy</td>\n      <td>1</td>\n      <td>21</td>\n      <td>{'class_weight': None, 'criterion': 'entropy',...</td>\n      <td>0.370370</td>\n      <td>0.351852</td>\n      <td>0.359259</td>\n      <td>0.353160</td>\n      <td>0.342007</td>\n      <td>0.355330</td>\n      <td>0.009338</td>\n      <td>193</td>\n    </tr>\n    <tr>\n      <th>98</th>\n      <td>0.002471</td>\n      <td>0.000050</td>\n      <td>0.001382</td>\n      <td>0.000026</td>\n      <td>None</td>\n      <td>gini</td>\n      <td>1</td>\n      <td>21</td>\n      <td>{'class_weight': None, 'criterion': 'gini', 'm...</td>\n      <td>0.370370</td>\n      <td>0.351852</td>\n      <td>0.359259</td>\n      <td>0.353160</td>\n      <td>0.342007</td>\n      <td>0.355330</td>\n      <td>0.009338</td>\n      <td>193</td>\n    </tr>\n    <tr>\n      <th>2</th>\n      <td>0.003772</td>\n      <td>0.000060</td>\n      <td>0.001637</td>\n      <td>0.000082</td>\n      <td>balanced</td>\n      <td>gini</td>\n      <td>3</td>\n      <td>21</td>\n      <td>{'class_weight': 'balanced', 'criterion': 'gin...</td>\n      <td>0.388889</td>\n      <td>0.303704</td>\n      <td>0.403704</td>\n      <td>0.427509</td>\n      <td>0.345725</td>\n      <td>0.373906</td>\n      <td>0.044064</td>\n      <td>192</td>\n    </tr>\n    <tr>\n      <th>...</th>\n      <td>...</td>\n      <td>...</td>\n      <td>...</td>\n      <td>...</td>\n      <td>...</td>\n      <td>...</td>\n      <td>...</td>\n      <td>...</td>\n      <td>...</td>\n      <td>...</td>\n      <td>...</td>\n      <td>...</td>\n      <td>...</td>\n      <td>...</td>\n      <td>...</td>\n      <td>...</td>\n      <td>...</td>\n    </tr>\n    <tr>\n      <th>44</th>\n      <td>0.005021</td>\n      <td>0.000090</td>\n      <td>0.001491</td>\n      <td>0.000012</td>\n      <td>balanced</td>\n      <td>gini</td>\n      <td>45</td>\n      <td>21</td>\n      <td>{'class_weight': 'balanced', 'criterion': 'gin...</td>\n      <td>0.888889</td>\n      <td>0.866667</td>\n      <td>0.903704</td>\n      <td>0.873606</td>\n      <td>0.828996</td>\n      <td>0.872372</td>\n      <td>0.025179</td>\n      <td>4</td>\n    </tr>\n    <tr>\n      <th>42</th>\n      <td>0.005117</td>\n      <td>0.000043</td>\n      <td>0.001647</td>\n      <td>0.000134</td>\n      <td>balanced</td>\n      <td>gini</td>\n      <td>43</td>\n      <td>21</td>\n      <td>{'class_weight': 'balanced', 'criterion': 'gin...</td>\n      <td>0.888889</td>\n      <td>0.866667</td>\n      <td>0.903704</td>\n      <td>0.873606</td>\n      <td>0.828996</td>\n      <td>0.872372</td>\n      <td>0.025179</td>\n      <td>4</td>\n    </tr>\n    <tr>\n      <th>21</th>\n      <td>0.005075</td>\n      <td>0.000243</td>\n      <td>0.001546</td>\n      <td>0.000047</td>\n      <td>balanced</td>\n      <td>gini</td>\n      <td>22</td>\n      <td>21</td>\n      <td>{'class_weight': 'balanced', 'criterion': 'gin...</td>\n      <td>0.885185</td>\n      <td>0.862963</td>\n      <td>0.903704</td>\n      <td>0.881041</td>\n      <td>0.828996</td>\n      <td>0.872378</td>\n      <td>0.025263</td>\n      <td>3</td>\n    </tr>\n    <tr>\n      <th>24</th>\n      <td>0.005182</td>\n      <td>0.000223</td>\n      <td>0.001547</td>\n      <td>0.000047</td>\n      <td>balanced</td>\n      <td>gini</td>\n      <td>25</td>\n      <td>21</td>\n      <td>{'class_weight': 'balanced', 'criterion': 'gin...</td>\n      <td>0.888889</td>\n      <td>0.874074</td>\n      <td>0.903704</td>\n      <td>0.873606</td>\n      <td>0.828996</td>\n      <td>0.873854</td>\n      <td>0.025018</td>\n      <td>2</td>\n    </tr>\n    <tr>\n      <th>20</th>\n      <td>0.005166</td>\n      <td>0.000196</td>\n      <td>0.001566</td>\n      <td>0.000041</td>\n      <td>balanced</td>\n      <td>gini</td>\n      <td>21</td>\n      <td>21</td>\n      <td>{'class_weight': 'balanced', 'criterion': 'gin...</td>\n      <td>0.888889</td>\n      <td>0.859259</td>\n      <td>0.903704</td>\n      <td>0.884758</td>\n      <td>0.832714</td>\n      <td>0.873865</td>\n      <td>0.025066</td>\n      <td>1</td>\n    </tr>\n  </tbody>\n</table>\n<p>196 rows × 17 columns</p>\n</div>"
     },
     "execution_count": 23,
     "metadata": {},
     "output_type": "execute_result"
    }
   ]
  },
  {
   "cell_type": "markdown",
   "metadata": {
    "id": "dLFxJKtiyUqE"
   },
   "source": [
    "## 4. Random forest"
   ]
  },
  {
   "cell_type": "markdown",
   "metadata": {
    "id": "V6ADE7RuyUqE"
   },
   "source": [
    "1. Using `GridSearchCV` try different parameters of `n_estimators` (`5`, `10`, `50`, `100`), `max_depth` (from `1` to `49`), `class_weight` (`balanced`, `None`) and `criterion` (`entropy` and `gini`) and get the best combination of them in terms of accuracy. Use random_state=21.\n",
    "2. Create a dataframe from the results of the gridsearch and sort it ascendengly by the `rank_test_score`, check if there is a huge difference between different combinations (sometimes a simpler model may give a comparable result)."
   ]
  },
  {
   "cell_type": "code",
   "metadata": {
    "id": "VOyEfEctyUqE"
   },
   "source": [
    "rfc = RandomForestClassifier()\n",
    "param_grid = {'n_estimators': [5, 10, 50, 100],\n",
    "              'criterion': ['gini','entropy'],\n",
    "              'max_depth': np.arange(1, 50),\n",
    "              'class_weight': ['balanced', None],\n",
    "              'random_state': [21]}\n",
    "gs = GridSearchCV(rfc, param_grid, scoring='accuracy', n_jobs=-1)\n",
    "gs.fit(X_train, y_train)"
   ],
   "execution_count": 24,
   "outputs": [
    {
     "data": {
      "text/plain": "GridSearchCV(estimator=RandomForestClassifier(), n_jobs=-1,\n             param_grid={'class_weight': ['balanced', None],\n                         'criterion': ['gini', 'entropy'],\n                         'max_depth': array([ 1,  2,  3,  4,  5,  6,  7,  8,  9, 10, 11, 12, 13, 14, 15, 16, 17,\n       18, 19, 20, 21, 22, 23, 24, 25, 26, 27, 28, 29, 30, 31, 32, 33, 34,\n       35, 36, 37, 38, 39, 40, 41, 42, 43, 44, 45, 46, 47, 48, 49]),\n                         'n_estimators': [5, 10, 50, 100],\n                         'random_state': [21]},\n             scoring='accuracy')"
     },
     "execution_count": 24,
     "metadata": {},
     "output_type": "execute_result"
    }
   ]
  },
  {
   "cell_type": "code",
   "metadata": {
    "id": "otVWJ4CqyUqE"
   },
   "source": [
    "gs.best_params_\n"
   ],
   "execution_count": 25,
   "outputs": [
    {
     "data": {
      "text/plain": "{'class_weight': 'balanced',\n 'criterion': 'entropy',\n 'max_depth': 24,\n 'n_estimators': 100,\n 'random_state': 21}"
     },
     "execution_count": 25,
     "metadata": {},
     "output_type": "execute_result"
    }
   ]
  },
  {
   "cell_type": "code",
   "metadata": {
    "id": "y8CPm8gTyUqE"
   },
   "source": [
    "gs.best_score_\n"
   ],
   "execution_count": 26,
   "outputs": [
    {
     "data": {
      "text/plain": "0.9042929918766351"
     },
     "execution_count": 26,
     "metadata": {},
     "output_type": "execute_result"
    }
   ]
  },
  {
   "cell_type": "code",
   "metadata": {
    "id": "YuU50GSQyUqF"
   },
   "source": [
    "results3 = pd.DataFrame(gs.cv_results_)\n",
    "results3 = results3.sort_values('rank_test_score', ascending=False)\n",
    "results3\n"
   ],
   "execution_count": 27,
   "outputs": [
    {
     "data": {
      "text/plain": "     mean_fit_time  std_fit_time  mean_score_time  std_score_time  \\\n196       0.009253      0.001162         0.003319        0.001239   \n0         0.045915      0.016759         0.004739        0.001492   \n4         0.008546      0.000300         0.002349        0.000337   \n200       0.008514      0.000094         0.002175        0.000058   \n588       0.007852      0.000022         0.002129        0.000007   \n..             ...           ...              ...             ...   \n515       0.162926      0.003480         0.013317        0.000776   \n311       0.183232      0.005130         0.013281        0.000151   \n118       0.085343      0.001074         0.007607        0.000155   \n502       0.080439      0.000513         0.007653        0.000582   \n291       0.196192      0.014275         0.013319        0.000144   \n\n    param_class_weight param_criterion param_max_depth param_n_estimators  \\\n196           balanced         entropy               1                  5   \n0             balanced            gini               1                  5   \n4             balanced            gini               2                  5   \n200           balanced         entropy               2                  5   \n588               None         entropy               1                  5   \n..                 ...             ...             ...                ...   \n515               None            gini              31                100   \n311           balanced         entropy              29                100   \n118           balanced            gini              30                 50   \n502               None            gini              28                 50   \n291           balanced         entropy              24                100   \n\n    param_random_state                                             params  \\\n196                 21  {'class_weight': 'balanced', 'criterion': 'ent...   \n0                   21  {'class_weight': 'balanced', 'criterion': 'gin...   \n4                   21  {'class_weight': 'balanced', 'criterion': 'gin...   \n200                 21  {'class_weight': 'balanced', 'criterion': 'ent...   \n588                 21  {'class_weight': None, 'criterion': 'entropy',...   \n..                 ...                                                ...   \n515                 21  {'class_weight': None, 'criterion': 'gini', 'm...   \n311                 21  {'class_weight': 'balanced', 'criterion': 'ent...   \n118                 21  {'class_weight': 'balanced', 'criterion': 'gin...   \n502                 21  {'class_weight': None, 'criterion': 'gini', 'm...   \n291                 21  {'class_weight': 'balanced', 'criterion': 'ent...   \n\n     split0_test_score  split1_test_score  split2_test_score  \\\n196           0.262963           0.292593           0.225926   \n0             0.262963           0.292593           0.285185   \n4             0.311111           0.377778           0.377778   \n200           0.318519           0.366667           0.381481   \n588           0.355556           0.366667           0.374074   \n..                 ...                ...                ...   \n515           0.918519           0.911111           0.900000   \n311           0.922222           0.900000           0.907407   \n118           0.922222           0.903704           0.900000   \n502           0.922222           0.900000           0.907407   \n291           0.922222           0.900000           0.903704   \n\n     split3_test_score  split4_test_score  mean_test_score  std_test_score  \\\n196           0.282528           0.289963         0.270794        0.024718   \n0             0.282528           0.293680         0.283390        0.011062   \n4             0.353160           0.312268         0.346419        0.029749   \n200           0.353160           0.345725         0.353110        0.021165   \n588           0.345725           0.327138         0.353832        0.016467   \n..                 ...                ...              ...             ...   \n515           0.910781           0.877323         0.903547        0.014380   \n311           0.907063           0.881041         0.903547        0.013380   \n118           0.907063           0.884758         0.903549        0.012056   \n502           0.903346           0.888476         0.904290        0.010961   \n291           0.910781           0.884758         0.904293        0.012361   \n\n     rank_test_score  \n196              784  \n0                783  \n4                782  \n200              781  \n588              780  \n..               ...  \n515                4  \n311                4  \n118                3  \n502                2  \n291                1  \n\n[784 rows x 18 columns]",
      "text/html": "<div>\n<style scoped>\n    .dataframe tbody tr th:only-of-type {\n        vertical-align: middle;\n    }\n\n    .dataframe tbody tr th {\n        vertical-align: top;\n    }\n\n    .dataframe thead th {\n        text-align: right;\n    }\n</style>\n<table border=\"1\" class=\"dataframe\">\n  <thead>\n    <tr style=\"text-align: right;\">\n      <th></th>\n      <th>mean_fit_time</th>\n      <th>std_fit_time</th>\n      <th>mean_score_time</th>\n      <th>std_score_time</th>\n      <th>param_class_weight</th>\n      <th>param_criterion</th>\n      <th>param_max_depth</th>\n      <th>param_n_estimators</th>\n      <th>param_random_state</th>\n      <th>params</th>\n      <th>split0_test_score</th>\n      <th>split1_test_score</th>\n      <th>split2_test_score</th>\n      <th>split3_test_score</th>\n      <th>split4_test_score</th>\n      <th>mean_test_score</th>\n      <th>std_test_score</th>\n      <th>rank_test_score</th>\n    </tr>\n  </thead>\n  <tbody>\n    <tr>\n      <th>196</th>\n      <td>0.009253</td>\n      <td>0.001162</td>\n      <td>0.003319</td>\n      <td>0.001239</td>\n      <td>balanced</td>\n      <td>entropy</td>\n      <td>1</td>\n      <td>5</td>\n      <td>21</td>\n      <td>{'class_weight': 'balanced', 'criterion': 'ent...</td>\n      <td>0.262963</td>\n      <td>0.292593</td>\n      <td>0.225926</td>\n      <td>0.282528</td>\n      <td>0.289963</td>\n      <td>0.270794</td>\n      <td>0.024718</td>\n      <td>784</td>\n    </tr>\n    <tr>\n      <th>0</th>\n      <td>0.045915</td>\n      <td>0.016759</td>\n      <td>0.004739</td>\n      <td>0.001492</td>\n      <td>balanced</td>\n      <td>gini</td>\n      <td>1</td>\n      <td>5</td>\n      <td>21</td>\n      <td>{'class_weight': 'balanced', 'criterion': 'gin...</td>\n      <td>0.262963</td>\n      <td>0.292593</td>\n      <td>0.285185</td>\n      <td>0.282528</td>\n      <td>0.293680</td>\n      <td>0.283390</td>\n      <td>0.011062</td>\n      <td>783</td>\n    </tr>\n    <tr>\n      <th>4</th>\n      <td>0.008546</td>\n      <td>0.000300</td>\n      <td>0.002349</td>\n      <td>0.000337</td>\n      <td>balanced</td>\n      <td>gini</td>\n      <td>2</td>\n      <td>5</td>\n      <td>21</td>\n      <td>{'class_weight': 'balanced', 'criterion': 'gin...</td>\n      <td>0.311111</td>\n      <td>0.377778</td>\n      <td>0.377778</td>\n      <td>0.353160</td>\n      <td>0.312268</td>\n      <td>0.346419</td>\n      <td>0.029749</td>\n      <td>782</td>\n    </tr>\n    <tr>\n      <th>200</th>\n      <td>0.008514</td>\n      <td>0.000094</td>\n      <td>0.002175</td>\n      <td>0.000058</td>\n      <td>balanced</td>\n      <td>entropy</td>\n      <td>2</td>\n      <td>5</td>\n      <td>21</td>\n      <td>{'class_weight': 'balanced', 'criterion': 'ent...</td>\n      <td>0.318519</td>\n      <td>0.366667</td>\n      <td>0.381481</td>\n      <td>0.353160</td>\n      <td>0.345725</td>\n      <td>0.353110</td>\n      <td>0.021165</td>\n      <td>781</td>\n    </tr>\n    <tr>\n      <th>588</th>\n      <td>0.007852</td>\n      <td>0.000022</td>\n      <td>0.002129</td>\n      <td>0.000007</td>\n      <td>None</td>\n      <td>entropy</td>\n      <td>1</td>\n      <td>5</td>\n      <td>21</td>\n      <td>{'class_weight': None, 'criterion': 'entropy',...</td>\n      <td>0.355556</td>\n      <td>0.366667</td>\n      <td>0.374074</td>\n      <td>0.345725</td>\n      <td>0.327138</td>\n      <td>0.353832</td>\n      <td>0.016467</td>\n      <td>780</td>\n    </tr>\n    <tr>\n      <th>...</th>\n      <td>...</td>\n      <td>...</td>\n      <td>...</td>\n      <td>...</td>\n      <td>...</td>\n      <td>...</td>\n      <td>...</td>\n      <td>...</td>\n      <td>...</td>\n      <td>...</td>\n      <td>...</td>\n      <td>...</td>\n      <td>...</td>\n      <td>...</td>\n      <td>...</td>\n      <td>...</td>\n      <td>...</td>\n      <td>...</td>\n    </tr>\n    <tr>\n      <th>515</th>\n      <td>0.162926</td>\n      <td>0.003480</td>\n      <td>0.013317</td>\n      <td>0.000776</td>\n      <td>None</td>\n      <td>gini</td>\n      <td>31</td>\n      <td>100</td>\n      <td>21</td>\n      <td>{'class_weight': None, 'criterion': 'gini', 'm...</td>\n      <td>0.918519</td>\n      <td>0.911111</td>\n      <td>0.900000</td>\n      <td>0.910781</td>\n      <td>0.877323</td>\n      <td>0.903547</td>\n      <td>0.014380</td>\n      <td>4</td>\n    </tr>\n    <tr>\n      <th>311</th>\n      <td>0.183232</td>\n      <td>0.005130</td>\n      <td>0.013281</td>\n      <td>0.000151</td>\n      <td>balanced</td>\n      <td>entropy</td>\n      <td>29</td>\n      <td>100</td>\n      <td>21</td>\n      <td>{'class_weight': 'balanced', 'criterion': 'ent...</td>\n      <td>0.922222</td>\n      <td>0.900000</td>\n      <td>0.907407</td>\n      <td>0.907063</td>\n      <td>0.881041</td>\n      <td>0.903547</td>\n      <td>0.013380</td>\n      <td>4</td>\n    </tr>\n    <tr>\n      <th>118</th>\n      <td>0.085343</td>\n      <td>0.001074</td>\n      <td>0.007607</td>\n      <td>0.000155</td>\n      <td>balanced</td>\n      <td>gini</td>\n      <td>30</td>\n      <td>50</td>\n      <td>21</td>\n      <td>{'class_weight': 'balanced', 'criterion': 'gin...</td>\n      <td>0.922222</td>\n      <td>0.903704</td>\n      <td>0.900000</td>\n      <td>0.907063</td>\n      <td>0.884758</td>\n      <td>0.903549</td>\n      <td>0.012056</td>\n      <td>3</td>\n    </tr>\n    <tr>\n      <th>502</th>\n      <td>0.080439</td>\n      <td>0.000513</td>\n      <td>0.007653</td>\n      <td>0.000582</td>\n      <td>None</td>\n      <td>gini</td>\n      <td>28</td>\n      <td>50</td>\n      <td>21</td>\n      <td>{'class_weight': None, 'criterion': 'gini', 'm...</td>\n      <td>0.922222</td>\n      <td>0.900000</td>\n      <td>0.907407</td>\n      <td>0.903346</td>\n      <td>0.888476</td>\n      <td>0.904290</td>\n      <td>0.010961</td>\n      <td>2</td>\n    </tr>\n    <tr>\n      <th>291</th>\n      <td>0.196192</td>\n      <td>0.014275</td>\n      <td>0.013319</td>\n      <td>0.000144</td>\n      <td>balanced</td>\n      <td>entropy</td>\n      <td>24</td>\n      <td>100</td>\n      <td>21</td>\n      <td>{'class_weight': 'balanced', 'criterion': 'ent...</td>\n      <td>0.922222</td>\n      <td>0.900000</td>\n      <td>0.903704</td>\n      <td>0.910781</td>\n      <td>0.884758</td>\n      <td>0.904293</td>\n      <td>0.012361</td>\n      <td>1</td>\n    </tr>\n  </tbody>\n</table>\n<p>784 rows × 18 columns</p>\n</div>"
     },
     "execution_count": 27,
     "metadata": {},
     "output_type": "execute_result"
    }
   ]
  },
  {
   "cell_type": "code",
   "metadata": {
    "id": "KkrTpWNoyUqF"
   },
   "source": [],
   "execution_count": null,
   "outputs": []
  },
  {
   "cell_type": "code",
   "metadata": {
    "id": "Wi2t0DNqyUqF"
   },
   "source": [],
   "execution_count": null,
   "outputs": []
  },
  {
   "cell_type": "markdown",
   "metadata": {
    "id": "WWa7ucWxyUqF"
   },
   "source": [
    "## 5. Progress bar"
   ]
  },
  {
   "cell_type": "markdown",
   "metadata": {
    "id": "u2Q8KPBiyUqF"
   },
   "source": [
    "Gridsearch can be a quite long process and you may find yourself wondering when it will end.\n",
    "1. Create a manual gridsearch for the same parameters values of random forest iterating through the list of the possible values and calculating `cross_val_score` for each combination. Try to increase `n_jobs`. The value `cv` for `cross_val_score` is 5.\n",
    "2. Track the progress using the library `tqdm.notebook`.\n",
    "3. Create a dataframe from the results of the gridsearch with the columns corresponding to the names of the parameters and `mean_accuracy` and `std_accuracy`.\n",
    "4. Sort it descendingly by the `mean_accuracy`, check if there is a huge difference between different combinations (sometimes a simpler model may give a comparable result)."
   ]
  },
  {
   "cell_type": "code",
   "metadata": {
    "id": "a1x6AdqTyUqG"
   },
   "source": [
    "grid = list(ParameterGrid(param_grid))\n"
   ],
   "execution_count": 28,
   "outputs": []
  },
  {
   "cell_type": "code",
   "metadata": {
    "id": "UCBvyIm-yUqG"
   },
   "source": [
    "data = []\n",
    "\n",
    "for params in tqdm(grid):\n",
    "    row = params\n",
    "    estimator = RandomForestClassifier(**params)\n",
    "    scores = cross_val_score(estimator, X_train, y_train, cv=5, n_jobs=-1)\n",
    "    row['mean_accuracy'] = np.mean(scores)\n",
    "    row['std_accuracy'] = np.std(scores)\n",
    "    data.append(row)"
   ],
   "execution_count": 29,
   "outputs": [
    {
     "data": {
      "text/plain": "  0%|          | 0/784 [00:00<?, ?it/s]",
      "application/vnd.jupyter.widget-view+json": {
       "version_major": 2,
       "version_minor": 0,
       "model_id": "e81880d7ccaf46c59e5451aa0d9ca5db"
      }
     },
     "metadata": {},
     "output_type": "display_data"
    }
   ]
  },
  {
   "cell_type": "code",
   "metadata": {
    "id": "pXNzb1QnyUqG"
   },
   "source": [
    "results4 = pd.DataFrame(data)\n",
    "results4 = results4.sort_values('mean_accuracy', ascending=False)\n",
    "results4"
   ],
   "execution_count": 30,
   "outputs": [
    {
     "data": {
      "text/plain": "    class_weight criterion  max_depth  n_estimators  random_state  \\\n291     balanced   entropy         24           100            21   \n502         None      gini         28            50            21   \n118     balanced      gini         30            50            21   \n515         None      gini         31           100            21   \n311     balanced   entropy         29           100            21   \n..           ...       ...        ...           ...           ...   \n588         None   entropy          1             5            21   \n200     balanced   entropy          2             5            21   \n4       balanced      gini          2             5            21   \n0       balanced      gini          1             5            21   \n196     balanced   entropy          1             5            21   \n\n     mean_accuracy  std_accuracy  \n291       0.904293      0.012361  \n502       0.904290      0.010961  \n118       0.903549      0.012056  \n515       0.903547      0.014380  \n311       0.903547      0.013380  \n..             ...           ...  \n588       0.353832      0.016467  \n200       0.353110      0.021165  \n4         0.346419      0.029749  \n0         0.283390      0.011062  \n196       0.270794      0.024718  \n\n[784 rows x 7 columns]",
      "text/html": "<div>\n<style scoped>\n    .dataframe tbody tr th:only-of-type {\n        vertical-align: middle;\n    }\n\n    .dataframe tbody tr th {\n        vertical-align: top;\n    }\n\n    .dataframe thead th {\n        text-align: right;\n    }\n</style>\n<table border=\"1\" class=\"dataframe\">\n  <thead>\n    <tr style=\"text-align: right;\">\n      <th></th>\n      <th>class_weight</th>\n      <th>criterion</th>\n      <th>max_depth</th>\n      <th>n_estimators</th>\n      <th>random_state</th>\n      <th>mean_accuracy</th>\n      <th>std_accuracy</th>\n    </tr>\n  </thead>\n  <tbody>\n    <tr>\n      <th>291</th>\n      <td>balanced</td>\n      <td>entropy</td>\n      <td>24</td>\n      <td>100</td>\n      <td>21</td>\n      <td>0.904293</td>\n      <td>0.012361</td>\n    </tr>\n    <tr>\n      <th>502</th>\n      <td>None</td>\n      <td>gini</td>\n      <td>28</td>\n      <td>50</td>\n      <td>21</td>\n      <td>0.904290</td>\n      <td>0.010961</td>\n    </tr>\n    <tr>\n      <th>118</th>\n      <td>balanced</td>\n      <td>gini</td>\n      <td>30</td>\n      <td>50</td>\n      <td>21</td>\n      <td>0.903549</td>\n      <td>0.012056</td>\n    </tr>\n    <tr>\n      <th>515</th>\n      <td>None</td>\n      <td>gini</td>\n      <td>31</td>\n      <td>100</td>\n      <td>21</td>\n      <td>0.903547</td>\n      <td>0.014380</td>\n    </tr>\n    <tr>\n      <th>311</th>\n      <td>balanced</td>\n      <td>entropy</td>\n      <td>29</td>\n      <td>100</td>\n      <td>21</td>\n      <td>0.903547</td>\n      <td>0.013380</td>\n    </tr>\n    <tr>\n      <th>...</th>\n      <td>...</td>\n      <td>...</td>\n      <td>...</td>\n      <td>...</td>\n      <td>...</td>\n      <td>...</td>\n      <td>...</td>\n    </tr>\n    <tr>\n      <th>588</th>\n      <td>None</td>\n      <td>entropy</td>\n      <td>1</td>\n      <td>5</td>\n      <td>21</td>\n      <td>0.353832</td>\n      <td>0.016467</td>\n    </tr>\n    <tr>\n      <th>200</th>\n      <td>balanced</td>\n      <td>entropy</td>\n      <td>2</td>\n      <td>5</td>\n      <td>21</td>\n      <td>0.353110</td>\n      <td>0.021165</td>\n    </tr>\n    <tr>\n      <th>4</th>\n      <td>balanced</td>\n      <td>gini</td>\n      <td>2</td>\n      <td>5</td>\n      <td>21</td>\n      <td>0.346419</td>\n      <td>0.029749</td>\n    </tr>\n    <tr>\n      <th>0</th>\n      <td>balanced</td>\n      <td>gini</td>\n      <td>1</td>\n      <td>5</td>\n      <td>21</td>\n      <td>0.283390</td>\n      <td>0.011062</td>\n    </tr>\n    <tr>\n      <th>196</th>\n      <td>balanced</td>\n      <td>entropy</td>\n      <td>1</td>\n      <td>5</td>\n      <td>21</td>\n      <td>0.270794</td>\n      <td>0.024718</td>\n    </tr>\n  </tbody>\n</table>\n<p>784 rows × 7 columns</p>\n</div>"
     },
     "execution_count": 30,
     "metadata": {},
     "output_type": "execute_result"
    }
   ]
  },
  {
   "cell_type": "markdown",
   "metadata": {
    "id": "SQMTOQynyUqG"
   },
   "source": [
    "## 6. Predictions"
   ]
  },
  {
   "cell_type": "markdown",
   "metadata": {
    "id": "FF5VVXbGyUqG"
   },
   "source": [
    "1. Choose the best model and use it to make predictions for the test dataset.\n",
    "2. Calculate the final accuracy."
   ]
  },
  {
   "cell_type": "code",
   "metadata": {
    "id": "-vW7NVMOyUqG"
   },
   "source": [
    "rfc = RandomForestClassifier(n_estimators=100, max_depth=24, criterion='entropy', class_weight='balanced', random_state=21)\n",
    "rfc.fit(X_train, y_train)\n",
    "y_pred = rfc.predict(X_test)\n"
   ],
   "execution_count": 32,
   "outputs": []
  },
  {
   "cell_type": "code",
   "metadata": {
    "id": "qO--d7bmyUqG"
   },
   "source": [
    "from sklearn.metrics import accuracy_score\n",
    "accuracy_score(y_test, y_pred)"
   ],
   "execution_count": 33,
   "outputs": [
    {
     "data": {
      "text/plain": "0.9260355029585798"
     },
     "execution_count": 33,
     "metadata": {},
     "output_type": "execute_result"
    }
   ]
  },
  {
   "cell_type": "code",
   "metadata": {
    "id": "ed7SrIi7yUqH"
   },
   "source": [
    ""
   ],
   "execution_count": null,
   "outputs": []
  }
 ]
}